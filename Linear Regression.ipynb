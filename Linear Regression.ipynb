{
 "cells": [
  {
   "cell_type": "code",
   "execution_count": 104,
   "metadata": {},
   "outputs": [],
   "source": [
    "import pandas as pd\n",
    "import numpy as np\n",
    "import matplotlib.pyplot as plt\n",
    "import seaborn as sns\n",
    "\n",
    "\n",
    "from sklearn.model_selection import train_test_split\n",
    "from sklearn.linear_model import LinearRegression\n",
    "from sklearn.metrics import mean_squared_error, r2_score"
   ]
  },
  {
   "cell_type": "code",
   "execution_count": 105,
   "metadata": {},
   "outputs": [],
   "source": [
    "df=pd.read_csv(\"advertising.csv\")"
   ]
  },
  {
   "cell_type": "code",
   "execution_count": 26,
   "metadata": {},
   "outputs": [],
   "source": [
    "df.drop(\"Unnamed: 0\", axis=1, inplace=True)"
   ]
  },
  {
   "cell_type": "code",
   "execution_count": 27,
   "metadata": {},
   "outputs": [
    {
     "data": {
      "text/html": [
       "<div>\n",
       "<style scoped>\n",
       "    .dataframe tbody tr th:only-of-type {\n",
       "        vertical-align: middle;\n",
       "    }\n",
       "\n",
       "    .dataframe tbody tr th {\n",
       "        vertical-align: top;\n",
       "    }\n",
       "\n",
       "    .dataframe thead th {\n",
       "        text-align: right;\n",
       "    }\n",
       "</style>\n",
       "<table border=\"1\" class=\"dataframe\">\n",
       "  <thead>\n",
       "    <tr style=\"text-align: right;\">\n",
       "      <th></th>\n",
       "      <th>TV</th>\n",
       "      <th>radio</th>\n",
       "      <th>newspaper</th>\n",
       "      <th>sales</th>\n",
       "    </tr>\n",
       "  </thead>\n",
       "  <tbody>\n",
       "    <tr>\n",
       "      <td>0</td>\n",
       "      <td>230.1</td>\n",
       "      <td>37.8</td>\n",
       "      <td>69.2</td>\n",
       "      <td>22.1</td>\n",
       "    </tr>\n",
       "    <tr>\n",
       "      <td>1</td>\n",
       "      <td>44.5</td>\n",
       "      <td>39.3</td>\n",
       "      <td>45.1</td>\n",
       "      <td>10.4</td>\n",
       "    </tr>\n",
       "    <tr>\n",
       "      <td>2</td>\n",
       "      <td>17.2</td>\n",
       "      <td>45.9</td>\n",
       "      <td>69.3</td>\n",
       "      <td>9.3</td>\n",
       "    </tr>\n",
       "    <tr>\n",
       "      <td>3</td>\n",
       "      <td>151.5</td>\n",
       "      <td>41.3</td>\n",
       "      <td>58.5</td>\n",
       "      <td>18.5</td>\n",
       "    </tr>\n",
       "    <tr>\n",
       "      <td>4</td>\n",
       "      <td>180.8</td>\n",
       "      <td>10.8</td>\n",
       "      <td>58.4</td>\n",
       "      <td>12.9</td>\n",
       "    </tr>\n",
       "  </tbody>\n",
       "</table>\n",
       "</div>"
      ],
      "text/plain": [
       "      TV  radio  newspaper  sales\n",
       "0  230.1   37.8       69.2   22.1\n",
       "1   44.5   39.3       45.1   10.4\n",
       "2   17.2   45.9       69.3    9.3\n",
       "3  151.5   41.3       58.5   18.5\n",
       "4  180.8   10.8       58.4   12.9"
      ]
     },
     "execution_count": 27,
     "metadata": {},
     "output_type": "execute_result"
    }
   ],
   "source": [
    "df.head()"
   ]
  },
  {
   "cell_type": "code",
   "execution_count": 28,
   "metadata": {},
   "outputs": [
    {
     "data": {
      "text/html": [
       "<div>\n",
       "<style scoped>\n",
       "    .dataframe tbody tr th:only-of-type {\n",
       "        vertical-align: middle;\n",
       "    }\n",
       "\n",
       "    .dataframe tbody tr th {\n",
       "        vertical-align: top;\n",
       "    }\n",
       "\n",
       "    .dataframe thead th {\n",
       "        text-align: right;\n",
       "    }\n",
       "</style>\n",
       "<table border=\"1\" class=\"dataframe\">\n",
       "  <thead>\n",
       "    <tr style=\"text-align: right;\">\n",
       "      <th></th>\n",
       "      <th>TV</th>\n",
       "      <th>radio</th>\n",
       "      <th>newspaper</th>\n",
       "      <th>sales</th>\n",
       "    </tr>\n",
       "  </thead>\n",
       "  <tbody>\n",
       "    <tr>\n",
       "      <td>TV</td>\n",
       "      <td>1.000000</td>\n",
       "      <td>0.054809</td>\n",
       "      <td>0.056648</td>\n",
       "      <td>0.782224</td>\n",
       "    </tr>\n",
       "    <tr>\n",
       "      <td>radio</td>\n",
       "      <td>0.054809</td>\n",
       "      <td>1.000000</td>\n",
       "      <td>0.354104</td>\n",
       "      <td>0.576223</td>\n",
       "    </tr>\n",
       "    <tr>\n",
       "      <td>newspaper</td>\n",
       "      <td>0.056648</td>\n",
       "      <td>0.354104</td>\n",
       "      <td>1.000000</td>\n",
       "      <td>0.228299</td>\n",
       "    </tr>\n",
       "    <tr>\n",
       "      <td>sales</td>\n",
       "      <td>0.782224</td>\n",
       "      <td>0.576223</td>\n",
       "      <td>0.228299</td>\n",
       "      <td>1.000000</td>\n",
       "    </tr>\n",
       "  </tbody>\n",
       "</table>\n",
       "</div>"
      ],
      "text/plain": [
       "                 TV     radio  newspaper     sales\n",
       "TV         1.000000  0.054809   0.056648  0.782224\n",
       "radio      0.054809  1.000000   0.354104  0.576223\n",
       "newspaper  0.056648  0.354104   1.000000  0.228299\n",
       "sales      0.782224  0.576223   0.228299  1.000000"
      ]
     },
     "execution_count": 28,
     "metadata": {},
     "output_type": "execute_result"
    }
   ],
   "source": [
    "df.corr()"
   ]
  },
  {
   "cell_type": "code",
   "execution_count": 29,
   "metadata": {},
   "outputs": [
    {
     "data": {
      "image/png": "[encoded data removed]",
      "text/plain": [
       "<Figure size 432x288 with 1 Axes>"
      ]
     },
     "metadata": {
      "needs_background": "light"
     },
     "output_type": "display_data"
    }
   ],
   "source": [
    "sns.scatterplot(data=df,x=\"TV\",y=\"sales\")\n",
    "plt.show()"
   ]
  },
  {
   "cell_type": "code",
   "execution_count": 30,
   "metadata": {},
   "outputs": [
    {
     "data": {
      "image/png": "[encoded data removed]",
      "text/plain": [
       "<Figure size 432x288 with 1 Axes>"
      ]
     },
     "metadata": {
      "needs_background": "light"
     },
     "output_type": "display_data"
    }
   ],
   "source": [
    "sns.scatterplot(data=df,x=\"radio\",y=\"sales\")\n",
    "plt.show()"
   ]
  },
  {
   "cell_type": "code",
   "execution_count": 15,
   "metadata": {},
   "outputs": [
    {
     "data": {
      "image/png": "[encoded data removed]",
      "text/plain": [
       "<Figure size 432x288 with 1 Axes>"
      ]
     },
     "metadata": {
      "needs_background": "light"
     },
     "output_type": "display_data"
    }
   ],
   "source": [
    "sns.scatterplot(data=df,x=\"newspaper\",y=\"sales\")\n",
    "plt.show()"
   ]
  },
  {
   "cell_type": "markdown",
   "metadata": {},
   "source": [
    "# TV"
   ]
  },
  {
   "cell_type": "code",
   "execution_count": 43,
   "metadata": {},
   "outputs": [],
   "source": [
    "X=df[[\"TV\"]]\n",
    "y=df[\"sales\"]"
   ]
  },
  {
   "cell_type": "code",
   "execution_count": 45,
   "metadata": {},
   "outputs": [],
   "source": [
    "X_train,X_test,y_train,y_test = train_test_split(X,y,test_size=0.3, random_state=1)"
   ]
  },
  {
   "cell_type": "code",
   "execution_count": 46,
   "metadata": {},
   "outputs": [],
   "source": [
    "lr=LinearRegression()"
   ]
  },
  {
   "cell_type": "code",
   "execution_count": 47,
   "metadata": {},
   "outputs": [
    {
     "data": {
      "text/plain": [
       "LinearRegression(copy_X=True, fit_intercept=True, n_jobs=None, normalize=False)"
      ]
     },
     "execution_count": 47,
     "metadata": {},
     "output_type": "execute_result"
    }
   ],
   "source": [
    "lr.fit(X_train,y_train)"
   ]
  },
  {
   "cell_type": "code",
   "execution_count": null,
   "metadata": {},
   "outputs": [],
   "source": [
    "#for TV"
   ]
  },
  {
   "cell_type": "code",
   "execution_count": 48,
   "metadata": {},
   "outputs": [
    {
     "data": {
      "text/plain": [
       "6.923519536059554"
      ]
     },
     "execution_count": 48,
     "metadata": {},
     "output_type": "execute_result"
    }
   ],
   "source": [
    "lr.intercept_"
   ]
  },
  {
   "cell_type": "code",
   "execution_count": null,
   "metadata": {},
   "outputs": [],
   "source": [
    "#sales"
   ]
  },
  {
   "cell_type": "code",
   "execution_count": 50,
   "metadata": {},
   "outputs": [
    {
     "data": {
      "text/plain": [
       "array([0.04812204])"
      ]
     },
     "execution_count": 50,
     "metadata": {},
     "output_type": "execute_result"
    }
   ],
   "source": [
    "lr.coef_"
   ]
  },
  {
   "cell_type": "code",
   "execution_count": 57,
   "metadata": {},
   "outputs": [],
   "source": [
    "y_pred=lr.predict(X_test)"
   ]
  },
  {
   "cell_type": "code",
   "execution_count": 58,
   "metadata": {},
   "outputs": [
    {
     "data": {
      "text/plain": [
       "array([17.06764591, 16.66823297, 11.52879892, 20.4073156 , 19.1368937 ,\n",
       "       20.57093054, 14.78184893, 15.62398466, 10.32093567, 17.2890073 ,\n",
       "       14.83959538, 10.25356482, 17.25532187, 12.20731971, 17.78947654,\n",
       "       12.97246017, 13.26119242, 20.91259704,  8.1554438 , 17.06283371,\n",
       "       11.75497252, 10.18619396,  8.13138278, 12.09182681, 12.35649804,\n",
       "       15.98971218,  8.99757953, 18.89628349, 14.95027608, 18.47762173,\n",
       "       18.46799732, 18.2081383 , 14.12738917, 15.11389102, 18.87703468,\n",
       "       15.82128503, 17.62586159, 13.15051172, 17.35637816,  7.86671155,\n",
       "        7.55391828, 11.2737521 ,  7.82340171, 16.74522823,  7.27481044,\n",
       "       14.01189627, 10.68666319, 17.89534503, 16.78853807, 17.96752809,\n",
       "       20.864475  , 12.84734286,  7.85708714, 15.71060434, 19.70473379,\n",
       "       14.89252963, 17.43818563,  8.12657058, 18.0926454 ,  8.99276733])"
      ]
     },
     "execution_count": 58,
     "metadata": {},
     "output_type": "execute_result"
    }
   ],
   "source": [
    "y_pred"
   ]
  },
  {
   "cell_type": "code",
   "execution_count": 59,
   "metadata": {},
   "outputs": [
    {
     "data": {
      "text/plain": [
       "10.571057434656955"
      ]
     },
     "execution_count": 59,
     "metadata": {},
     "output_type": "execute_result"
    }
   ],
   "source": [
    "mean_squared_error(y_test, y_pred)"
   ]
  },
  {
   "cell_type": "code",
   "execution_count": 60,
   "metadata": {},
   "outputs": [
    {
     "data": {
      "text/plain": [
       "0.575061860494331"
      ]
     },
     "execution_count": 60,
     "metadata": {},
     "output_type": "execute_result"
    }
   ],
   "source": [
    "r2_score(y_test, y_pred)"
   ]
  },
  {
   "cell_type": "code",
   "execution_count": 62,
   "metadata": {},
   "outputs": [
    {
     "data": {
      "image/png": "[encoded data removed]",
      "text/plain": [
       "<Figure size 432x288 with 1 Axes>"
      ]
     },
     "metadata": {
      "needs_background": "light"
     },
     "output_type": "display_data"
    }
   ],
   "source": [
    "plt.figure()\n",
    "plt.scatter(df[\"TV\"],df[\"sales\"])\n",
    "plt.plot(X_test, y_pred, color=\"red\")\n",
    "plt.show()"
   ]
  },
  {
   "cell_type": "markdown",
   "metadata": {},
   "source": [
    "# Radio"
   ]
  },
  {
   "cell_type": "code",
   "execution_count": 64,
   "metadata": {},
   "outputs": [],
   "source": [
    "X=df[[\"radio\"]]\n",
    "y=df[\"sales\"]"
   ]
  },
  {
   "cell_type": "code",
   "execution_count": 65,
   "metadata": {},
   "outputs": [],
   "source": [
    "X_train,X_test,y_train,y_test = train_test_split(X,y,test_size=0.3, random_state=1)"
   ]
  },
  {
   "cell_type": "code",
   "execution_count": 66,
   "metadata": {},
   "outputs": [],
   "source": [
    "lr=LinearRegression()"
   ]
  },
  {
   "cell_type": "code",
   "execution_count": 67,
   "metadata": {},
   "outputs": [
    {
     "data": {
      "text/plain": [
       "LinearRegression(copy_X=True, fit_intercept=True, n_jobs=None, normalize=False)"
      ]
     },
     "execution_count": 67,
     "metadata": {},
     "output_type": "execute_result"
    }
   ],
   "source": [
    "lr.fit(X_train,y_train)"
   ]
  },
  {
   "cell_type": "code",
   "execution_count": 68,
   "metadata": {},
   "outputs": [
    {
     "data": {
      "text/plain": [
       "9.440936561425886"
      ]
     },
     "execution_count": 68,
     "metadata": {},
     "output_type": "execute_result"
    }
   ],
   "source": [
    "lr.intercept_"
   ]
  },
  {
   "cell_type": "code",
   "execution_count": 69,
   "metadata": {},
   "outputs": [
    {
     "data": {
      "text/plain": [
       "array([0.1874808])"
      ]
     },
     "execution_count": 69,
     "metadata": {},
     "output_type": "execute_result"
    }
   ],
   "source": [
    "lr.coef_"
   ]
  },
  {
   "cell_type": "code",
   "execution_count": 70,
   "metadata": {},
   "outputs": [],
   "source": [
    "y_pred=lr.predict(X_test)"
   ]
  },
  {
   "cell_type": "code",
   "execution_count": 71,
   "metadata": {},
   "outputs": [
    {
     "data": {
      "text/plain": [
       "14.604130559272193"
      ]
     },
     "execution_count": 71,
     "metadata": {},
     "output_type": "execute_result"
    }
   ],
   "source": [
    "mean_squared_error(y_test, y_pred)"
   ]
  },
  {
   "cell_type": "code",
   "execution_count": 72,
   "metadata": {},
   "outputs": [
    {
     "data": {
      "text/plain": [
       "0.41293932917162335"
      ]
     },
     "execution_count": 72,
     "metadata": {},
     "output_type": "execute_result"
    }
   ],
   "source": [
    "r2_score(y_test, y_pred)"
   ]
  },
  {
   "cell_type": "code",
   "execution_count": 73,
   "metadata": {},
   "outputs": [
    {
     "data": {
      "image/png": "[encoded data removed]",
      "text/plain": [
       "<Figure size 432x288 with 1 Axes>"
      ]
     },
     "metadata": {
      "needs_background": "light"
     },
     "output_type": "display_data"
    }
   ],
   "source": [
    "plt.figure()\n",
    "plt.scatter(df[\"radio\"],df[\"sales\"])\n",
    "plt.plot(X_test, y_pred, color=\"red\")\n",
    "plt.show()"
   ]
  },
  {
   "cell_type": "markdown",
   "metadata": {},
   "source": [
    "# Newspaper"
   ]
  },
  {
   "cell_type": "code",
   "execution_count": 74,
   "metadata": {},
   "outputs": [],
   "source": [
    "X=df[[\"newspaper\"]]\n",
    "y=df[\"sales\"]"
   ]
  },
  {
   "cell_type": "code",
   "execution_count": 75,
   "metadata": {},
   "outputs": [],
   "source": [
    "X_train,X_test,y_train,y_test = train_test_split(X,y,test_size=0.3, random_state=1)"
   ]
  },
  {
   "cell_type": "code",
   "execution_count": 76,
   "metadata": {},
   "outputs": [],
   "source": [
    "lr=LinearRegression()"
   ]
  },
  {
   "cell_type": "code",
   "execution_count": 77,
   "metadata": {},
   "outputs": [
    {
     "data": {
      "text/plain": [
       "LinearRegression(copy_X=True, fit_intercept=True, n_jobs=None, normalize=False)"
      ]
     },
     "execution_count": 77,
     "metadata": {},
     "output_type": "execute_result"
    }
   ],
   "source": [
    "lr.fit(X_train,y_train)"
   ]
  },
  {
   "cell_type": "code",
   "execution_count": 78,
   "metadata": {},
   "outputs": [
    {
     "data": {
      "text/plain": [
       "11.829668884877877"
      ]
     },
     "execution_count": 78,
     "metadata": {},
     "output_type": "execute_result"
    }
   ],
   "source": [
    "lr.intercept_"
   ]
  },
  {
   "cell_type": "code",
   "execution_count": 79,
   "metadata": {},
   "outputs": [
    {
     "data": {
      "text/plain": [
       "array([0.06532045])"
      ]
     },
     "execution_count": 79,
     "metadata": {},
     "output_type": "execute_result"
    }
   ],
   "source": [
    "lr.coef_"
   ]
  },
  {
   "cell_type": "code",
   "execution_count": 80,
   "metadata": {},
   "outputs": [],
   "source": [
    "y_pred=lr.predict(X_test)"
   ]
  },
  {
   "cell_type": "code",
   "execution_count": 81,
   "metadata": {},
   "outputs": [
    {
     "data": {
      "text/plain": [
       "25.49745237441493"
      ]
     },
     "execution_count": 81,
     "metadata": {},
     "output_type": "execute_result"
    }
   ],
   "source": [
    "mean_squared_error(y_test, y_pred)"
   ]
  },
  {
   "cell_type": "code",
   "execution_count": 82,
   "metadata": {},
   "outputs": [
    {
     "data": {
      "text/plain": [
       "-0.024953278429509007"
      ]
     },
     "execution_count": 82,
     "metadata": {},
     "output_type": "execute_result"
    }
   ],
   "source": [
    "r2_score(y_test, y_pred)"
   ]
  },
  {
   "cell_type": "markdown",
   "metadata": {},
   "source": [
    "# Multiple Regression"
   ]
  },
  {
   "cell_type": "code",
   "execution_count": 84,
   "metadata": {},
   "outputs": [],
   "source": [
    "X=df[[\"TV\",\"radio\", \"newspaper\"]]\n",
    "y=df[\"sales\"]"
   ]
  },
  {
   "cell_type": "code",
   "execution_count": 85,
   "metadata": {},
   "outputs": [],
   "source": [
    "X_train,X_test,y_train,y_test = train_test_split(X,y,test_size=0.3, random_state=1)"
   ]
  },
  {
   "cell_type": "code",
   "execution_count": 90,
   "metadata": {},
   "outputs": [],
   "source": [
    "lrn=LinearRegression()"
   ]
  },
  {
   "cell_type": "code",
   "execution_count": 91,
   "metadata": {},
   "outputs": [
    {
     "data": {
      "text/plain": [
       "LinearRegression(copy_X=True, fit_intercept=True, n_jobs=None, normalize=False)"
      ]
     },
     "execution_count": 91,
     "metadata": {},
     "output_type": "execute_result"
    }
   ],
   "source": [
    "lrn.fit(X_train,y_train)"
   ]
  },
  {
   "cell_type": "code",
   "execution_count": 92,
   "metadata": {},
   "outputs": [
    {
     "data": {
      "text/plain": [
       "2.937215734690609"
      ]
     },
     "execution_count": 92,
     "metadata": {},
     "output_type": "execute_result"
    }
   ],
   "source": [
    "lrn.intercept_"
   ]
  },
  {
   "cell_type": "code",
   "execution_count": 93,
   "metadata": {},
   "outputs": [
    {
     "data": {
      "text/plain": [
       "array([0.04695205, 0.17658644, 0.00185115])"
      ]
     },
     "execution_count": 93,
     "metadata": {},
     "output_type": "execute_result"
    }
   ],
   "source": [
    "lrn.coef_"
   ]
  },
  {
   "cell_type": "code",
   "execution_count": 95,
   "metadata": {},
   "outputs": [],
   "source": [
    "y_pred=lrn.predict(X_test)"
   ]
  },
  {
   "cell_type": "code",
   "execution_count": 96,
   "metadata": {},
   "outputs": [
    {
     "data": {
      "text/plain": [
       "1.9289249074665733"
      ]
     },
     "execution_count": 96,
     "metadata": {},
     "output_type": "execute_result"
    }
   ],
   "source": [
    "mean_squared_error(y_test, y_pred)"
   ]
  },
  {
   "cell_type": "code",
   "execution_count": 97,
   "metadata": {},
   "outputs": [
    {
     "data": {
      "text/plain": [
       "0.9224605706201434"
      ]
     },
     "execution_count": 97,
     "metadata": {},
     "output_type": "execute_result"
    }
   ],
   "source": [
    "r2_score(y_test, y_pred)"
   ]
  },
  {
   "cell_type": "markdown",
   "metadata": {},
   "source": [
    "# Gradient Descent"
   ]
  },
  {
   "cell_type": "code",
   "execution_count": 18,
   "metadata": {},
   "outputs": [],
   "source": [
    "\n",
    "def gradient_descent(x,y):\n",
    "    \n",
    "    \n",
    "    n = len(x)\n",
    "    learning_rate = 0.01\n",
    "    intercept = slope = 0\n",
    "    iterations = 350\n",
    "    \n",
    "    for i in range(iterations):\n",
    "        \n",
    "        y_pred = x*slope + intercept\n",
    "        \n",
    "        mse = mean_squared_error(y_pred,y)\n",
    "        \n",
    "        md = (2/n)*sum(x*(y-y_pred))\n",
    "        bd = (2/n)*sum(y-y_pred)\n",
    "\n",
    "        slope = slope + (learning_rate * md)\n",
    "        intercept = intercept + (learning_rate * bd)\n",
    "        \n",
    "        print(\"slope: \",slope,\"intercept: \",intercept,\"mse: \",mse,\"iteration: \",i)"
   ]
  },
  {
   "cell_type": "code",
   "execution_count": 19,
   "metadata": {},
   "outputs": [],
   "source": [
    "x = np.array([1,2,3,4])\n",
    "y = np.array([12,15,16,18])"
   ]
  },
  {
   "cell_type": "code",
   "execution_count": 89,
   "metadata": {},
   "outputs": [],
   "source": [
    "def gradient_descent(x,y):\n",
    "    \n",
    "    \n",
    "    n = len(x)\n",
    "    learning_rate = 0.000001\n",
    "    intercept = slope = 0\n",
    "    iterations = 500\n",
    "    \n",
    "    for i in range(iterations):\n",
    "        \n",
    "                \n",
    "        y_pred = x*slope + intercept\n",
    "        \n",
    "        mse = mean_squared_error(y_pred,y)\n",
    "        \n",
    "        md = (2/n)*sum(x*(y-y_pred))\n",
    "        bd = (2/n)*sum(y-y_pred)\n",
    "\n",
    "        slope = slope + (learning_rate * md)\n",
    "        intercept = intercept + (learning_rate * bd)\n",
    "        \n",
    "        print(\"slope: \",slope,\"intercept: \",intercept,\"mse: \",mse,\"iteration: \",i)"
   ]
  },
  {
   "cell_type": "code",
   "execution_count": 90,
   "metadata": {},
   "outputs": [],
   "source": [
    "x=df[\"TV\"]\n",
    "y=df[\"sales\"]"
   ]
  },
  {
   "cell_type": "code",
   "execution_count": 91,
   "metadata": {
    "collapsed": true
   },
   "outputs": [
    {
     "name": "stdout",
     "output_type": "stream",
     "text": [
      "slope:  0.0048210834 intercept:  2.8045000000000003e-05 mse:  223.71625 iteration:  0\n",
      "slope:  0.009362963905011536 intercept:  5.4672135598311e-05 mse:  201.1456684313534 iteration:  1\n",
      "slope:  0.013641810902204354 intercept:  7.996351901403448e-05 mse:  181.11363206948997 iteration:  2\n",
      "slope:  0.017672857366246283 intercept:  0.00010399650712782168 mse:  163.33462698689567 iteration:  3\n",
      "slope:  0.02147045408945833 intercept:  0.00012684397687625487 mse:  147.55525142903932 iteration:  4\n",
      "slope:  0.02504812077135626 intercept:  0.00014857458469740275 mse:  133.5506041108643 iteration:  5\n",
      "slope:  0.028418594149460095 intercept:  0.00016925301095118908 mse:  121.12107872690622 iteration:  6\n",
      "slope:  0.03159387334271952 intercept:  0.0001889401901847232 mse:  110.08951898759078 iteration:  7\n",
      "slope:  0.03458526256898015 intercept:  0.00020769352806234917 mse:  100.29869363279965 iteration:  8\n",
      "slope:  0.03740341138856696 intercept:  0.00022556710573269452 mse:  91.60905543438868 iteration:  9\n",
      "slope:  0.04005835261725402 intercept:  0.00024261187236027635 mse:  83.89675224700159 iteration:  10\n",
      "slope:  0.04255953804359269 intercept:  0.0002588758265070865 mse:  77.05186175893542 iteration:  11\n",
      "slope:  0.044915872077753716 intercept:  0.00027440418700988356 mse:  70.9768247831824 iteration:  12\n",
      "slope:  0.047135743451674705 intercept:  0.00028923955396152335 mse:  65.58505475854165 iteration:  13\n",
      "slope:  0.049227055083367326 intercept:  0.0003034220603694297 mse:  60.79970364219378 iteration:  14\n",
      "slope:  0.05119725221170238 intercept:  0.00031698951503111687 mse:  56.55256660415976 iteration:  15\n",
      "slope:  0.053053348901834274 intercept:  0.0003299775371354083 mse:  52.78310991239134 iteration:  16\n",
      "slope:  0.05480195301562528 intercept:  0.0003424196830685381 mse:  49.43760815306053 iteration:  17\n",
      "slope:  0.056449289735965746 intercept:  0.0003543475658765718 mse:  46.46837848895695 iteration:  18\n",
      "slope:  0.05800122372873794 intercept:  0.00036579096780943855 mse:  43.83310104197406 iteration:  19\n",
      "slope:  0.05946328002132119 intercept:  0.000376777946347237 mse:  41.4942157131803 iteration:  20\n",
      "slope:  0.06084066367196691 intercept:  0.00038733493408627407 mse:  39.41838684342769 iteration:  21\n",
      "slope:  0.06213827830006749 intercept:  0.0003974868328404355 mse:  37.57602808437199 iteration:  22\n",
      "slope:  0.06336074354328766 intercept:  0.0004072571022928945 mse:  35.94088070795087 iteration:  23\n",
      "slope:  0.06451241150370667 intercept:  0.00041666784351376216 mse:  34.48963934401761 iteration:  24\n",
      "slope:  0.06559738224152027 intercept:  0.00042573987764100757 mse:  33.20161981181581 iteration:  25\n",
      "slope:  0.06661951837146109 intercept:  0.0004344928200047548 mse:  32.05846431093847 iteration:  26\n",
      "slope:  0.067582458813901 intercept:  0.00044294514995884366 mse:  31.043879769895288 iteration:  27\n",
      "slope:  0.06848963174959058 intercept:  0.00045111427666825766 mse:  30.14340562300286 iteration:  28\n",
      "slope:  0.0693442668241547 intercept:  0.000459016601086626 mse:  29.344207705750897 iteration:  29\n",
      "slope:  0.07014940664579328 intercept:  0.00046666757434444227 mse:  28.63489533106096 iteration:  30\n",
      "slope:  0.07090791761711926 intercept:  0.00047408175275586546 mse:  28.005358939248435 iteration:  31\n",
      "slope:  0.07162250013969595 intercept:  0.0004812728496399294 mse:  27.446626007732984 iteration:  32\n",
      "slope:  0.07229569822760226 intercept:  0.00048825378414064767 mse:  26.950733166796635 iteration:  33\n",
      "slope:  0.07292990856425058 intercept:  0.000495036727219815 mse:  26.510612698671316 iteration:  34\n",
      "slope:  0.07352738903470016 intercept:  0.0005016331449862429 mse:  26.119991802241703 iteration:  35\n",
      "slope:  0.07409026676384135 intercept:  0.0005080538395156831 mse:  25.773303187595534 iteration:  36\n",
      "slope:  0.07462054568906709 intercept:  0.0005143089873067598 mse:  25.465605726136992 iteration:  37\n",
      "slope:  0.07512011369439064 intercept:  0.0005204081755098159 mse:  25.192514025298888 iteration:  38\n",
      "slope:  0.07559074933140758 intercept:  0.00052636043605765 mse:  24.950135924091022 iteration:  39\n",
      "slope:  0.0760341281510288 intercept:  0.0005321742778196508 mse:  24.73501701861644 iteration:  40\n",
      "slope:  0.0764518286685259 intercept:  0.0005378577168937998 mse:  24.544091426884833 iteration:  41\n",
      "slope:  0.07684533798312493 intercept:  0.0005434183051443826 mse:  24.374638091180053 iteration:  42\n",
      "slope:  0.07721605707215426 intercept:  0.000548863157087005 mse:  24.22424199516489 iteration:  43\n",
      "slope:  0.07756530577859429 intercept:  0.0005541989752166263 mse:  24.090759742955264 iteration:  44\n",
      "slope:  0.07789432750978476 intercept:  0.000559432073868778 mse:  23.972289009566904 iteration:  45\n",
      "slope:  0.07820429366401734 intercept:  0.0005645684016989152 mse:  23.86714142731521 iteration:  46\n",
      "slope:  0.07849630780077241 intercept:  0.0005696135628599293 mse:  23.773818521721957 iteration:  47\n",
      "slope:  0.07877140956944624 intercept:  0.0005745728369532134 mse:  23.69099035394592 iteration:  48\n",
      "slope:  0.07903057841055507 intercept:  0.0005794511978243089 mse:  23.617476565330982 iteration:  49\n",
      "slope:  0.07927473704259252 intercept:  0.0005842533312700452 mse:  23.55222955390186 iteration:  50\n",
      "slope:  0.07950475474695388 intercept:  0.0005889836517202118 mse:  23.494319543024186 iteration:  51\n",
      "slope:  0.07972145046262143 intercept:  0.0005936463179531504 mse:  23.44292132941446 iteration:  52\n",
      "slope:  0.0799255957016284 intercept:  0.0005982452479012145 mse:  23.397302521620873 iteration:  53\n",
      "slope:  0.08011791729568062 intercept:  0.0006027841325988053 mse:  23.356813101339547 iteration:  54\n",
      "slope:  0.08029909998371383 intercept:  0.0006072664493226398 mse:  23.320876158785005 iteration:  55\n",
      "slope:  0.08046978884959874 intercept:  0.0006116954739710307 mse:  23.28897967006712 iteration:  56\n",
      "slope:  0.08063059161867199 intercept:  0.0006160742927262485 mse:  23.260669199378682 iteration:  57\n",
      "slope:  0.0807820808212689 intercept:  0.0006204058130414859 mse:  23.235541421978688 iteration:  58\n",
      "slope:  0.08092479583096021 intercept:  0.0006246927739915369 mse:  23.213238375655248 iteration:  59\n",
      "slope:  0.08105924478474909 intercept:  0.000628937756024041 mse:  23.193442358734973 iteration:  60\n",
      "slope:  0.08118590639206438 intercept:  0.000633143190146006 mse:  23.17587140192076 iteration:  61\n",
      "slope:  0.08130523163899028 intercept:  0.0006373113665783154 mse:  23.160275249418675 iteration:  62\n",
      "slope:  0.08141764539379938 intercept:  0.0006414444429090298 mse:  23.146431792073415 iteration:  63\n",
      "slope:  0.08152354791950508 intercept:  0.0006455444517745085 mse:  23.134143901674324 iteration:  64\n",
      "slope:  0.08162331629881807 intercept:  0.0006496133080956973 mse:  23.12323662131165 iteration:  65\n",
      "slope:  0.08171730577657964 intercept:  0.0006536528158953433 mse:  23.113554671737607 iteration:  66\n",
      "slope:  0.08180585102445125 intercept:  0.000657664674720406 mse:  23.10496023819066 iteration:  67\n",
      "slope:  0.08188926733236238 intercept:  0.0006616504856925309 mse:  23.097331006138994 iteration:  68\n",
      "slope:  0.0819678517309586 intercept:  0.0006656117572081217 mse:  23.09055841794679 iteration:  69\n",
      "slope:  0.0820418840490455 intercept:  0.0006695499103083083 mse:  23.084546125615795 iteration:  70\n",
      "slope:  0.08211162790979337 intercept:  0.0006734662837379242 mse:  23.079208617549384 iteration:  71\n",
      "slope:  0.0821773316692489 intercept:  0.0006773621387115051 mse:  23.07446999976647 iteration:  72\n",
      "slope:  0.08223922930049517 intercept:  0.0006812386634032766 mse:  23.070262914194046 iteration:  73\n",
      "slope:  0.0822975412266076 intercept:  0.0006850969771771136 mse:  23.066527578621063 iteration:  74\n",
      "slope:  0.08235247510537116 intercept:  0.0006889381345715324 mse:  23.063210934629996 iteration:  75\n",
      "slope:  0.08240422656855254 intercept:  0.0006927631290539002 mse:  23.060265891361887 iteration:  76\n",
      "slope:  0.08245297991835901 intercept:  0.0006965728965572293 mse:  23.057650654336207 iteration:  77\n",
      "slope:  0.08249890878356363 intercept:  0.0007003683188121456 mse:  23.055328129759367 iteration:  78\n",
      "slope:  0.08254217673763231 intercept:  0.0007041502264858936 mse:  23.053265395831502 iteration:  79\n",
      "slope:  0.08258293788105363 intercept:  0.000707919402139554 mse:  23.051433233516196 iteration:  80\n",
      "slope:  0.08262133738994427 intercept:  0.000711676583014 mse:  23.04980571008519 iteration:  81\n",
      "slope:  0.08265751203288335 intercept:  0.0007154224636545122 mse:  23.048359809502482 iteration:  82\n",
      "slope:  0.08269159065781535 intercept:  0.0007191576983833944 mse:  23.0470751043796 iteration:  83\n",
      "slope:  0.08272369465075535 intercept:  0.000722882903629394 mse:  23.045933464826618 iteration:  84\n",
      "slope:  0.0827539383679293 intercept:  0.0007265986601222193 mse:  23.044918800049103 iteration:  85\n",
      "slope:  0.08278242954288792 intercept:  0.0007303055149599666 mse:  23.044016829008022 iteration:  86\n",
      "slope:  0.08280926967004358 intercept:  0.0007340039835568165 mse:  23.04321487687392 iteration:  87\n",
      "slope:  0.08283455436599549 intercept:  0.0007376945514779346 mse:  23.042501694374067 iteration:  88\n",
      "slope:  0.0828583737099296 intercept:  0.0007413776761681078 mse:  23.0418672974581 iteration:  89\n",
      "slope:  0.08288081256430505 intercept:  0.0007450537885802708 mse:  23.04130282499651 iteration:  90\n",
      "slope:  0.08290195087696874 intercept:  0.00074872329470972 mse:  23.040800412484124 iteration:  91\n",
      "slope:  0.08292186396577371 intercept:  0.0007523865770394773 mse:  23.040353079948254 iteration:  92\n",
      "slope:  0.08294062278671449 intercept:  0.0007560439959019487 mse:  23.03995463246408 iteration:  93\n",
      "slope:  0.082958294186534 intercept:  0.0007596958907617259 mse:  23.039599571859107 iteration:  94\n",
      "slope:  0.0829749411407013 intercept:  0.0007633425814240975 mse:  23.039283018348407 iteration:  95\n",
      "slope:  0.08299062297760741 intercept:  0.0007669843691735716 mse:  23.039000640983687 iteration:  96\n",
      "slope:  0.08300539558977742 intercept:  0.0007706215378464635 mse:  23.03874859592478 iteration:  97\n",
      "slope:  0.0830193116328506 intercept:  0.0007742543548413681 mse:  23.038523471653924 iteration:  98\n",
      "slope:  0.08303242071303724 intercept:  0.0007778830720711116 mse:  23.038322240351782 iteration:  99\n",
      "slope:  0.08304476956371912 intercept:  0.0007815079268595739 mse:  23.03814221474233 iteration:  100\n",
      "slope:  0.08305640221182278 intercept:  0.0007851291427865738 mse:  23.03798100979145 iteration:  101\n",
      "slope:  0.0830673601345576 intercept:  0.0007887469304838243 mse:  23.037836508713337 iteration:  102\n",
      "slope:  0.08307768240707665 intercept:  0.000792361488384792 mse:  23.037706832800183 iteration:  103\n",
      "slope:  0.08308740584158633 intercept:  0.0007959730034311301 mse:  23.037590314645254 iteration:  104\n",
      "slope:  0.08309656511839958 intercept:  0.0007995816517382004 mse:  23.0374854743775 iteration:  105\n",
      "slope:  0.08310519290939956 intercept:  0.0008031875992220523 mse:  23.037390998569155 iteration:  106\n",
      "slope:  0.08311331999435323 intercept:  0.0008067910021900931 mse:  23.03730572151562 iteration:  107\n",
      "slope:  0.08312097537048882 intercept:  0.0008103920078975493 mse:  23.03722860862079 iteration:  108\n"
     ]
    },
    {
     "name": "stdout",
     "output_type": "stream",
     "text": [
      "slope:  0.08312818635572743 intercept:  0.0008139907550717033 mse:  23.037158741651137 iteration:  109\n",
      "slope:  0.08313497868593622 intercept:  0.000817587374405769 mse:  23.0370953056482 iteration:  110\n",
      "slope:  0.08314137660654938 intercept:  0.0008211819890241666 mse:  23.037037577313104 iteration:  111\n",
      "slope:  0.08314740295888311 intercept:  0.0008247747149208515 mse:  23.036984914697474 iteration:  112\n",
      "slope:  0.08315307926145178 intercept:  0.0008283656613722585 mse:  23.036936748053787 iteration:  113\n",
      "slope:  0.08315842578657505 intercept:  0.0008319549313263317 mse:  23.036892571714915 iteration:  114\n",
      "slope:  0.08316346163254822 intercept:  0.0008355426217690241 mse:  23.036851936886798 iteration:  115\n",
      "slope:  0.0831682047916332 intercept:  0.0008391288240695725 mse:  23.036814445251963 iteration:  116\n",
      "slope:  0.08317267221411184 intercept:  0.0008427136243057769 mse:  23.036779743292254 iteration:  117\n",
      "slope:  0.08317687986862979 intercept:  0.0008462971035704413 mse:  23.03674751725024 iteration:  118\n",
      "slope:  0.08318084279904565 intercept:  0.0008498793382600682 mse:  23.03671748865725 iteration:  119\n",
      "slope:  0.08318457517798794 intercept:  0.0008534604003468344 mse:  23.036689410364392 iteration:  120\n",
      "slope:  0.08318809035731027 intercept:  0.0008570403576348151 mse:  23.036663063019972 iteration:  121\n",
      "slope:  0.08319140091562469 intercept:  0.0008606192740013703 mse:  23.036638251943113 iteration:  122\n",
      "slope:  0.08319451870308212 intercept:  0.0008641972096245508 mse:  23.036614804348982 iteration:  123\n",
      "slope:  0.08319745488355955 intercept:  0.0008677742211973357 mse:  23.03659256688611 iteration:  124\n",
      "slope:  0.08320021997440394 intercept:  0.0008713503621294617 mse:  23.03657140345069 iteration:  125\n",
      "slope:  0.08320282388387454 intercept:  0.0008749256827375649 mse:  23.03655119324671 iteration:  126\n",
      "slope:  0.08320527594641676 intercept:  0.0008785002304243101 mse:  23.03653182906428 iteration:  127\n",
      "slope:  0.08320758495589331 intercept:  0.0008820740498471473 mse:  23.036513215751537 iteration:  128\n",
      "slope:  0.08320975919689075 intercept:  0.0008856471830772937 mse:  23.036495268858527 iteration:  129\n",
      "slope:  0.08321180647421306 intercept:  0.00088921966974951 mse:  23.036477913433465 iteration:  130\n",
      "slope:  0.08321373414066711 intercept:  0.0008927915472032016 mse:  23.03646108295452 iteration:  131\n",
      "slope:  0.08321554912323907 intercept:  0.000896362850615349 mse:  23.03644471838169 iteration:  132\n",
      "slope:  0.08321725794775477 intercept:  0.0008999336131257401 mse:  23.036428767315265 iteration:  133\n",
      "slope:  0.08321886676211199 intercept:  0.0009035038659549483 mse:  23.03641318324902 iteration:  134\n",
      "slope:  0.0832203813581673 intercept:  0.0009070736385154807 mse:  23.03639792490734 iteration:  135\n",
      "slope:  0.08322180719235536 intercept:  0.000910642958516487 mse:  23.036382955656947 iteration:  136\n",
      "slope:  0.08322314940511408 intercept:  0.0009142118520624062 mse:  23.036368242984768 iteration:  137\n",
      "slope:  0.08322441283918483 intercept:  0.000917780343745899 mse:  23.03635375803452 iteration:  138\n",
      "slope:  0.08322560205685288 intercept:  0.0009213484567353998 mse:  23.03633947519542 iteration:  139\n",
      "slope:  0.08322672135618936 intercept:  0.0009249162128575968 mse:  23.036325371737185 iteration:  140\n",
      "slope:  0.08322777478635256 intercept:  0.0009284836326751362 mse:  23.036311427486016 iteration:  141\n",
      "slope:  0.0832287661620032 intercept:  0.0009320507355598263 mse:  23.03629762453712 iteration:  142\n",
      "slope:  0.08322969907688477 intercept:  0.0009356175397616024 mse:  23.03628394699946 iteration:  143\n",
      "slope:  0.08323057691661745 intercept:  0.0009391840624734972 mse:  23.03627038076929 iteration:  144\n",
      "slope:  0.0832314028707511 intercept:  0.0009427503198928489 mse:  23.036256913329147 iteration:  145\n",
      "slope:  0.08323217994412023 intercept:  0.0009463163272789642 mse:  23.036243533569408 iteration:  146\n",
      "slope:  0.08323291096754128 intercept:  0.0009498820990074431 mse:  23.036230231629983 iteration:  147\n",
      "slope:  0.08323359860789058 intercept:  0.0009534476486213557 mse:  23.036216998759745 iteration:  148\n",
      "slope:  0.08323424537759849 intercept:  0.000957012988879457 mse:  23.036203827191834 iteration:  149\n",
      "slope:  0.08323485364359383 intercept:  0.0009605781318016082 mse:  23.036190710032926 iteration:  150\n",
      "slope:  0.08323542563573019 intercept:  0.0009641430887115682 mse:  23.036177641165008 iteration:  151\n",
      "slope:  0.08323596345472441 intercept:  0.0009677078702773071 mse:  23.036164615158164 iteration:  152\n",
      "slope:  0.08323646907963515 intercept:  0.0009712724865489838 mse:  23.036151627193195 iteration:  153\n",
      "slope:  0.08323694437490853 intercept:  0.0009748369469947262 mse:  23.03613867299292 iteration:  154\n",
      "slope:  0.08323739109701557 intercept:  0.0009784012605343372 mse:  23.03612574876122 iteration:  155\n",
      "slope:  0.08323781090070538 intercept:  0.0009819654355710504 mse:  23.036112851128934 iteration:  156\n",
      "slope:  0.0832382053448961 intercept:  0.0009855294800214453 mse:  23.036099977105824 iteration:  157\n",
      "slope:  0.08323857589822473 intercept:  0.0009890934013436314 mse:  23.03608712403798 iteration:  158\n",
      "slope:  0.0832389239442756 intercept:  0.0009926572065637994 mse:  23.036074289569978 iteration:  159\n",
      "slope:  0.08323925078650594 intercept:  0.0009962209023012339 mse:  23.036061471611323 iteration:  160\n",
      "slope:  0.08323955765288632 intercept:  0.0009997844947918796 mse:  23.036048668306616 iteration:  161\n",
      "slope:  0.08323984570027222 intercept:  0.001003347989910541 mse:  23.036035878009155 iteration:  162\n",
      "slope:  0.08324011601852252 intercept:  0.0010069113931917967 mse:  23.036023099257445 iteration:  163\n",
      "slope:  0.08324036963437946 intercept:  0.001010474709849703 mse:  23.03601033075436 iteration:  164\n",
      "slope:  0.0832406075151239 intercept:  0.0010140379447963568 mse:  23.035997571348677 iteration:  165\n",
      "slope:  0.08324083057201884 intercept:  0.001017601102659382 mse:  23.03598482001863 iteration:  166\n",
      "slope:  0.08324103966355363 intercept:  0.0010211641877984046 mse:  23.03597207585739 iteration:  167\n",
      "slope:  0.08324123559850022 intercept:  0.0010247272043205728 mse:  23.03595933806012 iteration:  168\n",
      "slope:  0.08324141913879236 intercept:  0.0010282901560951792 mse:  23.035946605912503 iteration:  169\n",
      "slope:  0.08324159100223823 intercept:  0.0010318530467674353 mse:  23.03593387878055 iteration:  170\n",
      "slope:  0.08324175186507576 intercept:  0.0010354158797714484 mse:  23.035921156101605 iteration:  171\n",
      "slope:  0.08324190236438019 intercept:  0.0010389786583424481 mse:  23.035908437376257 iteration:  172\n",
      "slope:  0.08324204310033198 intercept:  0.0010425413855283028 mse:  23.0358957221613 iteration:  173\n",
      "slope:  0.08324217463835357 intercept:  0.0010461040642003707 mse:  23.035883010063344 iteration:  174\n",
      "slope:  0.08324229751112223 intercept:  0.0010496666970637222 mse:  23.035870300733286 iteration:  175\n",
      "slope:  0.08324241222046652 intercept:  0.0010532292866667697 mse:  23.035857593861238 iteration:  176\n",
      "slope:  0.08324251923915271 intercept:  0.0010567918354103404 mse:  23.035844889172203 iteration:  177\n",
      "slope:  0.08324261901256794 intercept:  0.0010603543455562233 mse:  23.035832186422095 iteration:  178\n",
      "slope:  0.08324271196030576 intercept:  0.0010639168192352211 mse:  23.035819485394285 iteration:  179\n",
      "slope:  0.08324279847765999 intercept:  0.0010674792584547362 mse:  23.035806785896515 iteration:  180\n",
      "slope:  0.08324287893703186 intercept:  0.0010710416651059167 mse:  23.03579408775815 iteration:  181\n",
      "slope:  0.08324295368925588 intercept:  0.0010746040409703895 mse:  23.03578139082772 iteration:  182\n",
      "slope:  0.08324302306484882 intercept:  0.0010781663877266028 mse:  23.03576869497083 iteration:  183\n",
      "slope:  0.08324308737518628 intercept:  0.0010817287069558013 mse:  23.035756000068183 iteration:  184\n",
      "slope:  0.08324314691361132 intercept:  0.0010852910001476557 mse:  23.035743306013888 iteration:  185\n",
      "slope:  0.08324320195647868 intercept:  0.0010888532687055661 mse:  23.035730612713984 iteration:  186\n",
      "slope:  0.08324325276413867 intercept:  0.0010924155139516577 mse:  23.035717920085066 iteration:  187\n",
      "slope:  0.08324329958186404 intercept:  0.0010959777371314882 mse:  23.035705228053118 iteration:  188\n",
      "slope:  0.0832433426407231 intercept:  0.0010995399394184814 mse:  23.03569253655244 iteration:  189\n",
      "slope:  0.0832433821584024 intercept:  0.0011031021219181055 mse:  23.035679845524722 iteration:  190\n",
      "slope:  0.08324341833998165 intercept:  0.0011066642856718079 mse:  23.03566715491822 iteration:  191\n",
      "slope:  0.08324345137866389 intercept:  0.001110226431660723 mse:  23.035654464687003 iteration:  192\n"
     ]
    },
    {
     "name": "stdout",
     "output_type": "stream",
     "text": [
      "slope:  0.08324348145646322 intercept:  0.0011137885608091653 mse:  23.035641774790307 iteration:  193\n",
      "slope:  0.08324350874485284 intercept:  0.0011173506739879198 mse:  23.035629085191957 iteration:  194\n",
      "slope:  0.08324353340537545 intercept:  0.0011209127720173417 mse:  23.035616395859837 iteration:  195\n",
      "slope:  0.0832435555902184 intercept:  0.0011244748556702778 mse:  23.035603706765457 iteration:  196\n",
      "slope:  0.08324357544275546 intercept:  0.001128036925674817 mse:  23.035591017883522 iteration:  197\n",
      "slope:  0.08324359309805723 intercept:  0.0011315989827168828 mse:  23.035578329191576 iteration:  198\n",
      "slope:  0.08324360868337204 intercept:  0.0011351610274426753 mse:  23.035565640669702 iteration:  199\n",
      "slope:  0.08324362231857889 intercept:  0.001138723060460971 mse:  23.035552952300222 iteration:  200\n",
      "slope:  0.08324363411661428 intercept:  0.0011422850823452908 mse:  23.035540264067436 iteration:  201\n",
      "slope:  0.08324364418387428 intercept:  0.0011458470936359416 mse:  23.035527575957413 iteration:  202\n",
      "slope:  0.08324365262059324 intercept:  0.0011494090948419397 mse:  23.0355148879578 iteration:  203\n",
      "slope:  0.08324365952120069 intercept:  0.001152971086442823 mse:  23.035502200057618 iteration:  204\n",
      "slope:  0.08324366497465749 intercept:  0.0011565330688903578 mse:  23.035489512247132 iteration:  205\n",
      "slope:  0.08324366906477254 intercept:  0.001160095042610148 mse:  23.03547682451769 iteration:  206\n",
      "slope:  0.08324367187050115 intercept:  0.0011636570080031492 mse:  23.03546413686164 iteration:  207\n",
      "slope:  0.0832436734662261 intercept:  0.0011672189654470969 mse:  23.03545144927216 iteration:  208\n",
      "slope:  0.08324367392202248 intercept:  0.001170780915297851 mse:  23.03543876174321 iteration:  209\n",
      "slope:  0.08324367330390713 intercept:  0.0011743428578906622 mse:  23.035426074269445 iteration:  210\n",
      "slope:  0.08324367167407368 intercept:  0.001177904793541367 mse:  23.035413386846077 iteration:  211\n",
      "slope:  0.08324366909111397 intercept:  0.0011814667225475098 mse:  23.03540069946889 iteration:  212\n",
      "slope:  0.08324366561022663 intercept:  0.0011850286451894046 mse:  23.03538801213415 iteration:  213\n",
      "slope:  0.08324366128341357 intercept:  0.0011885905617311308 mse:  23.035375324838522 iteration:  214\n",
      "slope:  0.08324365615966514 intercept:  0.0011921524724214747 mse:  23.035362637579045 iteration:  215\n",
      "slope:  0.08324365028513456 intercept:  0.0011957143774948148 mse:  23.0353499503531 iteration:  216\n",
      "slope:  0.08324364370330213 intercept:  0.001199276277171956 mse:  23.035337263158375 iteration:  217\n",
      "slope:  0.08324363645513015 intercept:  0.001202838171660916 mse:  23.0353245759928 iteration:  218\n",
      "slope:  0.08324362857920865 intercept:  0.0012064000611576658 mse:  23.035311888854526 iteration:  219\n",
      "slope:  0.08324362011189282 intercept:  0.001209961945846827 mse:  23.035299201741942 iteration:  220\n",
      "slope:  0.08324361108743242 intercept:  0.0012135238259023292 mse:  23.0352865146536 iteration:  221\n",
      "slope:  0.0832436015380937 intercept:  0.0012170857014880297 mse:  23.035273827588227 iteration:  222\n",
      "slope:  0.08324359149427431 intercept:  0.0012206475727582964 mse:  23.035261140544673 iteration:  223\n",
      "slope:  0.08324358098461147 intercept:  0.001224209439858557 mse:  23.03524845352193 iteration:  224\n",
      "slope:  0.08324357003608397 intercept:  0.001227771302925818 mse:  23.03523576651911 iteration:  225\n",
      "slope:  0.08324355867410817 intercept:  0.0012313331620891503 mse:  23.035223079535427 iteration:  226\n",
      "slope:  0.08324354692262848 intercept:  0.001234895017470151 mse:  23.035210392570153 iteration:  227\n",
      "slope:  0.08324353480420264 intercept:  0.0012384568691833748 mse:  23.03519770562268 iteration:  228\n",
      "slope:  0.08324352234008203 intercept:  0.0012420187173367424 mse:  23.03518501869244 iteration:  229\n",
      "slope:  0.0832435095502873 intercept:  0.0012455805620319247 mse:  23.03517233177895 iteration:  230\n",
      "slope:  0.08324349645367962 intercept:  0.0012491424033647044 mse:  23.03515964488176 iteration:  231\n",
      "slope:  0.0832434830680279 intercept:  0.0012527042414253173 mse:  23.035146958000496 iteration:  232\n",
      "slope:  0.08324346941007196 intercept:  0.0012562660762987735 mse:  23.0351342711348 iteration:  233\n",
      "slope:  0.08324345549558221 intercept:  0.00125982790806516 mse:  23.03512158428438 iteration:  234\n",
      "slope:  0.08324344133941573 intercept:  0.0012633897367999255 mse:  23.03510889744895 iteration:  235\n",
      "slope:  0.08324342695556922 intercept:  0.00126695156257415 mse:  23.035096210628282 iteration:  236\n",
      "slope:  0.08324341235722875 intercept:  0.0012705133854547961 mse:  23.035083523822145 iteration:  237\n",
      "slope:  0.08324339755681678 intercept:  0.0012740752055049496 mse:  23.035070837030368 iteration:  238\n",
      "slope:  0.08324338256603635 intercept:  0.001277637022784042 mse:  23.03505815025277 iteration:  239\n",
      "slope:  0.08324336739591272 intercept:  0.0012811988373480638 mse:  23.035045463489215 iteration:  240\n",
      "slope:  0.08324335205683267 intercept:  0.001284760649249762 mse:  23.035032776739545 iteration:  241\n",
      "slope:  0.08324333655858146 intercept:  0.00128832245853883 mse:  23.03502009000367 iteration:  242\n",
      "slope:  0.08324332091037763 intercept:  0.0012918842652620824 mse:  23.035007403281476 iteration:  243\n",
      "slope:  0.08324330512090589 intercept:  0.0012954460694636234 mse:  23.034994716572864 iteration:  244\n",
      "slope:  0.08324328919834796 intercept:  0.0012990078711850029 mse:  23.034982029877746 iteration:  245\n",
      "slope:  0.08324327315041175 intercept:  0.0013025696704653644 mse:  23.034969343196067 iteration:  246\n",
      "slope:  0.08324325698435878 intercept:  0.0013061314673415846 mse:  23.034956656527747 iteration:  247\n",
      "slope:  0.08324324070703004 intercept:  0.0013096932618484047 mse:  23.03494396987274 iteration:  248\n",
      "slope:  0.08324322432487034 intercept:  0.001313255054018554 mse:  23.034931283230986 iteration:  249\n",
      "slope:  0.08324320784395127 intercept:  0.0013168168438828665 mse:  23.03491859660245 iteration:  250\n",
      "slope:  0.08324319126999276 intercept:  0.0013203786314703904 mse:  23.034905909987074 iteration:  251\n",
      "slope:  0.0832431746083835 intercept:  0.0013239404168084916 mse:  23.03489322338484 iteration:  252\n",
      "slope:  0.08324315786420011 intercept:  0.0013275021999229516 mse:  23.034880536795708 iteration:  253\n",
      "slope:  0.08324314104222523 intercept:  0.0013310639808380585 mse:  23.03486785021965 iteration:  254\n",
      "slope:  0.08324312414696448 intercept:  0.001334625759576694 mse:  23.034855163656648 iteration:  255\n",
      "slope:  0.08324310718266259 intercept:  0.0013381875361604147 mse:  23.034842477106668 iteration:  256\n",
      "slope:  0.08324309015331843 intercept:  0.0013417493106095291 mse:  23.0348297905697 iteration:  257\n",
      "slope:  0.08324307306269932 intercept:  0.0013453110829431693 mse:  23.034817104045715 iteration:  258\n",
      "slope:  0.08324305591435438 intercept:  0.0013488728531793595 mse:  23.034804417534716 iteration:  259\n",
      "slope:  0.08324303871162719 intercept:  0.0013524346213350802 mse:  23.034791731036677 iteration:  260\n",
      "slope:  0.08324302145766771 intercept:  0.0013559963874263286 mse:  23.034779044551577 iteration:  261\n",
      "slope:  0.08324300415544347 intercept:  0.0013595581514681755 mse:  23.034766358079427 iteration:  262\n",
      "slope:  0.08324298680775015 intercept:  0.001363119913474819 mse:  23.0347536716202 iteration:  263\n",
      "slope:  0.08324296941722151 intercept:  0.0013666816734596349 mse:  23.034740985173894 iteration:  264\n",
      "slope:  0.08324295198633878 intercept:  0.0013702434314352243 mse:  23.0347282987405 iteration:  265\n",
      "slope:  0.08324293451743951 intercept:  0.001373805187413459 mse:  23.034715612320014 iteration:  266\n",
      "slope:  0.08324291701272588 intercept:  0.0013773669414055229 mse:  23.03470292591243 iteration:  267\n",
      "slope:  0.0832428994742725 intercept:  0.0013809286934219525 mse:  23.034690239517737 iteration:  268\n",
      "slope:  0.0832428819040339 intercept:  0.001384490443472674 mse:  23.034677553135936 iteration:  269\n",
      "slope:  0.08324286430385133 intercept:  0.0013880521915670394 mse:  23.03466486676702 iteration:  270\n",
      "slope:  0.08324284667545949 intercept:  0.0013916139377138583 mse:  23.034652180410987 iteration:  271\n",
      "slope:  0.08324282902049258 intercept:  0.0013951756819214304 mse:  23.034639494067832 iteration:  272\n",
      "slope:  0.08324281134049016 intercept:  0.001398737424197575 mse:  23.03462680773755 iteration:  273\n",
      "slope:  0.08324279363690264 intercept:  0.0014022991645496585 mse:  23.03461412142014 iteration:  274\n",
      "slope:  0.08324277591109641 intercept:  0.0014058609029846208 mse:  23.03460143511561 iteration:  275\n",
      "slope:  0.08324275816435876 intercept:  0.001409422639509 mse:  23.034588748823943 iteration:  276\n",
      "slope:  0.08324274039790241 intercept:  0.0014129843741289556 mse:  23.03457606254514 iteration:  277\n",
      "slope:  0.08324272261286986 intercept:  0.0014165461068502902 mse:  23.034563376279205 iteration:  278\n",
      "slope:  0.08324270481033742 intercept:  0.0014201078376784707 mse:  23.03455069002614 iteration:  279\n",
      "slope:  0.08324268699131912 intercept:  0.0014236695666186472 mse:  23.03453800378593 iteration:  280\n",
      "slope:  0.0832426691567702 intercept:  0.0014272312936756718 mse:  23.03452531755859 iteration:  281\n",
      "slope:  0.08324265130759062 intercept:  0.0014307930188541156 mse:  23.034512631344104 iteration:  282\n",
      "slope:  0.08324263344462822 intercept:  0.001434354742158285 mse:  23.03449994514248 iteration:  283\n",
      "slope:  0.08324261556868172 intercept:  0.001437916463592237 mse:  23.034487258953714 iteration:  284\n",
      "slope:  0.0832425976805036 intercept:  0.0014414781831597941 mse:  23.0344745727778 iteration:  285\n",
      "slope:  0.08324257978080275 intercept:  0.001445039900864557 mse:  23.034461886614753 iteration:  286\n",
      "slope:  0.08324256187024702 intercept:  0.0014486016167099178 mse:  23.03444920046456 iteration:  287\n",
      "slope:  0.08324254394946556 intercept:  0.0014521633306990727 mse:  23.03443651432722 iteration:  288\n",
      "slope:  0.08324252601905112 intercept:  0.0014557250428350328 mse:  23.034423828202744 iteration:  289\n",
      "slope:  0.08324250807956209 intercept:  0.0014592867531206344 mse:  23.034411142091116 iteration:  290\n"
     ]
    },
    {
     "name": "stdout",
     "output_type": "stream",
     "text": [
      "slope:  0.08324249013152454 intercept:  0.0014628484615585502 mse:  23.034398455992346 iteration:  291\n",
      "slope:  0.08324247217543407 intercept:  0.0014664101681512976 mse:  23.03438576990643 iteration:  292\n",
      "slope:  0.08324245421175758 intercept:  0.0014699718729012487 mse:  23.03437308383337 iteration:  293\n",
      "slope:  0.08324243624093491 intercept:  0.0014735335758106383 mse:  23.034360397773163 iteration:  294\n",
      "slope:  0.08324241826338047 intercept:  0.0014770952768815714 mse:  23.034347711725815 iteration:  295\n",
      "slope:  0.08324240027948462 intercept:  0.0014806569761160314 mse:  23.034335025691316 iteration:  296\n",
      "slope:  0.08324238228961515 intercept:  0.001484218673515887 mse:  23.03432233966967 iteration:  297\n",
      "slope:  0.08324236429411855 intercept:  0.0014877803690828985 mse:  23.034309653660877 iteration:  298\n",
      "slope:  0.08324234629332121 intercept:  0.0014913420628187245 mse:  23.034296967664947 iteration:  299\n",
      "slope:  0.08324232828753066 intercept:  0.0014949037547249274 mse:  23.034284281681867 iteration:  300\n",
      "slope:  0.08324231027703659 intercept:  0.0014984654448029794 mse:  23.034271595711633 iteration:  301\n",
      "slope:  0.08324229226211192 intercept:  0.0015020271330542674 mse:  23.034258909754254 iteration:  302\n",
      "slope:  0.0832422742430138 intercept:  0.0015055888194800981 mse:  23.03424622380973 iteration:  303\n",
      "slope:  0.0832422562199844 intercept:  0.0015091505040817025 mse:  23.034233537878062 iteration:  304\n",
      "slope:  0.08324223819325198 intercept:  0.0015127121868602402 mse:  23.03422085195924 iteration:  305\n",
      "slope:  0.08324222016303148 intercept:  0.001516273867816804 mse:  23.034208166053276 iteration:  306\n",
      "slope:  0.08324220212952546 intercept:  0.0015198355469524232 mse:  23.034195480160164 iteration:  307\n",
      "slope:  0.08324218409292472 intercept:  0.0015233972242680678 mse:  23.034182794279904 iteration:  308\n",
      "slope:  0.083242166053409 intercept:  0.0015269588997646514 mse:  23.0341701084125 iteration:  309\n",
      "slope:  0.08324214801114767 intercept:  0.001530520573443035 mse:  23.034157422557946 iteration:  310\n",
      "slope:  0.08324212996630023 intercept:  0.0015340822453040299 mse:  23.034144736716247 iteration:  311\n",
      "slope:  0.08324211191901701 intercept:  0.0015376439153484 mse:  23.034132050887393 iteration:  312\n",
      "slope:  0.08324209386943959 intercept:  0.0015412055835768651 mse:  23.0341193650714 iteration:  313\n",
      "slope:  0.08324207581770136 intercept:  0.0015447672499901038 mse:  23.034106679268252 iteration:  314\n",
      "slope:  0.083242057763928 intercept:  0.001548328914588755 mse:  23.034093993477963 iteration:  315\n",
      "slope:  0.08324203970823789 intercept:  0.0015518905773734212 mse:  23.034081307700525 iteration:  316\n",
      "slope:  0.08324202165074257 intercept:  0.0015554522383446692 mse:  23.03406862193594 iteration:  317\n",
      "slope:  0.08324200359154713 intercept:  0.0015590138975030338 mse:  23.03405593618421 iteration:  318\n",
      "slope:  0.08324198553075053 intercept:  0.0015625755548490188 mse:  23.034043250445322 iteration:  319\n",
      "slope:  0.08324196746844605 intercept:  0.0015661372103830983 mse:  23.034030564719295 iteration:  320\n",
      "slope:  0.08324194940472153 intercept:  0.0015696988641057195 mse:  23.034017879006115 iteration:  321\n",
      "slope:  0.08324193133965975 intercept:  0.0015732605160173037 mse:  23.03400519330579 iteration:  322\n",
      "slope:  0.08324191327333869 intercept:  0.001576822166118248 mse:  23.033992507618322 iteration:  323\n",
      "slope:  0.08324189520583179 intercept:  0.0015803838144089258 mse:  23.033979821943696 iteration:  324\n",
      "slope:  0.08324187713720828 intercept:  0.00158394546088969 mse:  23.033967136281934 iteration:  325\n",
      "slope:  0.08324185906753334 intercept:  0.0015875071055608723 mse:  23.033954450633015 iteration:  326\n",
      "slope:  0.08324184099686839 intercept:  0.0015910687484227855 mse:  23.033941764996953 iteration:  327\n",
      "slope:  0.08324182292527131 intercept:  0.0015946303894757246 mse:  23.03392907937374 iteration:  328\n",
      "slope:  0.0832418048527966 intercept:  0.0015981920287199672 mse:  23.03391639376338 iteration:  329\n",
      "slope:  0.08324178677949562 intercept:  0.001601753666155775 mse:  23.033903708165873 iteration:  330\n",
      "slope:  0.08324176870541675 intercept:  0.0016053153017833949 mse:  23.033891022581212 iteration:  331\n",
      "slope:  0.08324175063060557 intercept:  0.0016088769356030588 mse:  23.033878337009416 iteration:  332\n",
      "slope:  0.08324173255510503 intercept:  0.001612438567614986 mse:  23.03386565145046 iteration:  333\n",
      "slope:  0.08324171447895556 intercept:  0.0016160001978193827 mse:  23.033852965904362 iteration:  334\n",
      "slope:  0.0832416964021953 intercept:  0.0016195618262164434 mse:  23.03384028037112 iteration:  335\n",
      "slope:  0.08324167832486014 intercept:  0.0016231234528063514 mse:  23.033827594850724 iteration:  336\n",
      "slope:  0.0832416602469839 intercept:  0.0016266850775892793 mse:  23.033814909343175 iteration:  337\n",
      "slope:  0.08324164216859846 intercept:  0.00163024670056539 mse:  23.03380222384849 iteration:  338\n",
      "slope:  0.08324162408973382 intercept:  0.0016338083217348365 mse:  23.033789538366644 iteration:  339\n",
      "slope:  0.08324160601041827 intercept:  0.0016373699410977636 mse:  23.03377685289766 iteration:  340\n",
      "slope:  0.08324158793067847 intercept:  0.0016409315586543075 mse:  23.03376416744152 iteration:  341\n",
      "slope:  0.0832415698505395 intercept:  0.0016444931744045966 mse:  23.03375148199824 iteration:  342\n",
      "slope:  0.08324155177002501 intercept:  0.0016480547883487519 mse:  23.03373879656781 iteration:  343\n",
      "slope:  0.0832415336891573 intercept:  0.0016516164004868874 mse:  23.03372611115023 iteration:  344\n",
      "slope:  0.08324151560795733 intercept:  0.0016551780108191106 mse:  23.033713425745503 iteration:  345\n",
      "slope:  0.08324149752644487 intercept:  0.0016587396193455228 mse:  23.033700740353623 iteration:  346\n",
      "slope:  0.08324147944463857 intercept:  0.0016623012260662195 mse:  23.033688054974604 iteration:  347\n",
      "slope:  0.08324146136255597 intercept:  0.0016658628309812909 mse:  23.033675369608435 iteration:  348\n",
      "slope:  0.0832414432802136 intercept:  0.0016694244340908217 mse:  23.03366268425512 iteration:  349\n",
      "slope:  0.08324142519762703 intercept:  0.0016729860353948919 mse:  23.033649998914647 iteration:  350\n",
      "slope:  0.08324140711481094 intercept:  0.001676547634893577 mse:  23.033637313587032 iteration:  351\n",
      "slope:  0.08324138903177915 intercept:  0.001680109232586948 mse:  23.033624628272264 iteration:  352\n",
      "slope:  0.08324137094854468 intercept:  0.001683670828475072 mse:  23.033611942970357 iteration:  353\n",
      "slope:  0.0832413528651198 intercept:  0.0016872324225580121 mse:  23.033599257681296 iteration:  354\n",
      "slope:  0.08324133478151606 intercept:  0.0016907940148358283 mse:  23.033586572405085 iteration:  355\n",
      "slope:  0.08324131669774436 intercept:  0.0016943556053085765 mse:  23.033573887141724 iteration:  356\n",
      "slope:  0.08324129861381496 intercept:  0.0016979171939763098 mse:  23.033561201891224 iteration:  357\n",
      "slope:  0.08324128052973752 intercept:  0.001701478780839078 mse:  23.033548516653564 iteration:  358\n",
      "slope:  0.08324126244552113 intercept:  0.0017050403658969285 mse:  23.033535831428768 iteration:  359\n",
      "slope:  0.08324124436117439 intercept:  0.0017086019491499057 mse:  23.033523146216815 iteration:  360\n",
      "slope:  0.08324122627670537 intercept:  0.0017121635305980514 mse:  23.033510461017716 iteration:  361\n",
      "slope:  0.08324120819212168 intercept:  0.0017157251102414054 mse:  23.033497775831464 iteration:  362\n",
      "slope:  0.08324119010743049 intercept:  0.0017192866880800049 mse:  23.03348509065808 iteration:  363\n",
      "slope:  0.08324117202263856 intercept:  0.001722848264113885 mse:  23.033472405497534 iteration:  364\n",
      "slope:  0.08324115393775225 intercept:  0.0017264098383430791 mse:  23.03345972034984 iteration:  365\n",
      "slope:  0.08324113585277756 intercept:  0.0017299714107676186 mse:  23.033447035214998 iteration:  366\n",
      "slope:  0.08324111776772014 intercept:  0.001733532981387533 mse:  23.033434350093007 iteration:  367\n",
      "slope:  0.0832410996825853 intercept:  0.0017370945502028503 mse:  23.03342166498387 iteration:  368\n",
      "slope:  0.08324108159737809 intercept:  0.0017406561172135968 mse:  23.03340897988759 iteration:  369\n",
      "slope:  0.08324106351210318 intercept:  0.0017442176824197975 mse:  23.033396294804152 iteration:  370\n",
      "slope:  0.08324104542676507 intercept:  0.0017477792458214757 mse:  23.03338360973357 iteration:  371\n",
      "slope:  0.08324102734136792 intercept:  0.0017513408074186537 mse:  23.033370924675836 iteration:  372\n",
      "slope:  0.08324100925591568 intercept:  0.0017549023672113527 mse:  23.03335823963096 iteration:  373\n",
      "slope:  0.08324099117041209 intercept:  0.0017584639251995923 mse:  23.03334555459893 iteration:  374\n",
      "slope:  0.08324097308486063 intercept:  0.0017620254813833912 mse:  23.033332869579763 iteration:  375\n",
      "slope:  0.08324095499926462 intercept:  0.0017655870357627672 mse:  23.03332018457343 iteration:  376\n",
      "slope:  0.08324093691362718 intercept:  0.001769148588337737 mse:  23.03330749957996 iteration:  377\n",
      "slope:  0.08324091882795122 intercept:  0.0017727101391083163 mse:  23.03329481459934 iteration:  378\n"
     ]
    },
    {
     "name": "stdout",
     "output_type": "stream",
     "text": [
      "slope:  0.0832409007422395 intercept:  0.00177627168807452 mse:  23.033282129631566 iteration:  379\n",
      "slope:  0.08324088265649464 intercept:  0.0017798332352363623 mse:  23.03326944467665 iteration:  380\n",
      "slope:  0.08324086457071907 intercept:  0.0017833947805938565 mse:  23.03325675973458 iteration:  381\n",
      "slope:  0.08324084648491512 intercept:  0.0017869563241470154 mse:  23.03324407480537 iteration:  382\n",
      "slope:  0.08324082839908493 intercept:  0.0017905178658958508 mse:  23.033231389889 iteration:  383\n",
      "slope:  0.08324081031323059 intercept:  0.0017940794058403742 mse:  23.033218704985487 iteration:  384\n",
      "slope:  0.08324079222735402 intercept:  0.001797640943980596 mse:  23.03320602009483 iteration:  385\n",
      "slope:  0.08324077414145702 intercept:  0.0018012024803165266 mse:  23.033193335217014 iteration:  386\n",
      "slope:  0.0832407560555413 intercept:  0.0018047640148481756 mse:  23.033180650352055 iteration:  387\n",
      "slope:  0.08324073796960851 intercept:  0.001808325547575552 mse:  23.033167965499953 iteration:  388\n",
      "slope:  0.08324071988366015 intercept:  0.0018118870784986645 mse:  23.033155280660694 iteration:  389\n",
      "slope:  0.08324070179769764 intercept:  0.0018154486076175213 mse:  23.03314259583429 iteration:  390\n",
      "slope:  0.08324068371172234 intercept:  0.0018190101349321302 mse:  23.033129911020733 iteration:  391\n",
      "slope:  0.08324066562573552 intercept:  0.0018225716604424985 mse:  23.03311722622003 iteration:  392\n",
      "slope:  0.08324064753973838 intercept:  0.0018261331841486332 mse:  23.033104541432184 iteration:  393\n",
      "slope:  0.08324062945373205 intercept:  0.001829694706050541 mse:  23.03309185665718 iteration:  394\n",
      "slope:  0.08324061136771758 intercept:  0.001833256226148228 mse:  23.033079171895032 iteration:  395\n",
      "slope:  0.08324059328169599 intercept:  0.0018368177444417005 mse:  23.033066487145742 iteration:  396\n",
      "slope:  0.08324057519566821 intercept:  0.001840379260930964 mse:  23.033053802409285 iteration:  397\n",
      "slope:  0.08324055710963514 intercept:  0.001843940775616024 mse:  23.033041117685695 iteration:  398\n",
      "slope:  0.08324053902359761 intercept:  0.0018475022884968857 mse:  23.033028432974948 iteration:  399\n",
      "slope:  0.0832405209375564 intercept:  0.0018510637995735539 mse:  23.03301574827706 iteration:  400\n",
      "slope:  0.08324050285151229 intercept:  0.0018546253088460335 mse:  23.033003063592012 iteration:  401\n",
      "slope:  0.08324048476546593 intercept:  0.0018581868163143288 mse:  23.03299037891982 iteration:  402\n",
      "slope:  0.08324046667941801 intercept:  0.0018617483219784442 mse:  23.032977694260488 iteration:  403\n",
      "slope:  0.08324044859336914 intercept:  0.0018653098258383837 mse:  23.032965009614 iteration:  404\n",
      "slope:  0.08324043050731991 intercept:  0.001868871327894151 mse:  23.03295232498036 iteration:  405\n",
      "slope:  0.08324041242127088 intercept:  0.0018724328281457502 mse:  23.032939640359576 iteration:  406\n",
      "slope:  0.08324039433522255 intercept:  0.0018759943265931843 mse:  23.032926955751645 iteration:  407\n",
      "slope:  0.08324037624917542 intercept:  0.0018795558232364573 mse:  23.03291427115656 iteration:  408\n",
      "slope:  0.08324035816312995 intercept:  0.001883117318075572 mse:  23.032901586574326 iteration:  409\n",
      "slope:  0.08324034007708658 intercept:  0.001886678811110532 mse:  23.03288890200495 iteration:  410\n",
      "slope:  0.08324032199104571 intercept:  0.0018902403023413397 mse:  23.032876217448415 iteration:  411\n",
      "slope:  0.08324030390500774 intercept:  0.0018938017917679985 mse:  23.032863532904734 iteration:  412\n",
      "slope:  0.08324028581897301 intercept:  0.0018973632793905107 mse:  23.032850848373904 iteration:  413\n",
      "slope:  0.08324026773294188 intercept:  0.0019009247652088794 mse:  23.03283816385593 iteration:  414\n",
      "slope:  0.08324024964691468 intercept:  0.0019044862492231067 mse:  23.032825479350805 iteration:  415\n",
      "slope:  0.08324023156089169 intercept:  0.0019080477314331954 mse:  23.03281279485853 iteration:  416\n",
      "slope:  0.08324021347487322 intercept:  0.0019116092118391477 mse:  23.032800110379103 iteration:  417\n",
      "slope:  0.08324019538885952 intercept:  0.0019151706904409658 mse:  23.03278742591253 iteration:  418\n",
      "slope:  0.08324017730285084 intercept:  0.0019187321672386522 mse:  23.032774741458812 iteration:  419\n",
      "slope:  0.08324015921684744 intercept:  0.0019222936422322089 mse:  23.032762057017933 iteration:  420\n",
      "slope:  0.08324014113084953 intercept:  0.001925855115421638 mse:  23.032749372589915 iteration:  421\n",
      "slope:  0.08324012304485733 intercept:  0.0019294165868069411 mse:  23.03273668817474 iteration:  422\n",
      "slope:  0.08324010495887103 intercept:  0.0019329780563881206 mse:  23.03272400377243 iteration:  423\n",
      "slope:  0.08324008687289083 intercept:  0.0019365395241651782 mse:  23.032711319382962 iteration:  424\n",
      "slope:  0.08324006878691691 intercept:  0.0019401009901381158 mse:  23.032698635006344 iteration:  425\n",
      "slope:  0.08324005070094943 intercept:  0.001943662454306935 mse:  23.03268595064258 iteration:  426\n",
      "slope:  0.08324003261498855 intercept:  0.0019472239166716378 mse:  23.03267326629166 iteration:  427\n",
      "slope:  0.08324001452903441 intercept:  0.0019507853772322255 mse:  23.032660581953596 iteration:  428\n",
      "slope:  0.08323999644308716 intercept:  0.0019543468359887 mse:  23.032647897628387 iteration:  429\n",
      "slope:  0.08323997835714693 intercept:  0.001957908292941063 mse:  23.032635213316016 iteration:  430\n",
      "slope:  0.08323996027121384 intercept:  0.0019614697480893153 mse:  23.032622529016507 iteration:  431\n",
      "slope:  0.08323994218528802 intercept:  0.0019650312014334592 mse:  23.03260984472985 iteration:  432\n",
      "slope:  0.08323992409936956 intercept:  0.001968592652973496 mse:  23.032597160456035 iteration:  433\n",
      "slope:  0.08323990601345858 intercept:  0.0019721541027094267 mse:  23.03258447619508 iteration:  434\n",
      "slope:  0.08323988792755517 intercept:  0.0019757155506412534 mse:  23.03257179194697 iteration:  435\n",
      "slope:  0.08323986984165942 intercept:  0.001979276996768977 mse:  23.032559107711712 iteration:  436\n",
      "slope:  0.08323985175577142 intercept:  0.0019828384410925993 mse:  23.032546423489304 iteration:  437\n",
      "slope:  0.08323983366989125 intercept:  0.001986399883612121 mse:  23.032533739279753 iteration:  438\n",
      "slope:  0.083239815584019 intercept:  0.001989961324327544 mse:  23.032521055083045 iteration:  439\n",
      "slope:  0.08323979749815472 intercept:  0.0019935227632388694 mse:  23.032508370899187 iteration:  440\n",
      "slope:  0.08323977941229849 intercept:  0.0019970842003460983 mse:  23.03249568672818 iteration:  441\n",
      "slope:  0.08323976132645038 intercept:  0.0020006456356492317 mse:  23.032483002570032 iteration:  442\n",
      "slope:  0.08323974324061044 intercept:  0.0020042070691482713 mse:  23.03247031842472 iteration:  443\n",
      "slope:  0.08323972515477873 intercept:  0.002007768500843218 mse:  23.032457634292268 iteration:  444\n",
      "slope:  0.08323970706895531 intercept:  0.002011329930734073 mse:  23.032444950172668 iteration:  445\n",
      "slope:  0.08323968898314023 intercept:  0.002014891358820838 mse:  23.032432266065918 iteration:  446\n",
      "slope:  0.08323967089733353 intercept:  0.0020184527851035135 mse:  23.03241958197201 iteration:  447\n",
      "slope:  0.08323965281153527 intercept:  0.0020220142095821007 mse:  23.032406897890965 iteration:  448\n",
      "slope:  0.08323963472574547 intercept:  0.002025575632256601 mse:  23.032394213822762 iteration:  449\n",
      "slope:  0.08323961663996418 intercept:  0.0020291370531270157 mse:  23.032381529767417 iteration:  450\n",
      "slope:  0.08323959855419144 intercept:  0.0020326984721933455 mse:  23.032368845724914 iteration:  451\n",
      "slope:  0.08323958046842729 intercept:  0.0020362598894555915 mse:  23.03235616169526 iteration:  452\n",
      "slope:  0.08323956238267176 intercept:  0.002039821304913755 mse:  23.03234347767846 iteration:  453\n",
      "slope:  0.08323954429692487 intercept:  0.0020433827185678374 mse:  23.032330793674518 iteration:  454\n",
      "slope:  0.08323952621118667 intercept:  0.002046944130417839 mse:  23.03231810968342 iteration:  455\n",
      "slope:  0.08323950812545718 intercept:  0.002050505540463761 mse:  23.03230542570517 iteration:  456\n",
      "slope:  0.08323949003973641 intercept:  0.002054066948705605 mse:  23.03229274173978 iteration:  457\n",
      "slope:  0.08323947195402441 intercept:  0.002057628355143372 mse:  23.032280057787233 iteration:  458\n",
      "slope:  0.08323945386832118 intercept:  0.002061189759777062 mse:  23.03226737384754 iteration:  459\n",
      "slope:  0.08323943578262677 intercept:  0.0020647511626066773 mse:  23.03225468992069 iteration:  460\n",
      "slope:  0.08323941769694118 intercept:  0.0020683125636322183 mse:  23.0322420060067 iteration:  461\n",
      "slope:  0.08323939961126443 intercept:  0.0020718739628536862 mse:  23.032229322105554 iteration:  462\n",
      "slope:  0.08323938152559654 intercept:  0.0020754353602710817 mse:  23.032216638217264 iteration:  463\n",
      "slope:  0.08323936343993753 intercept:  0.002078996755884406 mse:  23.03220395434182 iteration:  464\n",
      "slope:  0.08323934535428741 intercept:  0.0020825581496936602 mse:  23.032191270479224 iteration:  465\n",
      "slope:  0.0832393272686462 intercept:  0.002086119541698845 mse:  23.032178586629488 iteration:  466\n",
      "slope:  0.08323930918301393 intercept:  0.0020896809318999617 mse:  23.032165902792585 iteration:  467\n",
      "slope:  0.0832392910973906 intercept:  0.002093242320297011 mse:  23.032153218968553 iteration:  468\n",
      "slope:  0.08323927301177622 intercept:  0.0020968037068899944 mse:  23.032140535157353 iteration:  469\n",
      "slope:  0.0832392549261708 intercept:  0.0021003650916789126 mse:  23.032127851359014 iteration:  470\n",
      "slope:  0.08323923684057435 intercept:  0.0021039264746637665 mse:  23.03211516757352 iteration:  471\n",
      "slope:  0.0832392187549869 intercept:  0.002107487855844557 mse:  23.03210248380088 iteration:  472\n",
      "slope:  0.08323920066940843 intercept:  0.002111049235221285 mse:  23.032089800041096 iteration:  473\n",
      "slope:  0.08323918258383897 intercept:  0.0021146106127939517 mse:  23.03207711629415 iteration:  474\n",
      "slope:  0.08323916449827853 intercept:  0.0021181719885625576 mse:  23.032064432560055 iteration:  475\n",
      "slope:  0.08323914641272712 intercept:  0.0021217333625271045 mse:  23.032051748838818 iteration:  476\n",
      "slope:  0.08323912832718473 intercept:  0.0021252947346875927 mse:  23.03203906513043 iteration:  477\n",
      "slope:  0.08323911024165138 intercept:  0.002128856105044023 mse:  23.03202638143489 iteration:  478\n",
      "slope:  0.08323909215612708 intercept:  0.002132417473596397 mse:  23.032013697752205 iteration:  479\n",
      "slope:  0.08323907407061183 intercept:  0.0021359788403447154 mse:  23.03200101408236 iteration:  480\n"
     ]
    },
    {
     "name": "stdout",
     "output_type": "stream",
     "text": [
      "slope:  0.08323905598510564 intercept:  0.002139540205288979 mse:  23.03198833042537 iteration:  481\n",
      "slope:  0.08323903789960853 intercept:  0.002143101568429189 mse:  23.031975646781234 iteration:  482\n",
      "slope:  0.08323901981412048 intercept:  0.0021466629297653456 mse:  23.031962963149944 iteration:  483\n",
      "slope:  0.0832390017286415 intercept:  0.0021502242892974506 mse:  23.0319502795315 iteration:  484\n",
      "slope:  0.0832389836431716 intercept:  0.0021537856470255044 mse:  23.03193759592592 iteration:  485\n",
      "slope:  0.08323896555771079 intercept:  0.0021573470029495083 mse:  23.031924912333178 iteration:  486\n",
      "slope:  0.08323894747225907 intercept:  0.002160908357069463 mse:  23.03191222875329 iteration:  487\n",
      "slope:  0.08323892938681644 intercept:  0.0021644697093853695 mse:  23.031899545186253 iteration:  488\n",
      "slope:  0.08323891130138292 intercept:  0.0021680310598972286 mse:  23.03188686163206 iteration:  489\n",
      "slope:  0.0832388932159585 intercept:  0.0021715924086050417 mse:  23.03187417809072 iteration:  490\n",
      "slope:  0.08323887513054318 intercept:  0.002175153755508809 mse:  23.031861494562232 iteration:  491\n",
      "slope:  0.08323885704513696 intercept:  0.0021787151006085323 mse:  23.031848811046594 iteration:  492\n",
      "slope:  0.08323883895973987 intercept:  0.002182276443904212 mse:  23.0318361275438 iteration:  493\n",
      "slope:  0.08323882087435189 intercept:  0.002185837785395849 mse:  23.031823444053867 iteration:  494\n",
      "slope:  0.08323880278897301 intercept:  0.0021893991250834443 mse:  23.031810760576782 iteration:  495\n",
      "slope:  0.08323878470360327 intercept:  0.0021929604629669992 mse:  23.03179807711254 iteration:  496\n",
      "slope:  0.08323876661824264 intercept:  0.002196521799046514 mse:  23.03178539366115 iteration:  497\n",
      "slope:  0.08323874853289114 intercept:  0.0022000831333219904 mse:  23.03177271022261 iteration:  498\n",
      "slope:  0.08323873044754876 intercept:  0.0022036444657934284 mse:  23.03176002679692 iteration:  499\n"
     ]
    }
   ],
   "source": [
    "gradient_descent(x,y)"
   ]
  },
  {
   "cell_type": "code",
   "execution_count": 148,
   "metadata": {},
   "outputs": [],
   "source": [
    "import time\n",
    "def gradient_descent(x,y):\n",
    "    \n",
    "    n = len(x)\n",
    "    learning_rate = 0.00001\n",
    "    intercept = slope = 0\n",
    "    iterations = 10\n",
    "    \n",
    "    for i in range(iterations):\n",
    "        \n",
    "                \n",
    "        y_pred = x*slope + intercept\n",
    "        \n",
    "        mse = mean_squared_error(y_pred,y)\n",
    "        \n",
    "        md = (2/n)*sum(x*(y-y_pred))\n",
    "        bd = (2/n)*sum(y-y_pred)\n",
    "\n",
    "        slope = slope + (learning_rate * md)\n",
    "        intercept = intercept + (learning_rate * bd)\n",
    "        \n",
    "        \n",
    "        print(\"slope: \",slope,\"intercept: \",intercept,\"mse: \",mse,\"iteration: \",i)"
   ]
  },
  {
   "cell_type": "code",
   "execution_count": 149,
   "metadata": {},
   "outputs": [],
   "source": [
    "x=df[\"TV\"]\n",
    "y=df[\"sales\"]"
   ]
  },
  {
   "cell_type": "code",
   "execution_count": 150,
   "metadata": {},
   "outputs": [],
   "source": [
    "x_train,x_test,y_train,y_test = train_test_split(x,y,test_size=0.3, random_state=1)"
   ]
  },
  {
   "cell_type": "code",
   "execution_count": 151,
   "metadata": {},
   "outputs": [
    {
     "name": "stdout",
     "output_type": "stream",
     "text": [
      "slope:  0.04658189999999999 intercept:  0.0002758285714285715 mse:  218.058 iteration:  0\n",
      "slope:  0.06720176804205624 intercept:  0.0004186895818371429 mse:  61.53292373462552 iteration:  1\n",
      "slope:  0.07632926600492236 intercept:  0.0005026909728253477 mse:  30.8619651640187 iteration:  2\n",
      "slope:  0.08036954389800602 intercept:  0.0005606374143861838 mse:  24.851926608216633 iteration:  3\n",
      "slope:  0.08215790962185016 intercept:  0.0006070502432366819 mse:  23.6741572481916 iteration:  4\n",
      "slope:  0.08294944242972345 intercept:  0.0006483574838046259 mse:  23.443263576107203 iteration:  5\n",
      "slope:  0.08329971652634763 intercept:  0.0006874045695961881 mse:  23.397908734074424 iteration:  6\n",
      "slope:  0.08345466275325986 intercept:  0.0007254510620724616 mse:  23.388909940475045 iteration:  7\n",
      "slope:  0.08352314501793669 intercept:  0.0007630545195358224 mse:  23.387035059624672 iteration:  8\n",
      "slope:  0.08355335308900161 intercept:  0.0008004617511103766 mse:  23.38655609967727 iteration:  9\n",
      "26\n"
     ]
    }
   ],
   "source": [
    "lr=LinearRegression()\n",
    "millis_before=int(round(time.time() * 1000))\n",
    "gradient_descent(x_train, y_train)\n",
    "millis_after= int(round(time.time() * 1000))\n",
    "\n",
    "print(millis_after - millis_before)\n",
    "\n"
   ]
  },
  {
   "cell_type": "code",
   "execution_count": null,
   "metadata": {},
   "outputs": [],
   "source": []
  },
  {
   "cell_type": "code",
   "execution_count": null,
   "metadata": {},
   "outputs": [],
   "source": []
  }
 ],
 "metadata": {
  "kernelspec": {
   "display_name": "Python 3",
   "language": "python",
   "name": "python3"
  },
  "language_info": {
   "codemirror_mode": {
    "name": "ipython",
    "version": 3
   },
   "file_extension": ".py",
   "mimetype": "text/x-python",
   "name": "python",
   "nbconvert_exporter": "python",
   "pygments_lexer": "ipython3",
   "version": "3.7.4"
  }
 },
 "nbformat": 4,
 "nbformat_minor": 2
}
