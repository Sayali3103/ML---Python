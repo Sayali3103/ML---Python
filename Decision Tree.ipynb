{
 "cells": [
  {
   "cell_type": "code",
   "execution_count": 1,
   "metadata": {},
   "outputs": [],
   "source": [
    "import numpy as np\n",
    "import pandas as pd\n",
    "import matplotlib.pyplot as plt\n",
    "import seaborn as sns\n",
    "\n",
    "from sklearn.linear_model import LogisticRegression\n",
    "from sklearn.model_selection import train_test_split\n",
    "from sklearn.metrics import classification_report\n",
    "\n",
    "import warnings\n",
    "warnings.filterwarnings('ignore')"
   ]
  },
  {
   "cell_type": "code",
   "execution_count": 2,
   "metadata": {},
   "outputs": [],
   "source": [
    "df = pd.read_csv(\"bank.csv\")"
   ]
  },
  {
   "cell_type": "code",
   "execution_count": 3,
   "metadata": {},
   "outputs": [
    {
     "data": {
      "text/html": [
       "<div>\n",
       "<style scoped>\n",
       "    .dataframe tbody tr th:only-of-type {\n",
       "        vertical-align: middle;\n",
       "    }\n",
       "\n",
       "    .dataframe tbody tr th {\n",
       "        vertical-align: top;\n",
       "    }\n",
       "\n",
       "    .dataframe thead th {\n",
       "        text-align: right;\n",
       "    }\n",
       "</style>\n",
       "<table border=\"1\" class=\"dataframe\">\n",
       "  <thead>\n",
       "    <tr style=\"text-align: right;\">\n",
       "      <th></th>\n",
       "      <th>age</th>\n",
       "      <th>job</th>\n",
       "      <th>marital</th>\n",
       "      <th>education</th>\n",
       "      <th>default</th>\n",
       "      <th>balance</th>\n",
       "      <th>housing</th>\n",
       "      <th>loan</th>\n",
       "      <th>contact</th>\n",
       "      <th>day</th>\n",
       "      <th>month</th>\n",
       "      <th>duration</th>\n",
       "      <th>campaign</th>\n",
       "      <th>pdays</th>\n",
       "      <th>previous</th>\n",
       "      <th>poutcome</th>\n",
       "      <th>deposit</th>\n",
       "    </tr>\n",
       "  </thead>\n",
       "  <tbody>\n",
       "    <tr>\n",
       "      <td>0</td>\n",
       "      <td>59</td>\n",
       "      <td>0</td>\n",
       "      <td>1</td>\n",
       "      <td>1</td>\n",
       "      <td>0</td>\n",
       "      <td>2343</td>\n",
       "      <td>1</td>\n",
       "      <td>0</td>\n",
       "      <td>2</td>\n",
       "      <td>5</td>\n",
       "      <td>8</td>\n",
       "      <td>1042</td>\n",
       "      <td>1</td>\n",
       "      <td>-1</td>\n",
       "      <td>0</td>\n",
       "      <td>3</td>\n",
       "      <td>1</td>\n",
       "    </tr>\n",
       "    <tr>\n",
       "      <td>1</td>\n",
       "      <td>56</td>\n",
       "      <td>0</td>\n",
       "      <td>1</td>\n",
       "      <td>1</td>\n",
       "      <td>0</td>\n",
       "      <td>45</td>\n",
       "      <td>0</td>\n",
       "      <td>0</td>\n",
       "      <td>2</td>\n",
       "      <td>5</td>\n",
       "      <td>8</td>\n",
       "      <td>1467</td>\n",
       "      <td>1</td>\n",
       "      <td>-1</td>\n",
       "      <td>0</td>\n",
       "      <td>3</td>\n",
       "      <td>1</td>\n",
       "    </tr>\n",
       "    <tr>\n",
       "      <td>2</td>\n",
       "      <td>41</td>\n",
       "      <td>9</td>\n",
       "      <td>1</td>\n",
       "      <td>1</td>\n",
       "      <td>0</td>\n",
       "      <td>1270</td>\n",
       "      <td>1</td>\n",
       "      <td>0</td>\n",
       "      <td>2</td>\n",
       "      <td>5</td>\n",
       "      <td>8</td>\n",
       "      <td>1389</td>\n",
       "      <td>1</td>\n",
       "      <td>-1</td>\n",
       "      <td>0</td>\n",
       "      <td>3</td>\n",
       "      <td>1</td>\n",
       "    </tr>\n",
       "    <tr>\n",
       "      <td>3</td>\n",
       "      <td>55</td>\n",
       "      <td>7</td>\n",
       "      <td>1</td>\n",
       "      <td>1</td>\n",
       "      <td>0</td>\n",
       "      <td>2476</td>\n",
       "      <td>1</td>\n",
       "      <td>0</td>\n",
       "      <td>2</td>\n",
       "      <td>5</td>\n",
       "      <td>8</td>\n",
       "      <td>579</td>\n",
       "      <td>1</td>\n",
       "      <td>-1</td>\n",
       "      <td>0</td>\n",
       "      <td>3</td>\n",
       "      <td>1</td>\n",
       "    </tr>\n",
       "    <tr>\n",
       "      <td>4</td>\n",
       "      <td>54</td>\n",
       "      <td>0</td>\n",
       "      <td>1</td>\n",
       "      <td>2</td>\n",
       "      <td>0</td>\n",
       "      <td>184</td>\n",
       "      <td>0</td>\n",
       "      <td>0</td>\n",
       "      <td>2</td>\n",
       "      <td>5</td>\n",
       "      <td>8</td>\n",
       "      <td>673</td>\n",
       "      <td>2</td>\n",
       "      <td>-1</td>\n",
       "      <td>0</td>\n",
       "      <td>3</td>\n",
       "      <td>1</td>\n",
       "    </tr>\n",
       "  </tbody>\n",
       "</table>\n",
       "</div>"
      ],
      "text/plain": [
       "   age  job  marital  education  default  balance  housing  loan  contact  \\\n",
       "0   59    0        1          1        0     2343        1     0        2   \n",
       "1   56    0        1          1        0       45        0     0        2   \n",
       "2   41    9        1          1        0     1270        1     0        2   \n",
       "3   55    7        1          1        0     2476        1     0        2   \n",
       "4   54    0        1          2        0      184        0     0        2   \n",
       "\n",
       "   day  month  duration  campaign  pdays  previous  poutcome  deposit  \n",
       "0    5      8      1042         1     -1         0         3        1  \n",
       "1    5      8      1467         1     -1         0         3        1  \n",
       "2    5      8      1389         1     -1         0         3        1  \n",
       "3    5      8       579         1     -1         0         3        1  \n",
       "4    5      8       673         2     -1         0         3        1  "
      ]
     },
     "execution_count": 3,
     "metadata": {},
     "output_type": "execute_result"
    }
   ],
   "source": [
    "df.head()"
   ]
  },
  {
   "cell_type": "code",
   "execution_count": 4,
   "metadata": {},
   "outputs": [
    {
     "name": "stdout",
     "output_type": "stream",
     "text": [
      "<class 'pandas.core.frame.DataFrame'>\n",
      "RangeIndex: 11162 entries, 0 to 11161\n",
      "Data columns (total 17 columns):\n",
      "age          11162 non-null int64\n",
      "job          11162 non-null int64\n",
      "marital      11162 non-null int64\n",
      "education    11162 non-null int64\n",
      "default      11162 non-null int64\n",
      "balance      11162 non-null int64\n",
      "housing      11162 non-null int64\n",
      "loan         11162 non-null int64\n",
      "contact      11162 non-null int64\n",
      "day          11162 non-null int64\n",
      "month        11162 non-null int64\n",
      "duration     11162 non-null int64\n",
      "campaign     11162 non-null int64\n",
      "pdays        11162 non-null int64\n",
      "previous     11162 non-null int64\n",
      "poutcome     11162 non-null int64\n",
      "deposit      11162 non-null int64\n",
      "dtypes: int64(17)\n",
      "memory usage: 1.4 MB\n"
     ]
    }
   ],
   "source": [
    "df.info()"
   ]
  },
  {
   "cell_type": "code",
   "execution_count": 5,
   "metadata": {},
   "outputs": [],
   "source": [
    "def classify(model):\n",
    "    model.fit(X_train, y_train)\n",
    "    y_pred = model.predict(X_test)\n",
    "    print(classification_report(y_test, y_pred))\n",
    "    return model"
   ]
  },
  {
   "cell_type": "code",
   "execution_count": 6,
   "metadata": {},
   "outputs": [],
   "source": [
    "X = df.iloc[:, :-1] # iloc for selection\n",
    "y = df.iloc[:, -1]"
   ]
  },
  {
   "cell_type": "code",
   "execution_count": 7,
   "metadata": {},
   "outputs": [],
   "source": [
    "X_train, X_test, y_train, y_test = train_test_split(X, y, test_size = 0.3) # test size devide 70-30%"
   ]
  },
  {
   "cell_type": "code",
   "execution_count": 8,
   "metadata": {},
   "outputs": [],
   "source": [
    "lr = LogisticRegression(random_state = 1)"
   ]
  },
  {
   "cell_type": "code",
   "execution_count": 9,
   "metadata": {},
   "outputs": [
    {
     "name": "stdout",
     "output_type": "stream",
     "text": [
      "              precision    recall  f1-score   support\n",
      "\n",
      "           0       0.80      0.81      0.81      1763\n",
      "           1       0.79      0.78      0.78      1586\n",
      "\n",
      "    accuracy                           0.80      3349\n",
      "   macro avg       0.79      0.79      0.79      3349\n",
      "weighted avg       0.80      0.80      0.80      3349\n",
      "\n"
     ]
    },
    {
     "data": {
      "text/plain": [
       "LogisticRegression(C=1.0, class_weight=None, dual=False, fit_intercept=True,\n",
       "                   intercept_scaling=1, l1_ratio=None, max_iter=100,\n",
       "                   multi_class='warn', n_jobs=None, penalty='l2',\n",
       "                   random_state=1, solver='warn', tol=0.0001, verbose=0,\n",
       "                   warm_start=False)"
      ]
     },
     "execution_count": 9,
     "metadata": {},
     "output_type": "execute_result"
    }
   ],
   "source": [
    "classify(lr)"
   ]
  },
  {
   "cell_type": "markdown",
   "metadata": {},
   "source": [
    "# Decision Tree"
   ]
  },
  {
   "cell_type": "code",
   "execution_count": 10,
   "metadata": {},
   "outputs": [],
   "source": [
    "from sklearn.tree import DecisionTreeClassifier"
   ]
  },
  {
   "cell_type": "code",
   "execution_count": 11,
   "metadata": {},
   "outputs": [],
   "source": [
    "dt = DecisionTreeClassifier()"
   ]
  },
  {
   "cell_type": "code",
   "execution_count": 12,
   "metadata": {},
   "outputs": [
    {
     "name": "stdout",
     "output_type": "stream",
     "text": [
      "              precision    recall  f1-score   support\n",
      "\n",
      "           0       0.79      0.78      0.78      1763\n",
      "           1       0.76      0.77      0.76      1586\n",
      "\n",
      "    accuracy                           0.77      3349\n",
      "   macro avg       0.77      0.77      0.77      3349\n",
      "weighted avg       0.77      0.77      0.77      3349\n",
      "\n"
     ]
    },
    {
     "data": {
      "text/plain": [
       "DecisionTreeClassifier(class_weight=None, criterion='gini', max_depth=None,\n",
       "                       max_features=None, max_leaf_nodes=None,\n",
       "                       min_impurity_decrease=0.0, min_impurity_split=None,\n",
       "                       min_samples_leaf=1, min_samples_split=2,\n",
       "                       min_weight_fraction_leaf=0.0, presort=False,\n",
       "                       random_state=None, splitter='best')"
      ]
     },
     "execution_count": 12,
     "metadata": {},
     "output_type": "execute_result"
    }
   ],
   "source": [
    "classify(dt)"
   ]
  },
  {
   "cell_type": "code",
   "execution_count": 13,
   "metadata": {},
   "outputs": [],
   "source": [
    "dt2 = DecisionTreeClassifier(max_depth = 10)"
   ]
  },
  {
   "cell_type": "code",
   "execution_count": 14,
   "metadata": {},
   "outputs": [
    {
     "name": "stdout",
     "output_type": "stream",
     "text": [
      "              precision    recall  f1-score   support\n",
      "\n",
      "           0       0.81      0.80      0.81      1763\n",
      "           1       0.78      0.80      0.79      1586\n",
      "\n",
      "    accuracy                           0.80      3349\n",
      "   macro avg       0.80      0.80      0.80      3349\n",
      "weighted avg       0.80      0.80      0.80      3349\n",
      "\n"
     ]
    },
    {
     "data": {
      "text/plain": [
       "DecisionTreeClassifier(class_weight=None, criterion='gini', max_depth=10,\n",
       "                       max_features=None, max_leaf_nodes=None,\n",
       "                       min_impurity_decrease=0.0, min_impurity_split=None,\n",
       "                       min_samples_leaf=1, min_samples_split=2,\n",
       "                       min_weight_fraction_leaf=0.0, presort=False,\n",
       "                       random_state=None, splitter='best')"
      ]
     },
     "execution_count": 14,
     "metadata": {},
     "output_type": "execute_result"
    }
   ],
   "source": [
    "classify(dt2)"
   ]
  },
  {
   "cell_type": "code",
   "execution_count": 15,
   "metadata": {},
   "outputs": [],
   "source": [
    "dt3 =  DecisionTreeClassifier(min_samples_leaf = 10)"
   ]
  },
  {
   "cell_type": "code",
   "execution_count": 16,
   "metadata": {},
   "outputs": [
    {
     "name": "stdout",
     "output_type": "stream",
     "text": [
      "              precision    recall  f1-score   support\n",
      "\n",
      "           0       0.82      0.81      0.82      1763\n",
      "           1       0.79      0.81      0.80      1586\n",
      "\n",
      "    accuracy                           0.81      3349\n",
      "   macro avg       0.81      0.81      0.81      3349\n",
      "weighted avg       0.81      0.81      0.81      3349\n",
      "\n"
     ]
    }
   ],
   "source": [
    "dt3 = classify(dt3)"
   ]
  },
  {
   "cell_type": "code",
   "execution_count": 17,
   "metadata": {},
   "outputs": [],
   "source": [
    "from sklearn import tree"
   ]
  },
  {
   "cell_type": "code",
   "execution_count": 18,
   "metadata": {},
   "outputs": [
    {
     "data": {
      "text/plain": [
       "[Text(168.19863138251222, 211.7178947368421, 'X[11] <= 206.5\\ngini = 0.499\\nsamples = 7813\\nvalue = [4110, 3703]'),\n",
       " Text(87.23883370195242, 200.2736842105263, 'X[13] <= 9.5\\ngini = 0.327\\nsamples = 3175\\nvalue = [2522, 653]'),\n",
       " Text(60.137032870652845, 188.82947368421054, 'X[10] <= 9.5\\ngini = 0.242\\nsamples = 2459\\nvalue = [2112, 347]'),\n",
       " Text(32.02903828553997, 177.38526315789474, 'X[10] <= 0.5\\ngini = 0.22\\nsamples = 2387\\nvalue = [2086, 301]'),\n",
       " Text(4.902501525320318, 165.94105263157894, 'X[6] <= 0.5\\ngini = 0.5\\nsamples = 127\\nvalue = [64, 63]'),\n",
       " Text(3.268334350213545, 154.49684210526317, 'X[9] <= 25.0\\ngini = 0.4\\nsamples = 76\\nvalue = [21, 55]'),\n",
       " Text(2.451250762660159, 143.05263157894737, 'X[0] <= 44.5\\ngini = 0.305\\nsamples = 64\\nvalue = [12, 52]'),\n",
       " Text(1.6341671751067726, 131.60842105263157, 'X[0] <= 29.5\\ngini = 0.162\\nsamples = 45\\nvalue = [4, 41]'),\n",
       " Text(0.8170835875533863, 120.16421052631578, 'gini = 0.0\\nsamples = 21\\nvalue = [0, 21]'),\n",
       " Text(2.451250762660159, 120.16421052631578, 'X[11] <= 164.5\\ngini = 0.278\\nsamples = 24\\nvalue = [4, 20]'),\n",
       " Text(1.6341671751067726, 108.72, 'gini = 0.133\\nsamples = 14\\nvalue = [1, 13]'),\n",
       " Text(3.268334350213545, 108.72, 'gini = 0.42\\nsamples = 10\\nvalue = [3, 7]'),\n",
       " Text(3.268334350213545, 131.60842105263157, 'gini = 0.488\\nsamples = 19\\nvalue = [8, 11]'),\n",
       " Text(4.085417937766931, 143.05263157894737, 'gini = 0.375\\nsamples = 12\\nvalue = [9, 3]'),\n",
       " Text(6.53666870042709, 154.49684210526317, 'X[11] <= 87.0\\ngini = 0.265\\nsamples = 51\\nvalue = [43, 8]'),\n",
       " Text(5.719585112873704, 143.05263157894737, 'gini = 0.0\\nsamples = 19\\nvalue = [19, 0]'),\n",
       " Text(7.353752287980477, 143.05263157894737, 'X[11] <= 161.0\\ngini = 0.375\\nsamples = 32\\nvalue = [24, 8]'),\n",
       " Text(6.53666870042709, 131.60842105263157, 'X[9] <= 18.5\\ngini = 0.472\\nsamples = 21\\nvalue = [13, 8]'),\n",
       " Text(5.719585112873704, 120.16421052631578, 'gini = 0.298\\nsamples = 11\\nvalue = [9, 2]'),\n",
       " Text(7.353752287980477, 120.16421052631578, 'gini = 0.48\\nsamples = 10\\nvalue = [4, 6]'),\n",
       " Text(8.170835875533863, 131.60842105263157, 'gini = 0.0\\nsamples = 11\\nvalue = [11, 0]'),\n",
       " Text(59.15557504575961, 165.94105263157894, 'X[0] <= 60.5\\ngini = 0.188\\nsamples = 2260\\nvalue = [2022, 238]'),\n",
       " Text(34.15154057352044, 154.49684210526317, 'X[0] <= 25.5\\ngini = 0.172\\nsamples = 2212\\nvalue = [2002, 210]'),\n",
       " Text(11.439170225747407, 143.05263157894737, 'X[6] <= 0.5\\ngini = 0.49\\nsamples = 65\\nvalue = [37, 28]'),\n",
       " Text(9.805003050640636, 131.60842105263157, 'X[9] <= 7.5\\ngini = 0.444\\nsamples = 39\\nvalue = [13, 26]'),\n",
       " Text(8.987919463087248, 120.16421052631578, 'gini = 0.48\\nsamples = 10\\nvalue = [6, 4]'),\n",
       " Text(10.622086638194022, 120.16421052631578, 'X[9] <= 24.5\\ngini = 0.366\\nsamples = 29\\nvalue = [7, 22]'),\n",
       " Text(9.805003050640636, 108.72, 'gini = 0.208\\nsamples = 17\\nvalue = [2, 15]'),\n",
       " Text(11.439170225747407, 108.72, 'gini = 0.486\\nsamples = 12\\nvalue = [5, 7]'),\n",
       " Text(13.07333740085418, 131.60842105263157, 'X[8] <= 0.5\\ngini = 0.142\\nsamples = 26\\nvalue = [24, 2]'),\n",
       " Text(12.256253813300795, 120.16421052631578, 'gini = 0.32\\nsamples = 10\\nvalue = [8, 2]'),\n",
       " Text(13.890420988407566, 120.16421052631578, 'gini = 0.0\\nsamples = 16\\nvalue = [16, 0]'),\n",
       " Text(56.863910921293474, 143.05263157894737, 'X[8] <= 1.5\\ngini = 0.155\\nsamples = 2147\\nvalue = [1965, 182]'),\n",
       " Text(33.040817571690056, 131.60842105263157, 'X[9] <= 5.5\\ngini = 0.212\\nsamples = 1397\\nvalue = [1229, 168]'),\n",
       " Text(18.384380719951192, 120.16421052631578, 'X[10] <= 4.0\\ngini = 0.442\\nsamples = 161\\nvalue = [108, 53]'),\n",
       " Text(13.07333740085418, 108.72, 'X[0] <= 34.5\\ngini = 0.269\\nsamples = 81\\nvalue = [68, 13]'),\n",
       " Text(11.030628431970715, 97.27578947368421, 'X[5] <= 651.5\\ngini = 0.455\\nsamples = 20\\nvalue = [13, 7]'),\n",
       " Text(10.213544844417328, 85.83157894736843, 'gini = 0.32\\nsamples = 10\\nvalue = [8, 2]'),\n",
       " Text(11.847712019524101, 85.83157894736843, 'gini = 0.5\\nsamples = 10\\nvalue = [5, 5]'),\n",
       " Text(15.116046369737646, 97.27578947368421, 'X[11] <= 152.5\\ngini = 0.177\\nsamples = 61\\nvalue = [55, 6]'),\n",
       " Text(13.481879194630874, 85.83157894736843, 'X[5] <= 360.5\\ngini = 0.051\\nsamples = 38\\nvalue = [37, 1]'),\n",
       " Text(12.664795607077487, 74.38736842105263, 'gini = 0.18\\nsamples = 10\\nvalue = [9, 1]'),\n",
       " Text(14.29896278218426, 74.38736842105263, 'gini = 0.0\\nsamples = 28\\nvalue = [28, 0]'),\n",
       " Text(16.750213544844417, 85.83157894736843, 'X[5] <= 359.5\\ngini = 0.34\\nsamples = 23\\nvalue = [18, 5]'),\n",
       " Text(15.933129957291033, 74.38736842105263, 'gini = 0.165\\nsamples = 11\\nvalue = [10, 1]'),\n",
       " Text(17.567297132397805, 74.38736842105263, 'gini = 0.444\\nsamples = 12\\nvalue = [8, 4]'),\n",
       " Text(23.695424039048202, 108.72, 'X[10] <= 7.5\\ngini = 0.5\\nsamples = 80\\nvalue = [40, 40]'),\n",
       " Text(21.652715070164735, 97.27578947368421, 'X[11] <= 155.0\\ngini = 0.436\\nsamples = 53\\nvalue = [17, 36]'),\n",
       " Text(20.018547895057964, 85.83157894736843, 'X[1] <= 4.5\\ngini = 0.5\\nsamples = 32\\nvalue = [16, 16]'),\n",
       " Text(19.201464307504576, 74.38736842105263, 'X[0] <= 36.5\\ngini = 0.463\\nsamples = 22\\nvalue = [14, 8]'),\n",
       " Text(18.384380719951192, 62.943157894736856, 'gini = 0.298\\nsamples = 11\\nvalue = [9, 2]'),\n",
       " Text(20.018547895057964, 62.943157894736856, 'gini = 0.496\\nsamples = 11\\nvalue = [5, 6]'),\n",
       " Text(20.83563148261135, 74.38736842105263, 'gini = 0.32\\nsamples = 10\\nvalue = [2, 8]'),\n",
       " Text(23.28688224527151, 85.83157894736843, 'X[12] <= 1.5\\ngini = 0.091\\nsamples = 21\\nvalue = [1, 20]'),\n",
       " Text(22.469798657718123, 74.38736842105263, 'gini = 0.18\\nsamples = 10\\nvalue = [1, 9]'),\n",
       " Text(24.103965832824894, 74.38736842105263, 'gini = 0.0\\nsamples = 11\\nvalue = [0, 11]'),\n",
       " Text(25.73813300793167, 97.27578947368421, 'X[11] <= 96.5\\ngini = 0.252\\nsamples = 27\\nvalue = [23, 4]'),\n",
       " Text(24.92104942037828, 85.83157894736843, 'gini = 0.0\\nsamples = 12\\nvalue = [12, 0]'),\n",
       " Text(26.555216595485053, 85.83157894736843, 'gini = 0.391\\nsamples = 15\\nvalue = [11, 4]'),\n",
       " Text(47.69725442342892, 120.16421052631578, 'X[11] <= 114.5\\ngini = 0.169\\nsamples = 1236\\nvalue = [1121, 115]'),\n",
       " Text(33.70469798657719, 108.72, 'X[11] <= 74.5\\ngini = 0.069\\nsamples = 641\\nvalue = [618, 23]'),\n",
       " Text(29.006467358145212, 97.27578947368421, 'X[9] <= 13.5\\ngini = 0.012\\nsamples = 322\\nvalue = [320, 2]'),\n",
       " Text(28.189383770591828, 85.83157894736843, 'X[9] <= 9.5\\ngini = 0.056\\nsamples = 70\\nvalue = [68, 2]'),\n",
       " Text(27.37230018303844, 74.38736842105263, 'gini = 0.0\\nsamples = 49\\nvalue = [49, 0]'),\n",
       " Text(29.006467358145212, 74.38736842105263, 'X[5] <= 184.5\\ngini = 0.172\\nsamples = 21\\nvalue = [19, 2]'),\n",
       " Text(28.189383770591828, 62.943157894736856, 'gini = 0.32\\nsamples = 10\\nvalue = [8, 2]'),\n",
       " Text(29.8235509456986, 62.943157894736856, 'gini = 0.0\\nsamples = 11\\nvalue = [11, 0]'),\n",
       " Text(29.8235509456986, 85.83157894736843, 'gini = 0.0\\nsamples = 252\\nvalue = [252, 0]'),\n",
       " Text(38.40292861500915, 97.27578947368421, 'X[2] <= 1.5\\ngini = 0.123\\nsamples = 319\\nvalue = [298, 21]'),\n",
       " Text(34.72605247101892, 85.83157894736843, 'X[11] <= 80.5\\ngini = 0.071\\nsamples = 245\\nvalue = [236, 9]'),\n",
       " Text(32.27480170835876, 74.38736842105263, 'X[9] <= 13.5\\ngini = 0.214\\nsamples = 41\\nvalue = [36, 5]'),\n",
       " Text(31.45771812080537, 62.943157894736856, 'gini = 0.408\\nsamples = 14\\nvalue = [10, 4]'),\n",
       " Text(33.09188529591214, 62.943157894736856, 'X[0] <= 39.5\\ngini = 0.071\\nsamples = 27\\nvalue = [26, 1]'),\n",
       " Text(32.27480170835876, 51.49894736842106, 'gini = 0.18\\nsamples = 10\\nvalue = [9, 1]'),\n",
       " Text(33.90896888346553, 51.49894736842106, 'gini = 0.0\\nsamples = 17\\nvalue = [17, 0]'),\n",
       " Text(37.177303233679076, 74.38736842105263, 'X[10] <= 3.5\\ngini = 0.038\\nsamples = 204\\nvalue = [200, 4]'),\n",
       " Text(36.36021964612569, 62.943157894736856, 'X[6] <= 0.5\\ngini = 0.108\\nsamples = 70\\nvalue = [66, 4]'),\n",
       " Text(35.5431360585723, 51.49894736842106, 'X[5] <= 1065.0\\ngini = 0.064\\nsamples = 60\\nvalue = [58, 2]'),\n",
       " Text(34.72605247101892, 40.05473684210526, 'gini = 0.0\\nsamples = 41\\nvalue = [41, 0]'),\n",
       " Text(36.36021964612569, 40.05473684210526, 'gini = 0.188\\nsamples = 19\\nvalue = [17, 2]'),\n",
       " Text(37.177303233679076, 51.49894736842106, 'gini = 0.32\\nsamples = 10\\nvalue = [8, 2]'),\n",
       " Text(37.99438682123246, 62.943157894736856, 'gini = 0.0\\nsamples = 134\\nvalue = [134, 0]'),\n",
       " Text(42.079804758999394, 85.83157894736843, 'X[12] <= 1.5\\ngini = 0.272\\nsamples = 74\\nvalue = [62, 12]'),\n",
       " Text(40.44563758389262, 74.38736842105263, 'X[9] <= 17.5\\ngini = 0.434\\nsamples = 22\\nvalue = [15, 7]'),\n",
       " Text(39.628553996339235, 62.943157894736856, 'gini = 0.486\\nsamples = 12\\nvalue = [7, 5]'),\n",
       " Text(41.26272117144601, 62.943157894736856, 'gini = 0.32\\nsamples = 10\\nvalue = [8, 2]'),\n",
       " Text(43.71397193410617, 74.38736842105263, 'X[5] <= 2323.0\\ngini = 0.174\\nsamples = 52\\nvalue = [47, 5]'),\n",
       " Text(42.89688834655278, 62.943157894736856, 'X[12] <= 2.5\\ngini = 0.091\\nsamples = 42\\nvalue = [40, 2]'),\n",
       " Text(42.079804758999394, 51.49894736842106, 'X[5] <= 136.5\\ngini = 0.18\\nsamples = 20\\nvalue = [18, 2]'),\n",
       " Text(41.26272117144601, 40.05473684210526, 'gini = 0.0\\nsamples = 10\\nvalue = [10, 0]'),\n",
       " Text(42.89688834655278, 40.05473684210526, 'gini = 0.32\\nsamples = 10\\nvalue = [8, 2]'),\n",
       " Text(43.71397193410617, 51.49894736842106, 'gini = 0.0\\nsamples = 22\\nvalue = [22, 0]'),\n",
       " Text(44.53105552165955, 62.943157894736856, 'gini = 0.42\\nsamples = 10\\nvalue = [7, 3]'),\n",
       " Text(61.689810860280666, 108.72, 'X[12] <= 1.5\\ngini = 0.261\\nsamples = 595\\nvalue = [503, 92]'),\n",
       " Text(53.31470408785845, 97.27578947368421, 'X[6] <= 0.5\\ngini = 0.397\\nsamples = 205\\nvalue = [149, 56]'),\n",
       " Text(48.61647345942649, 85.83157894736843, 'X[9] <= 17.5\\ngini = 0.493\\nsamples = 104\\nvalue = [58, 46]'),\n",
       " Text(46.98230628431971, 74.38736842105263, 'X[10] <= 5.5\\ngini = 0.458\\nsamples = 45\\nvalue = [16, 29]'),\n",
       " Text(46.16522269676633, 62.943157894736856, 'X[10] <= 4.0\\ngini = 0.497\\nsamples = 28\\nvalue = [15, 13]'),\n",
       " Text(45.34813910921294, 51.49894736842106, 'gini = 0.401\\nsamples = 18\\nvalue = [5, 13]'),\n",
       " Text(46.98230628431971, 51.49894736842106, 'gini = 0.0\\nsamples = 10\\nvalue = [10, 0]'),\n",
       " Text(47.799389871873096, 62.943157894736856, 'gini = 0.111\\nsamples = 17\\nvalue = [1, 16]'),\n",
       " Text(50.250640634533255, 74.38736842105263, 'X[5] <= 372.5\\ngini = 0.41\\nsamples = 59\\nvalue = [42, 17]'),\n",
       " Text(49.43355704697987, 62.943157894736856, 'gini = 0.0\\nsamples = 20\\nvalue = [20, 0]'),\n",
       " Text(51.067724222086646, 62.943157894736856, 'X[0] <= 35.5\\ngini = 0.492\\nsamples = 39\\nvalue = [22, 17]'),\n",
       " Text(50.250640634533255, 51.49894736842106, 'gini = 0.32\\nsamples = 10\\nvalue = [2, 8]'),\n",
       " Text(51.88480780964003, 51.49894736842106, 'X[10] <= 7.5\\ngini = 0.428\\nsamples = 29\\nvalue = [20, 9]'),\n",
       " Text(51.067724222086646, 40.05473684210526, 'gini = 0.5\\nsamples = 16\\nvalue = [8, 8]'),\n",
       " Text(52.701891397193414, 40.05473684210526, 'gini = 0.142\\nsamples = 13\\nvalue = [12, 1]'),\n",
       " Text(58.012934716290424, 85.83157894736843, 'X[5] <= 970.5\\ngini = 0.178\\nsamples = 101\\nvalue = [91, 10]'),\n",
       " Text(55.97022574740696, 74.38736842105263, 'X[2] <= 1.5\\ngini = 0.098\\nsamples = 77\\nvalue = [73, 4]'),\n",
       " Text(54.33605857230019, 62.943157894736856, 'X[11] <= 187.0\\ngini = 0.035\\nsamples = 56\\nvalue = [55, 1]'),\n",
       " Text(53.5189749847468, 51.49894736842106, 'gini = 0.0\\nsamples = 46\\nvalue = [46, 0]'),\n",
       " Text(55.15314215985357, 51.49894736842106, 'gini = 0.18\\nsamples = 10\\nvalue = [9, 1]'),\n",
       " Text(57.60439292251373, 62.943157894736856, 'X[9] <= 11.5\\ngini = 0.245\\nsamples = 21\\nvalue = [18, 3]'),\n",
       " Text(56.78730933496035, 51.49894736842106, 'gini = 0.0\\nsamples = 10\\nvalue = [10, 0]'),\n",
       " Text(58.421476510067116, 51.49894736842106, 'gini = 0.397\\nsamples = 11\\nvalue = [8, 3]'),\n",
       " Text(60.05564368517389, 74.38736842105263, 'X[1] <= 5.5\\ngini = 0.375\\nsamples = 24\\nvalue = [18, 6]'),\n",
       " Text(59.23856009762051, 62.943157894736856, 'gini = 0.459\\nsamples = 14\\nvalue = [9, 5]'),\n",
       " Text(60.872727272727275, 62.943157894736856, 'gini = 0.18\\nsamples = 10\\nvalue = [9, 1]'),\n",
       " Text(70.06491763270287, 97.27578947368421, 'X[10] <= 5.5\\ngini = 0.168\\nsamples = 390\\nvalue = [354, 36]'),\n",
       " Text(66.18377059182428, 85.83157894736843, 'X[5] <= 341.5\\ngini = 0.124\\nsamples = 302\\nvalue = [282, 20]'),\n",
       " Text(63.323978035387434, 74.38736842105263, 'X[0] <= 29.5\\ngini = 0.041\\nsamples = 142\\nvalue = [139, 3]'),\n",
       " Text(62.50689444783405, 62.943157894736856, 'gini = 0.245\\nsamples = 14\\nvalue = [12, 2]'),\n",
       " Text(64.14106162294082, 62.943157894736856, 'X[1] <= 0.5\\ngini = 0.016\\nsamples = 128\\nvalue = [127, 1]'),\n",
       " Text(63.323978035387434, 51.49894736842106, 'X[0] <= 42.5\\ngini = 0.08\\nsamples = 24\\nvalue = [23, 1]'),\n",
       " Text(62.50689444783405, 40.05473684210526, 'gini = 0.18\\nsamples = 10\\nvalue = [9, 1]'),\n",
       " Text(64.14106162294082, 40.05473684210526, 'gini = 0.0\\nsamples = 14\\nvalue = [14, 0]'),\n",
       " Text(64.95814521049421, 51.49894736842106, 'gini = 0.0\\nsamples = 104\\nvalue = [104, 0]'),\n",
       " Text(69.04356314826114, 74.38736842105263, 'X[0] <= 57.5\\ngini = 0.19\\nsamples = 160\\nvalue = [143, 17]'),\n",
       " Text(68.22647956070776, 62.943157894736856, 'X[10] <= 1.5\\ngini = 0.161\\nsamples = 147\\nvalue = [134, 13]'),\n",
       " Text(66.59231238560098, 51.49894736842106, 'X[12] <= 3.5\\ngini = 0.073\\nsamples = 79\\nvalue = [76, 3]'),\n",
       " Text(65.77522879804759, 40.05473684210526, 'X[5] <= 1531.0\\ngini = 0.136\\nsamples = 41\\nvalue = [38, 3]'),\n",
       " Text(64.95814521049421, 28.610526315789485, 'X[5] <= 705.0\\ngini = 0.245\\nsamples = 21\\nvalue = [18, 3]'),\n",
       " Text(64.14106162294082, 17.166315789473686, 'gini = 0.0\\nsamples = 11\\nvalue = [11, 0]'),\n",
       " Text(65.77522879804759, 17.166315789473686, 'gini = 0.42\\nsamples = 10\\nvalue = [7, 3]'),\n",
       " Text(66.59231238560098, 28.610526315789485, 'gini = 0.0\\nsamples = 20\\nvalue = [20, 0]'),\n",
       " Text(67.40939597315437, 40.05473684210526, 'gini = 0.0\\nsamples = 38\\nvalue = [38, 0]'),\n",
       " Text(69.86064673581453, 51.49894736842106, 'X[10] <= 3.5\\ngini = 0.251\\nsamples = 68\\nvalue = [58, 10]'),\n",
       " Text(69.04356314826114, 40.05473684210526, 'gini = 0.486\\nsamples = 12\\nvalue = [5, 7]'),\n",
       " Text(70.67773032336791, 40.05473684210526, 'X[3] <= 1.5\\ngini = 0.101\\nsamples = 56\\nvalue = [53, 3]'),\n",
       " Text(69.86064673581453, 28.610526315789485, 'gini = 0.0\\nsamples = 36\\nvalue = [36, 0]'),\n",
       " Text(71.4948139109213, 28.610526315789485, 'X[0] <= 42.5\\ngini = 0.255\\nsamples = 20\\nvalue = [17, 3]'),\n",
       " Text(70.67773032336791, 17.166315789473686, 'gini = 0.42\\nsamples = 10\\nvalue = [7, 3]'),\n",
       " Text(72.31189749847469, 17.166315789473686, 'gini = 0.0\\nsamples = 10\\nvalue = [10, 0]'),\n",
       " Text(69.86064673581453, 62.943157894736856, 'gini = 0.426\\nsamples = 13\\nvalue = [9, 4]'),\n",
       " Text(73.94606467358146, 85.83157894736843, 'X[10] <= 7.5\\ngini = 0.298\\nsamples = 88\\nvalue = [72, 16]'),\n",
       " Text(72.31189749847469, 74.38736842105263, 'X[0] <= 36.5\\ngini = 0.42\\nsamples = 20\\nvalue = [6, 14]'),\n",
       " Text(71.4948139109213, 62.943157894736856, 'gini = 0.48\\nsamples = 10\\nvalue = [6, 4]'),\n",
       " Text(73.12898108602808, 62.943157894736856, 'gini = 0.0\\nsamples = 10\\nvalue = [0, 10]'),\n",
       " Text(75.58023184868823, 74.38736842105263, 'X[9] <= 20.5\\ngini = 0.057\\nsamples = 68\\nvalue = [66, 2]'),\n",
       " Text(74.76314826113484, 62.943157894736856, 'gini = 0.0\\nsamples = 57\\nvalue = [57, 0]'),\n",
       " Text(76.39731543624161, 62.943157894736856, 'gini = 0.298\\nsamples = 11\\nvalue = [9, 2]'),\n",
       " Text(80.68700427089689, 131.60842105263157, 'X[10] <= 5.5\\ngini = 0.037\\nsamples = 750\\nvalue = [736, 14]'),\n",
       " Text(78.0314826113484, 120.16421052631578, 'X[5] <= 306.0\\ngini = 0.219\\nsamples = 24\\nvalue = [21, 3]'),\n",
       " Text(77.21439902379501, 108.72, 'gini = 0.0\\nsamples = 14\\nvalue = [14, 0]'),\n",
       " Text(78.84856619890178, 108.72, 'gini = 0.42\\nsamples = 10\\nvalue = [7, 3]'),\n",
       " Text(83.3425259304454, 120.16421052631578, 'X[2] <= 1.5\\ngini = 0.03\\nsamples = 726\\nvalue = [715, 11]'),\n",
       " Text(80.48273337400855, 108.72, 'X[1] <= 0.5\\ngini = 0.014\\nsamples = 565\\nvalue = [561, 4]'),\n",
       " Text(78.84856619890178, 97.27578947368421, 'X[11] <= 95.5\\ngini = 0.061\\nsamples = 64\\nvalue = [62, 2]'),\n",
       " Text(78.0314826113484, 85.83157894736843, 'X[11] <= 68.5\\ngini = 0.137\\nsamples = 27\\nvalue = [25, 2]'),\n",
       " Text(77.21439902379501, 74.38736842105263, 'gini = 0.0\\nsamples = 17\\nvalue = [17, 0]'),\n",
       " Text(78.84856619890178, 74.38736842105263, 'gini = 0.32\\nsamples = 10\\nvalue = [8, 2]'),\n",
       " Text(79.66564978645516, 85.83157894736843, 'gini = 0.0\\nsamples = 37\\nvalue = [37, 0]'),\n",
       " Text(82.11690054911531, 97.27578947368421, 'X[0] <= 35.5\\ngini = 0.008\\nsamples = 501\\nvalue = [499, 2]'),\n",
       " Text(81.29981696156193, 85.83157894736843, 'X[11] <= 148.0\\ngini = 0.039\\nsamples = 101\\nvalue = [99, 2]'),\n",
       " Text(80.48273337400855, 74.38736842105263, 'gini = 0.0\\nsamples = 69\\nvalue = [69, 0]'),\n",
       " Text(82.11690054911531, 74.38736842105263, 'X[9] <= 20.5\\ngini = 0.117\\nsamples = 32\\nvalue = [30, 2]'),\n",
       " Text(81.29981696156193, 62.943157894736856, 'gini = 0.208\\nsamples = 17\\nvalue = [15, 2]'),\n",
       " Text(82.93398413666871, 62.943157894736856, 'gini = 0.0\\nsamples = 15\\nvalue = [15, 0]'),\n",
       " Text(82.93398413666871, 85.83157894736843, 'gini = 0.0\\nsamples = 400\\nvalue = [400, 0]'),\n",
       " Text(86.20231848688225, 108.72, 'X[12] <= 1.5\\ngini = 0.083\\nsamples = 161\\nvalue = [154, 7]'),\n",
       " Text(85.38523489932886, 97.27578947368421, 'X[6] <= 0.5\\ngini = 0.178\\nsamples = 71\\nvalue = [64, 7]'),\n",
       " Text(84.56815131177548, 85.83157894736843, 'gini = 0.43\\nsamples = 16\\nvalue = [11, 5]'),\n",
       " Text(86.20231848688225, 85.83157894736843, 'X[1] <= 6.5\\ngini = 0.07\\nsamples = 55\\nvalue = [53, 2]'),\n",
       " Text(85.38523489932886, 74.38736842105263, 'gini = 0.0\\nsamples = 34\\nvalue = [34, 0]'),\n",
       " Text(87.01940207443563, 74.38736842105263, 'X[5] <= 637.0\\ngini = 0.172\\nsamples = 21\\nvalue = [19, 2]'),\n",
       " Text(86.20231848688225, 62.943157894736856, 'gini = 0.18\\nsamples = 10\\nvalue = [9, 1]'),\n",
       " Text(87.83648566198903, 62.943157894736856, 'gini = 0.165\\nsamples = 11\\nvalue = [10, 1]'),\n",
       " Text(87.01940207443563, 97.27578947368421, 'gini = 0.0\\nsamples = 90\\nvalue = [90, 0]'),\n",
       " Text(84.15960951799879, 154.49684210526317, 'X[11] <= 102.5\\ngini = 0.486\\nsamples = 48\\nvalue = [20, 28]'),\n",
       " Text(83.3425259304454, 143.05263157894737, 'gini = 0.278\\nsamples = 12\\nvalue = [10, 2]'),\n",
       " Text(84.97669310555217, 143.05263157894737, 'X[9] <= 8.0\\ngini = 0.401\\nsamples = 36\\nvalue = [10, 26]'),\n",
       " Text(84.15960951799879, 131.60842105263157, 'gini = 0.48\\nsamples = 10\\nvalue = [6, 4]'),\n",
       " Text(85.79377669310556, 131.60842105263157, 'X[9] <= 20.5\\ngini = 0.26\\nsamples = 26\\nvalue = [4, 22]'),\n",
       " Text(84.97669310555217, 120.16421052631578, 'gini = 0.375\\nsamples = 16\\nvalue = [4, 12]'),\n",
       " Text(86.61086028065894, 120.16421052631578, 'gini = 0.0\\nsamples = 10\\nvalue = [0, 10]'),\n",
       " Text(88.24502745576572, 177.38526315789474, 'X[11] <= 81.5\\ngini = 0.461\\nsamples = 72\\nvalue = [26, 46]'),\n",
       " Text(87.42794386821234, 165.94105263157894, 'gini = 0.142\\nsamples = 13\\nvalue = [12, 1]'),\n",
       " Text(89.0621110433191, 165.94105263157894, 'X[3] <= 1.5\\ngini = 0.362\\nsamples = 59\\nvalue = [14, 45]'),\n",
       " Text(87.42794386821234, 154.49684210526317, 'X[10] <= 10.5\\ngini = 0.18\\nsamples = 30\\nvalue = [3, 27]'),\n",
       " Text(86.61086028065894, 143.05263157894737, 'gini = 0.0\\nsamples = 20\\nvalue = [0, 20]'),\n",
       " Text(88.24502745576572, 143.05263157894737, 'gini = 0.42\\nsamples = 10\\nvalue = [3, 7]'),\n",
       " Text(90.69627821842587, 154.49684210526317, 'X[1] <= 4.5\\ngini = 0.471\\nsamples = 29\\nvalue = [11, 18]'),\n",
       " Text(89.87919463087249, 143.05263157894737, 'gini = 0.346\\nsamples = 18\\nvalue = [4, 14]'),\n",
       " Text(91.51336180597926, 143.05263157894737, 'gini = 0.463\\nsamples = 11\\nvalue = [7, 4]'),\n",
       " Text(114.34063453325199, 188.82947368421054, 'X[15] <= 1.5\\ngini = 0.489\\nsamples = 716\\nvalue = [410, 306]'),\n",
       " Text(104.48456375838927, 177.38526315789474, 'X[11] <= 139.5\\ngini = 0.378\\nsamples = 497\\nvalue = [371, 126]'),\n",
       " Text(97.64148871262967, 165.94105263157894, 'X[13] <= 107.5\\ngini = 0.235\\nsamples = 324\\nvalue = [280, 44]'),\n",
       " Text(93.96461256863942, 154.49684210526317, 'X[5] <= 372.0\\ngini = 0.461\\nsamples = 50\\nvalue = [32, 18]'),\n",
       " Text(93.14752898108604, 143.05263157894737, 'gini = 0.142\\nsamples = 13\\nvalue = [12, 1]'),\n",
       " Text(94.78169615619281, 143.05263157894737, 'X[9] <= 17.5\\ngini = 0.497\\nsamples = 37\\nvalue = [20, 17]'),\n",
       " Text(93.96461256863942, 131.60842105263157, 'X[11] <= 107.5\\ngini = 0.472\\nsamples = 21\\nvalue = [8, 13]'),\n",
       " Text(93.14752898108604, 120.16421052631578, 'gini = 0.496\\nsamples = 11\\nvalue = [6, 5]'),\n",
       " Text(94.78169615619281, 120.16421052631578, 'gini = 0.32\\nsamples = 10\\nvalue = [2, 8]'),\n",
       " Text(95.59877974374619, 131.60842105263157, 'gini = 0.375\\nsamples = 16\\nvalue = [12, 4]'),\n",
       " Text(101.3183648566199, 154.49684210526317, 'X[13] <= 378.5\\ngini = 0.172\\nsamples = 274\\nvalue = [248, 26]'),\n",
       " Text(100.50128126906651, 143.05263157894737, 'X[6] <= 0.5\\ngini = 0.142\\nsamples = 260\\nvalue = [240, 20]'),\n",
       " Text(97.23294691885297, 131.60842105263157, 'X[9] <= 4.5\\ngini = 0.308\\nsamples = 63\\nvalue = [51, 12]'),\n",
       " Text(96.41586333129958, 120.16421052631578, 'gini = 0.5\\nsamples = 12\\nvalue = [6, 6]'),\n",
       " Text(98.05003050640636, 120.16421052631578, 'X[13] <= 180.5\\ngini = 0.208\\nsamples = 51\\nvalue = [45, 6]'),\n",
       " Text(97.23294691885297, 108.72, 'gini = 0.0\\nsamples = 17\\nvalue = [17, 0]'),\n",
       " Text(98.86711409395974, 108.72, 'X[13] <= 286.0\\ngini = 0.291\\nsamples = 34\\nvalue = [28, 6]'),\n",
       " Text(98.05003050640636, 97.27578947368421, 'X[0] <= 36.0\\ngini = 0.386\\nsamples = 23\\nvalue = [17, 6]'),\n",
       " Text(97.23294691885297, 85.83157894736843, 'gini = 0.486\\nsamples = 12\\nvalue = [7, 5]'),\n",
       " Text(98.86711409395974, 85.83157894736843, 'gini = 0.165\\nsamples = 11\\nvalue = [10, 1]'),\n",
       " Text(99.68419768151313, 97.27578947368421, 'gini = 0.0\\nsamples = 11\\nvalue = [11, 0]'),\n",
       " Text(103.76961561928006, 131.60842105263157, 'X[9] <= 21.5\\ngini = 0.078\\nsamples = 197\\nvalue = [189, 8]'),\n",
       " Text(102.95253203172668, 120.16421052631578, 'X[8] <= 0.5\\ngini = 0.053\\nsamples = 183\\nvalue = [178, 5]'),\n",
       " Text(102.13544844417329, 108.72, 'X[11] <= 126.5\\ngini = 0.035\\nsamples = 170\\nvalue = [167, 3]'),\n",
       " Text(101.3183648566199, 97.27578947368421, 'X[14] <= 4.5\\ngini = 0.013\\nsamples = 153\\nvalue = [152, 1]'),\n",
       " Text(100.50128126906651, 85.83157894736843, 'gini = 0.0\\nsamples = 127\\nvalue = [127, 0]'),\n",
       " Text(102.13544844417329, 85.83157894736843, 'X[5] <= 412.0\\ngini = 0.074\\nsamples = 26\\nvalue = [25, 1]'),\n",
       " Text(101.3183648566199, 74.38736842105263, 'gini = 0.18\\nsamples = 10\\nvalue = [9, 1]'),\n",
       " Text(102.95253203172668, 74.38736842105263, 'gini = 0.0\\nsamples = 16\\nvalue = [16, 0]'),\n",
       " Text(102.95253203172668, 97.27578947368421, 'gini = 0.208\\nsamples = 17\\nvalue = [15, 2]'),\n",
       " Text(103.76961561928006, 108.72, 'gini = 0.26\\nsamples = 13\\nvalue = [11, 2]'),\n",
       " Text(104.58669920683344, 120.16421052631578, 'gini = 0.337\\nsamples = 14\\nvalue = [11, 3]'),\n",
       " Text(102.13544844417329, 143.05263157894737, 'gini = 0.49\\nsamples = 14\\nvalue = [8, 6]'),\n",
       " Text(111.32763880414888, 165.94105263157894, 'X[13] <= 134.0\\ngini = 0.499\\nsamples = 173\\nvalue = [91, 82]'),\n",
       " Text(107.855033557047, 154.49684210526317, 'X[11] <= 166.5\\ngini = 0.328\\nsamples = 58\\nvalue = [12, 46]'),\n",
       " Text(106.22086638194021, 143.05263157894737, 'X[5] <= 535.5\\ngini = 0.469\\nsamples = 24\\nvalue = [9, 15]'),\n",
       " Text(105.40378279438683, 131.60842105263157, 'gini = 0.42\\nsamples = 10\\nvalue = [7, 3]'),\n",
       " Text(107.0379499694936, 131.60842105263157, 'gini = 0.245\\nsamples = 14\\nvalue = [2, 12]'),\n",
       " Text(109.48920073215376, 143.05263157894737, 'X[10] <= 8.5\\ngini = 0.161\\nsamples = 34\\nvalue = [3, 31]'),\n",
       " Text(108.67211714460038, 131.60842105263157, 'gini = 0.0\\nsamples = 24\\nvalue = [0, 24]'),\n",
       " Text(110.30628431970715, 131.60842105263157, 'gini = 0.42\\nsamples = 10\\nvalue = [3, 7]'),\n",
       " Text(114.80024405125077, 154.49684210526317, 'X[6] <= 0.5\\ngini = 0.43\\nsamples = 115\\nvalue = [79, 36]'),\n",
       " Text(112.75753508236731, 143.05263157894737, 'X[13] <= 216.5\\ngini = 0.487\\nsamples = 43\\nvalue = [18, 25]'),\n",
       " Text(111.94045149481391, 131.60842105263157, 'X[1] <= 7.5\\ngini = 0.469\\nsamples = 24\\nvalue = [15, 9]'),\n",
       " Text(111.12336790726053, 120.16421052631578, 'gini = 0.26\\nsamples = 13\\nvalue = [11, 2]'),\n",
       " Text(112.75753508236731, 120.16421052631578, 'gini = 0.463\\nsamples = 11\\nvalue = [4, 7]'),\n",
       " Text(113.5746186699207, 131.60842105263157, 'gini = 0.266\\nsamples = 19\\nvalue = [3, 16]'),\n",
       " Text(116.84295302013423, 143.05263157894737, 'X[10] <= 5.5\\ngini = 0.259\\nsamples = 72\\nvalue = [61, 11]'),\n",
       " Text(115.20878584502746, 131.60842105263157, 'X[1] <= 3.0\\ngini = 0.428\\nsamples = 29\\nvalue = [20, 9]'),\n",
       " Text(114.39170225747408, 120.16421052631578, 'gini = 0.0\\nsamples = 10\\nvalue = [10, 0]'),\n",
       " Text(116.02586943258085, 120.16421052631578, 'gini = 0.499\\nsamples = 19\\nvalue = [10, 9]'),\n",
       " Text(118.47712019524101, 131.60842105263157, 'X[9] <= 16.5\\ngini = 0.089\\nsamples = 43\\nvalue = [41, 2]'),\n",
       " Text(117.66003660768763, 120.16421052631578, 'gini = 0.0\\nsamples = 30\\nvalue = [30, 0]'),\n",
       " Text(119.2942037827944, 120.16421052631578, 'gini = 0.26\\nsamples = 13\\nvalue = [11, 2]'),\n",
       " Text(124.19670530811472, 177.38526315789474, 'X[11] <= 119.5\\ngini = 0.293\\nsamples = 219\\nvalue = [39, 180]'),\n",
       " Text(120.92837095790117, 165.94105263157894, 'X[11] <= 69.5\\ngini = 0.499\\nsamples = 57\\nvalue = [27, 30]'),\n",
       " Text(120.11128737034778, 154.49684210526317, 'gini = 0.355\\nsamples = 13\\nvalue = [10, 3]'),\n",
       " Text(121.74545454545455, 154.49684210526317, 'X[2] <= 1.5\\ngini = 0.474\\nsamples = 44\\nvalue = [17, 27]'),\n",
       " Text(120.92837095790117, 143.05263157894737, 'X[13] <= 96.5\\ngini = 0.5\\nsamples = 30\\nvalue = [15, 15]'),\n",
       " Text(120.11128737034778, 131.60842105263157, 'gini = 0.42\\nsamples = 10\\nvalue = [7, 3]'),\n",
       " Text(121.74545454545455, 131.60842105263157, 'X[10] <= 8.0\\ngini = 0.48\\nsamples = 20\\nvalue = [8, 12]'),\n",
       " Text(120.92837095790117, 120.16421052631578, 'gini = 0.42\\nsamples = 10\\nvalue = [3, 7]'),\n",
       " Text(122.56253813300795, 120.16421052631578, 'gini = 0.5\\nsamples = 10\\nvalue = [5, 5]'),\n",
       " Text(122.56253813300795, 143.05263157894737, 'gini = 0.245\\nsamples = 14\\nvalue = [2, 12]'),\n",
       " Text(127.46503965832827, 165.94105263157894, 'X[0] <= 67.5\\ngini = 0.137\\nsamples = 162\\nvalue = [12, 150]'),\n",
       " Text(126.64795607077487, 154.49684210526317, 'X[11] <= 160.5\\ngini = 0.111\\nsamples = 152\\nvalue = [9, 143]'),\n",
       " Text(124.19670530811472, 143.05263157894737, 'X[3] <= 1.5\\ngini = 0.215\\nsamples = 49\\nvalue = [6, 43]'),\n",
       " Text(123.37962172056133, 131.60842105263157, 'gini = 0.401\\nsamples = 18\\nvalue = [5, 13]'),\n",
       " Text(125.0137888956681, 131.60842105263157, 'X[11] <= 136.5\\ngini = 0.062\\nsamples = 31\\nvalue = [1, 30]'),\n",
       " Text(124.19670530811472, 120.16421052631578, 'gini = 0.18\\nsamples = 10\\nvalue = [1, 9]'),\n",
       " Text(125.83087248322148, 120.16421052631578, 'gini = 0.0\\nsamples = 21\\nvalue = [0, 21]'),\n",
       " Text(129.09920683343503, 143.05263157894737, 'X[5] <= 4031.5\\ngini = 0.057\\nsamples = 103\\nvalue = [3, 100]'),\n",
       " Text(128.28212324588165, 131.60842105263157, 'X[1] <= 0.5\\ngini = 0.021\\nsamples = 93\\nvalue = [1, 92]'),\n",
       " Text(127.46503965832827, 120.16421052631578, 'gini = 0.124\\nsamples = 15\\nvalue = [1, 14]'),\n",
       " Text(129.09920683343503, 120.16421052631578, 'gini = 0.0\\nsamples = 78\\nvalue = [0, 78]'),\n",
       " Text(129.91629042098842, 131.60842105263157, 'gini = 0.32\\nsamples = 10\\nvalue = [2, 8]'),\n",
       " Text(128.28212324588165, 154.49684210526317, 'gini = 0.42\\nsamples = 10\\nvalue = [3, 7]'),\n",
       " Text(249.15842906307202, 200.2736842105263, 'X[11] <= 441.5\\ngini = 0.45\\nsamples = 4638\\nvalue = [1588, 3050]'),\n",
       " Text(216.66639004347164, 188.82947368421054, 'X[8] <= 1.5\\ngini = 0.499\\nsamples = 2425\\nvalue = [1169, 1256]'),\n",
       " Text(194.94864341824285, 177.38526315789474, 'X[13] <= 0.5\\ngini = 0.478\\nsamples = 2027\\nvalue = [801, 1226]'),\n",
       " Text(172.7062557199512, 165.94105263157894, 'X[6] <= 0.5\\ngini = 0.5\\nsamples = 1249\\nvalue = [628, 621]'),\n",
       " Text(155.58101357535082, 154.49684210526317, 'X[10] <= 5.5\\ngini = 0.481\\nsamples = 828\\nvalue = [334, 494]'),\n",
       " Text(144.93658480780965, 143.05263157894737, 'X[0] <= 60.5\\ngini = 0.5\\nsamples = 543\\nvalue = [272, 271]'),\n",
       " Text(136.82320012202564, 131.60842105263157, 'X[10] <= 0.5\\ngini = 0.493\\nsamples = 474\\nvalue = [266, 208]'),\n",
       " Text(130.7333740085418, 120.16421052631578, 'X[0] <= 44.5\\ngini = 0.287\\nsamples = 69\\nvalue = [12, 57]'),\n",
       " Text(129.91629042098842, 108.72, 'X[5] <= 512.0\\ngini = 0.38\\nsamples = 47\\nvalue = [12, 35]'),\n",
       " Text(129.09920683343503, 97.27578947368421, 'gini = 0.105\\nsamples = 18\\nvalue = [1, 17]'),\n",
       " Text(130.7333740085418, 97.27578947368421, 'X[5] <= 1385.5\\ngini = 0.471\\nsamples = 29\\nvalue = [11, 18]'),\n",
       " Text(129.91629042098842, 85.83157894736843, 'gini = 0.42\\nsamples = 10\\nvalue = [7, 3]'),\n",
       " Text(131.55045759609519, 85.83157894736843, 'gini = 0.332\\nsamples = 19\\nvalue = [4, 15]'),\n",
       " Text(131.55045759609519, 108.72, 'gini = 0.0\\nsamples = 22\\nvalue = [0, 22]'),\n",
       " Text(142.91302623550948, 120.16421052631578, 'X[5] <= 229.0\\ngini = 0.468\\nsamples = 405\\nvalue = [254, 151]'),\n",
       " Text(136.04441732763883, 108.72, 'X[11] <= 341.0\\ngini = 0.312\\nsamples = 155\\nvalue = [125, 30]'),\n",
       " Text(134.00170835875534, 97.27578947368421, 'X[9] <= 18.5\\ngini = 0.175\\nsamples = 103\\nvalue = [93, 10]'),\n",
       " Text(133.18462477120195, 85.83157894736843, 'X[1] <= 7.5\\ngini = 0.315\\nsamples = 51\\nvalue = [41, 10]'),\n",
       " Text(132.36754118364857, 74.38736842105263, 'X[0] <= 36.5\\ngini = 0.142\\nsamples = 39\\nvalue = [36, 3]'),\n",
       " Text(131.55045759609519, 62.943157894736856, 'gini = 0.278\\nsamples = 18\\nvalue = [15, 3]'),\n",
       " Text(133.18462477120195, 62.943157894736856, 'gini = 0.0\\nsamples = 21\\nvalue = [21, 0]'),\n",
       " Text(134.00170835875534, 74.38736842105263, 'gini = 0.486\\nsamples = 12\\nvalue = [5, 7]'),\n",
       " Text(134.81879194630875, 85.83157894736843, 'gini = 0.0\\nsamples = 52\\nvalue = [52, 0]'),\n",
       " Text(138.08712629652229, 97.27578947368421, 'X[9] <= 12.5\\ngini = 0.473\\nsamples = 52\\nvalue = [32, 20]'),\n",
       " Text(136.45295912141552, 85.83157894736843, 'X[1] <= 2.5\\ngini = 0.483\\nsamples = 22\\nvalue = [9, 13]'),\n",
       " Text(135.63587553386213, 74.38736842105263, 'gini = 0.463\\nsamples = 11\\nvalue = [7, 4]'),\n",
       " Text(137.2700427089689, 74.38736842105263, 'gini = 0.298\\nsamples = 11\\nvalue = [2, 9]'),\n",
       " Text(139.72129347162905, 85.83157894736843, 'X[0] <= 42.5\\ngini = 0.358\\nsamples = 30\\nvalue = [23, 7]'),\n",
       " Text(138.90420988407567, 74.38736842105263, 'gini = 0.198\\nsamples = 18\\nvalue = [16, 2]'),\n",
       " Text(140.53837705918244, 74.38736842105263, 'gini = 0.486\\nsamples = 12\\nvalue = [7, 5]'),\n",
       " Text(149.78163514338013, 108.72, 'X[0] <= 32.5\\ngini = 0.499\\nsamples = 250\\nvalue = [129, 121]'),\n",
       " Text(143.80671140939597, 97.27578947368421, 'X[9] <= 21.0\\ngini = 0.431\\nsamples = 70\\nvalue = [22, 48]'),\n",
       " Text(142.9896278218426, 85.83157894736843, 'X[11] <= 344.5\\ngini = 0.388\\nsamples = 57\\nvalue = [15, 42]'),\n",
       " Text(142.1725442342892, 74.38736842105263, 'X[0] <= 26.5\\ngini = 0.434\\nsamples = 44\\nvalue = [14, 30]'),\n",
       " Text(140.53837705918244, 62.943157894736856, 'X[5] <= 1438.5\\ngini = 0.308\\nsamples = 21\\nvalue = [4, 17]'),\n",
       " Text(139.72129347162905, 51.49894736842106, 'gini = 0.165\\nsamples = 11\\nvalue = [1, 10]'),\n",
       " Text(141.35546064673582, 51.49894736842106, 'gini = 0.42\\nsamples = 10\\nvalue = [3, 7]'),\n",
       " Text(143.80671140939597, 62.943157894736856, 'X[5] <= 957.0\\ngini = 0.491\\nsamples = 23\\nvalue = [10, 13]'),\n",
       " Text(142.9896278218426, 51.49894736842106, 'gini = 0.486\\nsamples = 12\\nvalue = [7, 5]'),\n",
       " Text(144.62379499694939, 51.49894736842106, 'gini = 0.397\\nsamples = 11\\nvalue = [3, 8]'),\n",
       " Text(143.80671140939597, 74.38736842105263, 'gini = 0.142\\nsamples = 13\\nvalue = [1, 12]'),\n",
       " Text(144.62379499694939, 85.83157894736843, 'gini = 0.497\\nsamples = 13\\nvalue = [7, 6]'),\n",
       " Text(155.75655887736426, 97.27578947368421, 'X[9] <= 28.5\\ngini = 0.482\\nsamples = 180\\nvalue = [107, 73]'),\n",
       " Text(152.99890176937157, 85.83157894736843, 'X[11] <= 318.5\\ngini = 0.495\\nsamples = 160\\nvalue = [88, 72]'),\n",
       " Text(149.93483831604638, 74.38736842105263, 'X[12] <= 1.5\\ngini = 0.461\\nsamples = 100\\nvalue = [64, 36]'),\n",
       " Text(147.07504575960954, 62.943157894736856, 'X[9] <= 4.0\\ngini = 0.49\\nsamples = 35\\nvalue = [15, 20]'),\n",
       " Text(146.25796217205615, 51.49894736842106, 'gini = 0.32\\nsamples = 10\\nvalue = [2, 8]'),\n",
       " Text(147.89212934716292, 51.49894736842106, 'X[9] <= 10.5\\ngini = 0.499\\nsamples = 25\\nvalue = [13, 12]'),\n",
       " Text(147.07504575960954, 40.05473684210526, 'gini = 0.32\\nsamples = 10\\nvalue = [8, 2]'),\n",
       " Text(148.7092129347163, 40.05473684210526, 'gini = 0.444\\nsamples = 15\\nvalue = [5, 10]'),\n",
       " Text(152.79463087248322, 62.943157894736856, 'X[10] <= 1.5\\ngini = 0.371\\nsamples = 65\\nvalue = [49, 16]'),\n",
       " Text(151.16046369737646, 51.49894736842106, 'X[5] <= 2292.0\\ngini = 0.234\\nsamples = 37\\nvalue = [32, 5]'),\n",
       " Text(150.34338010982307, 40.05473684210526, 'X[11] <= 278.5\\ngini = 0.137\\nsamples = 27\\nvalue = [25, 2]'),\n",
       " Text(149.5262965222697, 28.610526315789485, 'gini = 0.0\\nsamples = 16\\nvalue = [16, 0]'),\n",
       " Text(151.16046369737646, 28.610526315789485, 'gini = 0.298\\nsamples = 11\\nvalue = [9, 2]'),\n",
       " Text(151.97754728492984, 40.05473684210526, 'gini = 0.42\\nsamples = 10\\nvalue = [7, 3]'),\n",
       " Text(154.42879804759002, 51.49894736842106, 'X[10] <= 4.5\\ngini = 0.477\\nsamples = 28\\nvalue = [17, 11]'),\n",
       " Text(153.6117144600366, 40.05473684210526, 'gini = 0.48\\nsamples = 15\\nvalue = [6, 9]'),\n",
       " Text(155.2458816351434, 40.05473684210526, 'gini = 0.26\\nsamples = 13\\nvalue = [11, 2]'),\n",
       " Text(156.0629652226968, 74.38736842105263, 'X[2] <= 0.5\\ngini = 0.48\\nsamples = 60\\nvalue = [24, 36]'),\n",
       " Text(155.2458816351434, 62.943157894736856, 'gini = 0.18\\nsamples = 10\\nvalue = [1, 9]'),\n",
       " Text(156.88004881025017, 62.943157894736856, 'X[11] <= 347.5\\ngini = 0.497\\nsamples = 50\\nvalue = [23, 27]'),\n",
       " Text(156.0629652226968, 51.49894736842106, 'gini = 0.408\\nsamples = 14\\nvalue = [10, 4]'),\n",
       " Text(157.69713239780356, 51.49894736842106, 'X[9] <= 16.0\\ngini = 0.461\\nsamples = 36\\nvalue = [13, 23]'),\n",
       " Text(156.88004881025017, 40.05473684210526, 'X[1] <= 5.5\\ngini = 0.393\\nsamples = 26\\nvalue = [7, 19]'),\n",
       " Text(156.0629652226968, 28.610526315789485, 'gini = 0.231\\nsamples = 15\\nvalue = [2, 13]'),\n",
       " Text(157.69713239780356, 28.610526315789485, 'gini = 0.496\\nsamples = 11\\nvalue = [5, 6]'),\n",
       " Text(158.51421598535694, 40.05473684210526, 'gini = 0.48\\nsamples = 10\\nvalue = [6, 4]'),\n",
       " Text(158.51421598535694, 85.83157894736843, 'X[0] <= 46.5\\ngini = 0.095\\nsamples = 20\\nvalue = [19, 1]'),\n",
       " Text(157.69713239780356, 74.38736842105263, 'gini = 0.18\\nsamples = 10\\nvalue = [9, 1]'),\n",
       " Text(159.33129957291032, 74.38736842105263, 'gini = 0.0\\nsamples = 10\\nvalue = [10, 0]'),\n",
       " Text(153.04996949359366, 131.60842105263157, 'X[9] <= 25.5\\ngini = 0.159\\nsamples = 69\\nvalue = [6, 63]'),\n",
       " Text(152.23288590604028, 120.16421052631578, 'X[11] <= 387.5\\ngini = 0.098\\nsamples = 58\\nvalue = [3, 55]'),\n",
       " Text(151.4158023184869, 108.72, 'gini = 0.0\\nsamples = 47\\nvalue = [0, 47]'),\n",
       " Text(153.04996949359366, 108.72, 'gini = 0.397\\nsamples = 11\\nvalue = [3, 8]'),\n",
       " Text(153.86705308114705, 120.16421052631578, 'gini = 0.397\\nsamples = 11\\nvalue = [3, 8]'),\n",
       " Text(166.22544234289202, 143.05263157894737, 'X[10] <= 7.5\\ngini = 0.34\\nsamples = 285\\nvalue = [62, 223]'),\n",
       " Text(160.1483831604637, 131.60842105263157, 'X[5] <= 135.0\\ngini = 0.15\\nsamples = 98\\nvalue = [8, 90]'),\n",
       " Text(159.33129957291032, 120.16421052631578, 'gini = 0.42\\nsamples = 10\\nvalue = [3, 7]'),\n",
       " Text(160.9654667480171, 120.16421052631578, 'X[5] <= 3664.0\\ngini = 0.107\\nsamples = 88\\nvalue = [5, 83]'),\n",
       " Text(160.1483831604637, 108.72, 'X[9] <= 14.5\\ngini = 0.053\\nsamples = 74\\nvalue = [2, 72]'),\n",
       " Text(159.33129957291032, 97.27578947368421, 'gini = 0.0\\nsamples = 47\\nvalue = [0, 47]'),\n",
       " Text(160.9654667480171, 97.27578947368421, 'X[9] <= 18.5\\ngini = 0.137\\nsamples = 27\\nvalue = [2, 25]'),\n",
       " Text(160.1483831604637, 85.83157894736843, 'gini = 0.278\\nsamples = 12\\nvalue = [2, 10]'),\n",
       " Text(161.78255033557048, 85.83157894736843, 'gini = 0.0\\nsamples = 15\\nvalue = [0, 15]'),\n",
       " Text(161.78255033557048, 108.72, 'gini = 0.337\\nsamples = 14\\nvalue = [3, 11]'),\n",
       " Text(172.30250152532034, 131.60842105263157, 'X[9] <= 21.5\\ngini = 0.411\\nsamples = 187\\nvalue = [54, 133]'),\n",
       " Text(168.11494813910923, 120.16421052631578, 'X[9] <= 16.5\\ngini = 0.458\\nsamples = 135\\nvalue = [48, 87]'),\n",
       " Text(164.64234289200735, 108.72, 'X[11] <= 224.0\\ngini = 0.329\\nsamples = 82\\nvalue = [17, 65]'),\n",
       " Text(163.82525930445394, 97.27578947368421, 'gini = 0.5\\nsamples = 10\\nvalue = [5, 5]'),\n",
       " Text(165.45942647956073, 97.27578947368421, 'X[11] <= 361.5\\ngini = 0.278\\nsamples = 72\\nvalue = [12, 60]'),\n",
       " Text(163.41671751067724, 85.83157894736843, 'X[5] <= 659.0\\ngini = 0.183\\nsamples = 49\\nvalue = [5, 44]'),\n",
       " Text(161.78255033557048, 74.38736842105263, 'X[5] <= 227.0\\ngini = 0.278\\nsamples = 24\\nvalue = [4, 20]'),\n",
       " Text(160.9654667480171, 62.943157894736856, 'gini = 0.133\\nsamples = 14\\nvalue = [1, 13]'),\n",
       " Text(162.59963392312386, 62.943157894736856, 'gini = 0.42\\nsamples = 10\\nvalue = [3, 7]'),\n",
       " Text(165.05088468578404, 74.38736842105263, 'X[5] <= 2714.0\\ngini = 0.077\\nsamples = 25\\nvalue = [1, 24]'),\n",
       " Text(164.23380109823063, 62.943157894736856, 'gini = 0.0\\nsamples = 15\\nvalue = [0, 15]'),\n",
       " Text(165.86796827333742, 62.943157894736856, 'gini = 0.18\\nsamples = 10\\nvalue = [1, 9]'),\n",
       " Text(167.5021354484442, 85.83157894736843, 'X[1] <= 4.5\\ngini = 0.423\\nsamples = 23\\nvalue = [7, 16]'),\n",
       " Text(166.6850518608908, 74.38736842105263, 'gini = 0.486\\nsamples = 12\\nvalue = [5, 7]'),\n",
       " Text(168.31921903599758, 74.38736842105263, 'gini = 0.298\\nsamples = 11\\nvalue = [2, 9]'),\n",
       " Text(171.5875533862111, 108.72, 'X[1] <= 4.5\\ngini = 0.486\\nsamples = 53\\nvalue = [31, 22]'),\n",
       " Text(169.95338621110434, 97.27578947368421, 'X[9] <= 19.5\\ngini = 0.346\\nsamples = 27\\nvalue = [21, 6]'),\n",
       " Text(169.13630262355096, 85.83157894736843, 'gini = 0.208\\nsamples = 17\\nvalue = [15, 2]'),\n",
       " Text(170.77046979865773, 85.83157894736843, 'gini = 0.48\\nsamples = 10\\nvalue = [6, 4]'),\n",
       " Text(173.22172056131788, 97.27578947368421, 'X[11] <= 305.5\\ngini = 0.473\\nsamples = 26\\nvalue = [10, 16]'),\n",
       " Text(172.4046369737645, 85.83157894736843, 'gini = 0.463\\nsamples = 11\\nvalue = [7, 4]'),\n",
       " Text(174.03880414887126, 85.83157894736843, 'gini = 0.32\\nsamples = 15\\nvalue = [3, 12]'),\n",
       " Text(176.49005491153144, 120.16421052631578, 'X[11] <= 338.0\\ngini = 0.204\\nsamples = 52\\nvalue = [6, 46]'),\n",
       " Text(175.67297132397806, 108.72, 'X[11] <= 246.0\\ngini = 0.312\\nsamples = 31\\nvalue = [6, 25]'),\n",
       " Text(174.85588773642468, 97.27578947368421, 'gini = 0.0\\nsamples = 13\\nvalue = [0, 13]'),\n",
       " Text(176.49005491153144, 97.27578947368421, 'gini = 0.444\\nsamples = 18\\nvalue = [6, 12]'),\n",
       " Text(177.30713849908483, 108.72, 'gini = 0.0\\nsamples = 21\\nvalue = [0, 21]'),\n",
       " Text(189.83149786455158, 154.49684210526317, 'X[10] <= 9.5\\ngini = 0.421\\nsamples = 421\\nvalue = [294, 127]'),\n",
       " Text(189.0144142769982, 143.05263157894737, 'X[11] <= 369.0\\ngini = 0.402\\nsamples = 406\\nvalue = [293, 113]'),\n",
       " Text(182.74585112873706, 131.60842105263157, 'X[9] <= 4.5\\ngini = 0.356\\nsamples = 332\\nvalue = [255, 77]'),\n",
       " Text(179.86052471018917, 120.16421052631578, 'X[10] <= 4.0\\ngini = 0.476\\nsamples = 23\\nvalue = [9, 14]'),\n",
       " Text(179.04344112263576, 108.72, 'gini = 0.426\\nsamples = 13\\nvalue = [9, 4]'),\n",
       " Text(180.67760829774255, 108.72, 'gini = 0.0\\nsamples = 10\\nvalue = [0, 10]'),\n",
       " Text(185.63117754728495, 120.16421052631578, 'X[5] <= 3237.5\\ngini = 0.325\\nsamples = 309\\nvalue = [246, 63]'),\n",
       " Text(182.31177547284932, 108.72, 'X[0] <= 30.5\\ngini = 0.29\\nsamples = 278\\nvalue = [229, 49]'),\n",
       " Text(178.1242220866382, 97.27578947368421, 'X[9] <= 16.5\\ngini = 0.444\\nsamples = 48\\nvalue = [32, 16]'),\n",
       " Text(176.49005491153144, 85.83157894736843, 'X[9] <= 11.5\\ngini = 0.33\\nsamples = 24\\nvalue = [19, 5]'),\n",
       " Text(175.67297132397806, 74.38736842105263, 'gini = 0.463\\nsamples = 11\\nvalue = [7, 4]'),\n",
       " Text(177.30713849908483, 74.38736842105263, 'gini = 0.142\\nsamples = 13\\nvalue = [12, 1]'),\n",
       " Text(179.75838926174498, 85.83157894736843, 'X[0] <= 28.5\\ngini = 0.497\\nsamples = 24\\nvalue = [13, 11]'),\n",
       " Text(178.9413056741916, 74.38736842105263, 'gini = 0.42\\nsamples = 10\\nvalue = [3, 7]'),\n",
       " Text(180.57547284929836, 74.38736842105263, 'gini = 0.408\\nsamples = 14\\nvalue = [10, 4]'),\n",
       " Text(186.49932885906043, 97.27578947368421, 'X[10] <= 3.5\\ngini = 0.246\\nsamples = 230\\nvalue = [197, 33]'),\n",
       " Text(183.02672361195852, 85.83157894736843, 'X[9] <= 20.5\\ngini = 0.364\\nsamples = 67\\nvalue = [51, 16]'),\n",
       " Text(182.20964002440513, 74.38736842105263, 'X[9] <= 11.5\\ngini = 0.266\\nsamples = 57\\nvalue = [48, 9]'),\n",
       " Text(180.57547284929836, 62.943157894736856, 'X[11] <= 270.5\\ngini = 0.455\\nsamples = 20\\nvalue = [13, 7]'),\n",
       " Text(179.75838926174498, 51.49894736842106, 'gini = 0.32\\nsamples = 10\\nvalue = [8, 2]'),\n",
       " Text(181.39255643685175, 51.49894736842106, 'gini = 0.5\\nsamples = 10\\nvalue = [5, 5]'),\n",
       " Text(183.8438071995119, 62.943157894736856, 'X[3] <= 1.5\\ngini = 0.102\\nsamples = 37\\nvalue = [35, 2]'),\n",
       " Text(183.02672361195852, 51.49894736842106, 'gini = 0.0\\nsamples = 24\\nvalue = [24, 0]'),\n",
       " Text(184.6608907870653, 51.49894736842106, 'gini = 0.26\\nsamples = 13\\nvalue = [11, 2]'),\n",
       " Text(183.8438071995119, 74.38736842105263, 'gini = 0.42\\nsamples = 10\\nvalue = [3, 7]'),\n",
       " Text(189.9719341061623, 85.83157894736843, 'X[0] <= 39.5\\ngini = 0.187\\nsamples = 163\\nvalue = [146, 17]'),\n",
       " Text(187.11214154972546, 74.38736842105263, 'X[11] <= 223.5\\ngini = 0.268\\nsamples = 88\\nvalue = [74, 14]'),\n",
       " Text(186.29505796217208, 62.943157894736856, 'gini = 0.0\\nsamples = 12\\nvalue = [12, 0]'),\n",
       " Text(187.92922513727885, 62.943157894736856, 'X[5] <= 28.5\\ngini = 0.301\\nsamples = 76\\nvalue = [62, 14]'),\n",
       " Text(186.29505796217208, 51.49894736842106, 'X[11] <= 313.5\\ngini = 0.147\\nsamples = 25\\nvalue = [23, 2]'),\n",
       " Text(185.4779743746187, 40.05473684210526, 'gini = 0.0\\nsamples = 14\\nvalue = [14, 0]'),\n",
       " Text(187.11214154972546, 40.05473684210526, 'gini = 0.298\\nsamples = 11\\nvalue = [9, 2]'),\n",
       " Text(189.56339231238562, 51.49894736842106, 'X[5] <= 1089.5\\ngini = 0.36\\nsamples = 51\\nvalue = [39, 12]'),\n",
       " Text(188.74630872483223, 40.05473684210526, 'X[12] <= 2.5\\ngini = 0.405\\nsamples = 39\\nvalue = [28, 11]'),\n",
       " Text(187.92922513727885, 28.610526315789485, 'X[11] <= 282.5\\ngini = 0.337\\nsamples = 28\\nvalue = [22, 6]'),\n",
       " Text(187.11214154972546, 17.166315789473686, 'gini = 0.208\\nsamples = 17\\nvalue = [15, 2]'),\n",
       " Text(188.74630872483223, 17.166315789473686, 'gini = 0.463\\nsamples = 11\\nvalue = [7, 4]'),\n",
       " Text(189.56339231238562, 28.610526315789485, 'gini = 0.496\\nsamples = 11\\nvalue = [6, 5]'),\n",
       " Text(190.380475899939, 40.05473684210526, 'gini = 0.153\\nsamples = 12\\nvalue = [11, 1]'),\n",
       " Text(192.83172666259915, 74.38736842105263, 'X[9] <= 26.0\\ngini = 0.077\\nsamples = 75\\nvalue = [72, 3]'),\n",
       " Text(192.01464307504577, 62.943157894736856, 'X[7] <= 0.5\\ngini = 0.032\\nsamples = 62\\nvalue = [61, 1]'),\n",
       " Text(191.19755948749238, 51.49894736842106, 'gini = 0.0\\nsamples = 49\\nvalue = [49, 0]'),\n",
       " Text(192.83172666259915, 51.49894736842106, 'gini = 0.142\\nsamples = 13\\nvalue = [12, 1]'),\n",
       " Text(193.64881025015254, 62.943157894736856, 'gini = 0.26\\nsamples = 13\\nvalue = [11, 2]'),\n",
       " Text(188.95057962172058, 108.72, 'X[3] <= 1.5\\ngini = 0.495\\nsamples = 31\\nvalue = [17, 14]'),\n",
       " Text(188.1334960341672, 97.27578947368421, 'gini = 0.408\\nsamples = 14\\nvalue = [10, 4]'),\n",
       " Text(189.76766320927396, 97.27578947368421, 'gini = 0.484\\nsamples = 17\\nvalue = [7, 10]'),\n",
       " Text(195.28297742525933, 131.60842105263157, 'X[0] <= 52.0\\ngini = 0.5\\nsamples = 74\\nvalue = [38, 36]'),\n",
       " Text(194.46589383770595, 120.16421052631578, 'X[0] <= 29.5\\ngini = 0.492\\nsamples = 64\\nvalue = [36, 28]'),\n",
       " Text(193.64881025015254, 108.72, 'gini = 0.397\\nsamples = 11\\nvalue = [3, 8]'),\n",
       " Text(195.28297742525933, 108.72, 'X[11] <= 384.5\\ngini = 0.47\\nsamples = 53\\nvalue = [33, 20]'),\n",
       " Text(194.46589383770595, 97.27578947368421, 'gini = 0.492\\nsamples = 16\\nvalue = [7, 9]'),\n",
       " Text(196.10006101281272, 97.27578947368421, 'X[9] <= 16.5\\ngini = 0.418\\nsamples = 37\\nvalue = [26, 11]'),\n",
       " Text(195.28297742525933, 85.83157894736843, 'X[1] <= 1.5\\ngini = 0.49\\nsamples = 21\\nvalue = [12, 9]'),\n",
       " Text(194.46589383770595, 74.38736842105263, 'gini = 0.397\\nsamples = 11\\nvalue = [8, 3]'),\n",
       " Text(196.10006101281272, 74.38736842105263, 'gini = 0.48\\nsamples = 10\\nvalue = [4, 6]'),\n",
       " Text(196.9171446003661, 85.83157894736843, 'gini = 0.219\\nsamples = 16\\nvalue = [14, 2]'),\n",
       " Text(196.10006101281272, 120.16421052631578, 'gini = 0.32\\nsamples = 10\\nvalue = [2, 8]'),\n",
       " Text(190.64858145210496, 143.05263157894737, 'gini = 0.124\\nsamples = 15\\nvalue = [1, 14]'),\n",
       " Text(217.1910311165345, 165.94105263157894, 'X[15] <= 1.5\\ngini = 0.346\\nsamples = 778\\nvalue = [173, 605]'),\n",
       " Text(208.662721171446, 154.49684210526317, 'X[6] <= 0.5\\ngini = 0.468\\nsamples = 408\\nvalue = [152, 256]'),\n",
       " Text(202.43245881635144, 143.05263157894737, 'X[5] <= 84.5\\ngini = 0.335\\nsamples = 216\\nvalue = [46, 170]'),\n",
       " Text(200.18547895057964, 131.60842105263157, 'X[15] <= 0.5\\ngini = 0.5\\nsamples = 33\\nvalue = [16, 17]'),\n",
       " Text(199.36839536302625, 120.16421052631578, 'X[13] <= 257.5\\ngini = 0.42\\nsamples = 20\\nvalue = [14, 6]'),\n",
       " Text(198.55131177547287, 108.72, 'gini = 0.18\\nsamples = 10\\nvalue = [9, 1]'),\n",
       " Text(200.18547895057964, 108.72, 'gini = 0.5\\nsamples = 10\\nvalue = [5, 5]'),\n",
       " Text(201.00256253813302, 120.16421052631578, 'gini = 0.26\\nsamples = 13\\nvalue = [2, 11]'),\n",
       " Text(204.67943868212328, 131.60842105263157, 'X[5] <= 5606.0\\ngini = 0.274\\nsamples = 183\\nvalue = [30, 153]'),\n",
       " Text(203.86235509456986, 120.16421052631578, 'X[0] <= 55.5\\ngini = 0.244\\nsamples = 169\\nvalue = [24, 145]'),\n",
       " Text(201.8196461256864, 108.72, 'X[13] <= 369.5\\ngini = 0.279\\nsamples = 137\\nvalue = [23, 114]'),\n",
       " Text(200.18547895057964, 97.27578947368421, 'X[13] <= 274.0\\ngini = 0.318\\nsamples = 111\\nvalue = [22, 89]'),\n",
       " Text(199.36839536302625, 85.83157894736843, 'X[13] <= 142.0\\ngini = 0.264\\nsamples = 96\\nvalue = [15, 81]'),\n",
       " Text(197.73422818791948, 74.38736842105263, 'X[13] <= 104.0\\ngini = 0.361\\nsamples = 55\\nvalue = [13, 42]'),\n",
       " Text(196.9171446003661, 62.943157894736856, 'X[11] <= 289.5\\ngini = 0.214\\nsamples = 41\\nvalue = [5, 36]'),\n",
       " Text(196.10006101281272, 51.49894736842106, 'X[11] <= 242.5\\ngini = 0.083\\nsamples = 23\\nvalue = [1, 22]'),\n",
       " Text(195.28297742525933, 40.05473684210526, 'gini = 0.18\\nsamples = 10\\nvalue = [1, 9]'),\n",
       " Text(196.9171446003661, 40.05473684210526, 'gini = 0.0\\nsamples = 13\\nvalue = [0, 13]'),\n",
       " Text(197.73422818791948, 51.49894736842106, 'gini = 0.346\\nsamples = 18\\nvalue = [4, 14]'),\n",
       " Text(198.55131177547287, 62.943157894736856, 'gini = 0.49\\nsamples = 14\\nvalue = [8, 6]'),\n",
       " Text(201.00256253813302, 74.38736842105263, 'X[11] <= 364.5\\ngini = 0.093\\nsamples = 41\\nvalue = [2, 39]'),\n",
       " Text(200.18547895057964, 62.943157894736856, 'gini = 0.0\\nsamples = 30\\nvalue = [0, 30]'),\n",
       " Text(201.8196461256864, 62.943157894736856, 'gini = 0.298\\nsamples = 11\\nvalue = [2, 9]'),\n",
       " Text(201.00256253813302, 85.83157894736843, 'gini = 0.498\\nsamples = 15\\nvalue = [7, 8]'),\n",
       " Text(203.45381330079317, 97.27578947368421, 'X[11] <= 319.0\\ngini = 0.074\\nsamples = 26\\nvalue = [1, 25]'),\n",
       " Text(202.6367297132398, 85.83157894736843, 'gini = 0.0\\nsamples = 16\\nvalue = [0, 16]'),\n",
       " Text(204.27089688834658, 85.83157894736843, 'gini = 0.18\\nsamples = 10\\nvalue = [1, 9]'),\n",
       " Text(205.90506406345335, 108.72, 'X[11] <= 348.0\\ngini = 0.061\\nsamples = 32\\nvalue = [1, 31]'),\n",
       " Text(205.08798047589997, 97.27578947368421, 'gini = 0.0\\nsamples = 22\\nvalue = [0, 22]'),\n",
       " Text(206.72214765100674, 97.27578947368421, 'gini = 0.18\\nsamples = 10\\nvalue = [1, 9]'),\n",
       " Text(205.49652226967666, 120.16421052631578, 'gini = 0.49\\nsamples = 14\\nvalue = [6, 8]'),\n",
       " Text(214.8929835265406, 143.05263157894737, 'X[13] <= 374.5\\ngini = 0.495\\nsamples = 192\\nvalue = [106, 86]'),\n",
       " Text(214.0758999389872, 131.60842105263157, 'X[13] <= 182.5\\ngini = 0.477\\nsamples = 173\\nvalue = [105, 68]'),\n",
       " Text(210.80756558877366, 120.16421052631578, 'X[10] <= 7.5\\ngini = 0.476\\nsamples = 64\\nvalue = [25, 39]'),\n",
       " Text(209.1733984136669, 108.72, 'X[10] <= 2.0\\ngini = 0.346\\nsamples = 36\\nvalue = [8, 28]'),\n",
       " Text(208.3563148261135, 97.27578947368421, 'X[12] <= 1.5\\ngini = 0.454\\nsamples = 23\\nvalue = [8, 15]'),\n",
       " Text(207.53923123856012, 85.83157894736843, 'gini = 0.278\\nsamples = 12\\nvalue = [2, 10]'),\n",
       " Text(209.1733984136669, 85.83157894736843, 'gini = 0.496\\nsamples = 11\\nvalue = [6, 5]'),\n",
       " Text(209.99048200122027, 97.27578947368421, 'gini = 0.0\\nsamples = 13\\nvalue = [0, 13]'),\n",
       " Text(212.44173276388042, 108.72, 'X[3] <= 1.5\\ngini = 0.477\\nsamples = 28\\nvalue = [17, 11]'),\n",
       " Text(211.62464917632704, 97.27578947368421, 'gini = 0.32\\nsamples = 15\\nvalue = [12, 3]'),\n",
       " Text(213.2588163514338, 97.27578947368421, 'gini = 0.473\\nsamples = 13\\nvalue = [5, 8]'),\n",
       " Text(217.34423428920076, 120.16421052631578, 'X[11] <= 405.0\\ngini = 0.391\\nsamples = 109\\nvalue = [80, 29]'),\n",
       " Text(216.52715070164737, 108.72, 'X[0] <= 35.5\\ngini = 0.348\\nsamples = 98\\nvalue = [76, 22]'),\n",
       " Text(214.8929835265406, 97.27578947368421, 'X[5] <= 1179.0\\ngini = 0.449\\nsamples = 44\\nvalue = [29, 15]'),\n",
       " Text(214.0758999389872, 85.83157894736843, 'X[1] <= 0.5\\ngini = 0.397\\nsamples = 33\\nvalue = [24, 9]'),\n",
       " Text(213.2588163514338, 74.38736842105263, 'gini = 0.5\\nsamples = 10\\nvalue = [5, 5]'),\n",
       " Text(214.8929835265406, 74.38736842105263, 'X[2] <= 1.5\\ngini = 0.287\\nsamples = 23\\nvalue = [19, 4]'),\n",
       " Text(214.0758999389872, 62.943157894736856, 'gini = 0.0\\nsamples = 11\\nvalue = [11, 0]'),\n",
       " Text(215.710067114094, 62.943157894736856, 'gini = 0.444\\nsamples = 12\\nvalue = [8, 4]'),\n",
       " Text(215.710067114094, 85.83157894736843, 'gini = 0.496\\nsamples = 11\\nvalue = [5, 6]'),\n",
       " Text(218.16131787675414, 97.27578947368421, 'X[5] <= 1592.0\\ngini = 0.226\\nsamples = 54\\nvalue = [47, 7]'),\n",
       " Text(217.34423428920076, 85.83157894736843, 'X[13] <= 353.5\\ngini = 0.102\\nsamples = 37\\nvalue = [35, 2]'),\n",
       " Text(216.52715070164737, 74.38736842105263, 'gini = 0.0\\nsamples = 27\\nvalue = [27, 0]'),\n",
       " Text(218.16131787675414, 74.38736842105263, 'gini = 0.32\\nsamples = 10\\nvalue = [8, 2]'),\n",
       " Text(218.97840146430752, 85.83157894736843, 'gini = 0.415\\nsamples = 17\\nvalue = [12, 5]'),\n",
       " Text(218.16131787675414, 108.72, 'gini = 0.463\\nsamples = 11\\nvalue = [4, 7]'),\n",
       " Text(215.710067114094, 131.60842105263157, 'gini = 0.1\\nsamples = 19\\nvalue = [1, 18]'),\n",
       " Text(225.71934106162297, 154.49684210526317, 'X[12] <= 3.5\\ngini = 0.107\\nsamples = 370\\nvalue = [21, 349]'),\n",
       " Text(223.47236119585114, 143.05263157894737, 'X[2] <= 0.5\\ngini = 0.083\\nsamples = 346\\nvalue = [15, 331]'),\n",
       " Text(221.42965222696768, 131.60842105263157, 'X[13] <= 177.5\\ngini = 0.225\\nsamples = 31\\nvalue = [4, 27]'),\n",
       " Text(220.6125686394143, 120.16421052631578, 'gini = 0.444\\nsamples = 12\\nvalue = [4, 8]'),\n",
       " Text(222.24673581452106, 120.16421052631578, 'gini = 0.0\\nsamples = 19\\nvalue = [0, 19]'),\n",
       " Text(225.51507016473462, 131.60842105263157, 'X[13] <= 209.0\\ngini = 0.067\\nsamples = 315\\nvalue = [11, 304]'),\n",
       " Text(223.88090298962783, 120.16421052631578, 'X[3] <= 1.5\\ngini = 0.044\\nsamples = 268\\nvalue = [6, 262]'),\n",
       " Text(223.06381940207444, 108.72, 'X[2] <= 1.5\\ngini = 0.074\\nsamples = 156\\nvalue = [6, 150]'),\n",
       " Text(221.42965222696768, 97.27578947368421, 'X[0] <= 73.0\\ngini = 0.035\\nsamples = 111\\nvalue = [2, 109]'),\n",
       " Text(220.6125686394143, 85.83157894736843, 'X[11] <= 223.0\\ngini = 0.02\\nsamples = 101\\nvalue = [1, 100]'),\n",
       " Text(219.7954850518609, 74.38736842105263, 'gini = 0.133\\nsamples = 14\\nvalue = [1, 13]'),\n",
       " Text(221.42965222696768, 74.38736842105263, 'gini = 0.0\\nsamples = 87\\nvalue = [0, 87]'),\n",
       " Text(222.24673581452106, 85.83157894736843, 'gini = 0.18\\nsamples = 10\\nvalue = [1, 9]'),\n",
       " Text(224.69798657718124, 97.27578947368421, 'X[0] <= 32.0\\ngini = 0.162\\nsamples = 45\\nvalue = [4, 41]'),\n",
       " Text(223.88090298962783, 85.83157894736843, 'X[12] <= 1.5\\ngini = 0.056\\nsamples = 35\\nvalue = [1, 34]'),\n",
       " Text(223.06381940207444, 74.38736842105263, 'gini = 0.0\\nsamples = 25\\nvalue = [0, 25]'),\n",
       " Text(224.69798657718124, 74.38736842105263, 'gini = 0.18\\nsamples = 10\\nvalue = [1, 9]'),\n",
       " Text(225.51507016473462, 85.83157894736843, 'gini = 0.42\\nsamples = 10\\nvalue = [3, 7]'),\n",
       " Text(224.69798657718124, 108.72, 'gini = 0.0\\nsamples = 112\\nvalue = [0, 112]'),\n",
       " Text(227.1492373398414, 120.16421052631578, 'X[6] <= 0.5\\ngini = 0.19\\nsamples = 47\\nvalue = [5, 42]'),\n",
       " Text(226.332153752288, 108.72, 'gini = 0.0\\nsamples = 24\\nvalue = [0, 24]'),\n",
       " Text(227.96632092739478, 108.72, 'X[13] <= 376.0\\ngini = 0.34\\nsamples = 23\\nvalue = [5, 18]'),\n",
       " Text(227.1492373398414, 97.27578947368421, 'gini = 0.486\\nsamples = 12\\nvalue = [5, 7]'),\n",
       " Text(228.78340451494816, 97.27578947368421, 'gini = 0.0\\nsamples = 11\\nvalue = [0, 11]'),\n",
       " Text(227.96632092739478, 143.05263157894737, 'X[13] <= 174.0\\ngini = 0.375\\nsamples = 24\\nvalue = [6, 18]'),\n",
       " Text(227.1492373398414, 131.60842105263157, 'gini = 0.48\\nsamples = 10\\nvalue = [4, 6]'),\n",
       " Text(228.78340451494816, 131.60842105263157, 'gini = 0.245\\nsamples = 14\\nvalue = [2, 12]'),\n",
       " Text(238.38413666870045, 177.38526315789474, 'X[11] <= 366.5\\ngini = 0.139\\nsamples = 398\\nvalue = [368, 30]'),\n",
       " Text(235.72861500915195, 165.94105263157894, 'X[5] <= 1706.0\\ngini = 0.09\\nsamples = 318\\nvalue = [303, 15]'),\n",
       " Text(232.86882245271508, 154.49684210526317, 'X[6] <= 0.5\\ngini = 0.052\\nsamples = 263\\nvalue = [256, 7]'),\n",
       " Text(231.2346552776083, 143.05263157894737, 'X[12] <= 1.5\\ngini = 0.148\\nsamples = 62\\nvalue = [57, 5]'),\n",
       " Text(230.41757169005493, 131.60842105263157, 'X[5] <= 404.5\\ngini = 0.32\\nsamples = 25\\nvalue = [20, 5]'),\n",
       " Text(229.60048810250154, 120.16421052631578, 'gini = 0.426\\nsamples = 13\\nvalue = [9, 4]'),\n",
       " Text(231.2346552776083, 120.16421052631578, 'gini = 0.153\\nsamples = 12\\nvalue = [11, 1]'),\n",
       " Text(232.0517388651617, 131.60842105263157, 'gini = 0.0\\nsamples = 37\\nvalue = [37, 0]'),\n",
       " Text(234.50298962782188, 143.05263157894737, 'X[9] <= 29.5\\ngini = 0.02\\nsamples = 201\\nvalue = [199, 2]'),\n",
       " Text(233.68590604026846, 131.60842105263157, 'X[9] <= 3.5\\ngini = 0.01\\nsamples = 191\\nvalue = [190, 1]'),\n",
       " Text(232.86882245271508, 120.16421052631578, 'gini = 0.165\\nsamples = 11\\nvalue = [10, 1]'),\n",
       " Text(234.50298962782188, 120.16421052631578, 'gini = 0.0\\nsamples = 180\\nvalue = [180, 0]'),\n",
       " Text(235.32007321537526, 131.60842105263157, 'gini = 0.18\\nsamples = 10\\nvalue = [9, 1]'),\n",
       " Text(238.5884075655888, 154.49684210526317, 'X[12] <= 1.5\\ngini = 0.249\\nsamples = 55\\nvalue = [47, 8]'),\n",
       " Text(237.7713239780354, 143.05263157894737, 'X[6] <= 0.5\\ngini = 0.463\\nsamples = 22\\nvalue = [14, 8]'),\n",
       " Text(236.95424039048203, 131.60842105263157, 'gini = 0.5\\nsamples = 10\\nvalue = [5, 5]'),\n",
       " Text(238.5884075655888, 131.60842105263157, 'gini = 0.375\\nsamples = 12\\nvalue = [9, 3]'),\n",
       " Text(239.40549115314218, 143.05263157894737, 'gini = 0.0\\nsamples = 33\\nvalue = [33, 0]'),\n",
       " Text(241.03965832824895, 165.94105263157894, 'X[0] <= 30.5\\ngini = 0.305\\nsamples = 80\\nvalue = [65, 15]'),\n",
       " Text(240.22257474069556, 154.49684210526317, 'gini = 0.498\\nsamples = 17\\nvalue = [9, 8]'),\n",
       " Text(241.85674191580233, 154.49684210526317, 'X[10] <= 7.0\\ngini = 0.198\\nsamples = 63\\nvalue = [56, 7]'),\n",
       " Text(241.03965832824895, 143.05263157894737, 'X[12] <= 2.5\\ngini = 0.384\\nsamples = 27\\nvalue = [20, 7]'),\n",
       " Text(240.22257474069556, 131.60842105263157, 'gini = 0.457\\nsamples = 17\\nvalue = [11, 6]'),\n",
       " Text(241.85674191580233, 131.60842105263157, 'gini = 0.18\\nsamples = 10\\nvalue = [9, 1]'),\n",
       " Text(242.67382550335572, 143.05263157894737, 'gini = 0.0\\nsamples = 36\\nvalue = [36, 0]'),\n",
       " Text(281.6504680826724, 188.82947368421054, 'X[11] <= 648.5\\ngini = 0.307\\nsamples = 2213\\nvalue = [419, 1794]'),\n",
       " Text(266.7011897498475, 177.38526315789474, 'X[8] <= 1.5\\ngini = 0.402\\nsamples = 909\\nvalue = [253, 656]'),\n",
       " Text(257.2281269066504, 165.94105263157894, 'X[6] <= 0.5\\ngini = 0.345\\nsamples = 748\\nvalue = [166, 582]'),\n",
       " Text(250.33398413666873, 154.49684210526317, 'X[7] <= 0.5\\ngini = 0.288\\nsamples = 452\\nvalue = [79, 373]'),\n",
       " Text(246.963514338011, 143.05263157894737, 'X[13] <= 63.0\\ngini = 0.262\\nsamples = 413\\nvalue = [64, 349]'),\n",
       " Text(243.4909090909091, 131.60842105263157, 'X[12] <= 4.5\\ngini = 0.304\\nsamples = 305\\nvalue = [57, 248]'),\n",
       " Text(241.44820012202564, 120.16421052631578, 'X[10] <= 0.5\\ngini = 0.331\\nsamples = 268\\nvalue = [56, 212]'),\n",
       " Text(239.81403294691887, 108.72, 'X[0] <= 50.5\\ngini = 0.139\\nsamples = 40\\nvalue = [3, 37]'),\n",
       " Text(238.9969493593655, 97.27578947368421, 'gini = 0.0\\nsamples = 28\\nvalue = [0, 28]'),\n",
       " Text(240.63111653447226, 97.27578947368421, 'gini = 0.375\\nsamples = 12\\nvalue = [3, 9]'),\n",
       " Text(243.0823672971324, 108.72, 'X[9] <= 28.5\\ngini = 0.357\\nsamples = 228\\nvalue = [53, 175]'),\n",
       " Text(242.26528370957902, 97.27578947368421, 'X[1] <= 4.5\\ngini = 0.333\\nsamples = 213\\nvalue = [45, 168]'),\n",
       " Text(238.38413666870045, 85.83157894736843, 'X[10] <= 5.5\\ngini = 0.413\\nsamples = 96\\nvalue = [28, 68]'),\n",
       " Text(236.74996949359368, 74.38736842105263, 'X[5] <= 88.0\\ngini = 0.485\\nsamples = 46\\nvalue = [19, 27]'),\n",
       " Text(235.9328859060403, 62.943157894736856, 'gini = 0.298\\nsamples = 11\\nvalue = [2, 9]'),\n",
       " Text(237.56705308114707, 62.943157894736856, 'X[5] <= 1301.5\\ngini = 0.5\\nsamples = 35\\nvalue = [17, 18]'),\n",
       " Text(236.74996949359368, 51.49894736842106, 'X[5] <= 568.5\\ngini = 0.48\\nsamples = 25\\nvalue = [15, 10]'),\n",
       " Text(235.9328859060403, 40.05473684210526, 'gini = 0.497\\nsamples = 13\\nvalue = [6, 7]'),\n",
       " Text(237.56705308114707, 40.05473684210526, 'gini = 0.375\\nsamples = 12\\nvalue = [9, 3]'),\n",
       " Text(238.38413666870045, 51.49894736842106, 'gini = 0.32\\nsamples = 10\\nvalue = [2, 8]'),\n",
       " Text(240.01830384380722, 74.38736842105263, 'X[10] <= 7.5\\ngini = 0.295\\nsamples = 50\\nvalue = [9, 41]'),\n",
       " Text(239.20122025625383, 62.943157894736856, 'gini = 0.0\\nsamples = 12\\nvalue = [0, 12]'),\n",
       " Text(240.8353874313606, 62.943157894736856, 'X[0] <= 47.5\\ngini = 0.361\\nsamples = 38\\nvalue = [9, 29]'),\n",
       " Text(240.01830384380722, 51.49894736842106, 'X[2] <= 1.5\\ngini = 0.252\\nsamples = 27\\nvalue = [4, 23]'),\n",
       " Text(239.20122025625383, 40.05473684210526, 'gini = 0.111\\nsamples = 17\\nvalue = [1, 16]'),\n",
       " Text(240.8353874313606, 40.05473684210526, 'gini = 0.42\\nsamples = 10\\nvalue = [3, 7]'),\n",
       " Text(241.65247101891399, 51.49894736842106, 'gini = 0.496\\nsamples = 11\\nvalue = [5, 6]'),\n",
       " Text(246.14643075045763, 85.83157894736843, 'X[0] <= 70.5\\ngini = 0.248\\nsamples = 117\\nvalue = [17, 100]'),\n",
       " Text(245.32934716290424, 74.38736842105263, 'X[2] <= 0.5\\ngini = 0.278\\nsamples = 102\\nvalue = [17, 85]'),\n",
       " Text(244.51226357535086, 62.943157894736856, 'gini = 0.0\\nsamples = 10\\nvalue = [0, 10]'),\n",
       " Text(246.14643075045763, 62.943157894736856, 'X[2] <= 1.5\\ngini = 0.301\\nsamples = 92\\nvalue = [17, 75]'),\n",
       " Text(244.10372178157417, 51.49894736842106, 'X[9] <= 13.5\\ngini = 0.366\\nsamples = 54\\nvalue = [13, 41]'),\n",
       " Text(242.46955460646737, 40.05473684210526, 'X[5] <= 1217.5\\ngini = 0.238\\nsamples = 29\\nvalue = [4, 25]'),\n",
       " Text(241.65247101891399, 28.610526315789485, 'gini = 0.36\\nsamples = 17\\nvalue = [4, 13]'),\n",
       " Text(243.28663819402075, 28.610526315789485, 'gini = 0.0\\nsamples = 12\\nvalue = [0, 12]'),\n",
       " Text(245.73788895668093, 40.05473684210526, 'X[5] <= 123.5\\ngini = 0.461\\nsamples = 25\\nvalue = [9, 16]'),\n",
       " Text(244.92080536912755, 28.610526315789485, 'gini = 0.18\\nsamples = 10\\nvalue = [1, 9]'),\n",
       " Text(246.55497254423432, 28.610526315789485, 'gini = 0.498\\nsamples = 15\\nvalue = [8, 7]'),\n",
       " Text(248.18913971934109, 51.49894736842106, 'X[12] <= 1.5\\ngini = 0.188\\nsamples = 38\\nvalue = [4, 34]'),\n",
       " Text(247.3720561317877, 40.05473684210526, 'gini = 0.0\\nsamples = 18\\nvalue = [0, 18]'),\n",
       " Text(249.00622330689447, 40.05473684210526, 'X[0] <= 29.0\\ngini = 0.32\\nsamples = 20\\nvalue = [4, 16]'),\n",
       " Text(248.18913971934109, 28.610526315789485, 'gini = 0.42\\nsamples = 10\\nvalue = [3, 7]'),\n",
       " Text(249.82330689444785, 28.610526315789485, 'gini = 0.18\\nsamples = 10\\nvalue = [1, 9]'),\n",
       " Text(246.963514338011, 74.38736842105263, 'gini = 0.0\\nsamples = 15\\nvalue = [0, 15]'),\n",
       " Text(243.8994508846858, 97.27578947368421, 'gini = 0.498\\nsamples = 15\\nvalue = [8, 7]'),\n",
       " Text(245.5336180597926, 120.16421052631578, 'X[5] <= 2416.5\\ngini = 0.053\\nsamples = 37\\nvalue = [1, 36]'),\n",
       " Text(244.7165344722392, 108.72, 'gini = 0.0\\nsamples = 27\\nvalue = [0, 27]'),\n",
       " Text(246.35070164734597, 108.72, 'gini = 0.18\\nsamples = 10\\nvalue = [1, 9]'),\n",
       " Text(250.4361195851129, 131.60842105263157, 'X[15] <= 0.5\\ngini = 0.121\\nsamples = 108\\nvalue = [7, 101]'),\n",
       " Text(248.80195241000612, 120.16421052631578, 'X[11] <= 513.5\\ngini = 0.245\\nsamples = 35\\nvalue = [5, 30]'),\n",
       " Text(247.98486882245274, 108.72, 'gini = 0.0\\nsamples = 14\\nvalue = [0, 14]'),\n",
       " Text(249.6190359975595, 108.72, 'X[3] <= 1.5\\ngini = 0.363\\nsamples = 21\\nvalue = [5, 16]'),\n",
       " Text(248.80195241000612, 97.27578947368421, 'gini = 0.48\\nsamples = 10\\nvalue = [4, 6]'),\n",
       " Text(250.4361195851129, 97.27578947368421, 'gini = 0.165\\nsamples = 11\\nvalue = [1, 10]'),\n",
       " Text(252.07028676021966, 120.16421052631578, 'X[0] <= 29.5\\ngini = 0.053\\nsamples = 73\\nvalue = [2, 71]'),\n",
       " Text(251.25320317266628, 108.72, 'gini = 0.278\\nsamples = 12\\nvalue = [2, 10]'),\n",
       " Text(252.88737034777304, 108.72, 'gini = 0.0\\nsamples = 61\\nvalue = [0, 61]'),\n",
       " Text(253.70445393532643, 143.05263157894737, 'X[11] <= 518.0\\ngini = 0.473\\nsamples = 39\\nvalue = [15, 24]'),\n",
       " Text(252.88737034777304, 131.60842105263157, 'gini = 0.473\\nsamples = 13\\nvalue = [8, 5]'),\n",
       " Text(254.52153752287984, 131.60842105263157, 'X[0] <= 32.5\\ngini = 0.393\\nsamples = 26\\nvalue = [7, 19]'),\n",
       " Text(253.70445393532643, 120.16421052631578, 'gini = 0.18\\nsamples = 10\\nvalue = [1, 9]'),\n",
       " Text(255.33862111043322, 120.16421052631578, 'gini = 0.469\\nsamples = 16\\nvalue = [6, 10]'),\n",
       " Text(264.12226967663213, 154.49684210526317, 'X[12] <= 1.5\\ngini = 0.415\\nsamples = 296\\nvalue = [87, 209]'),\n",
       " Text(260.2411226357535, 143.05263157894737, 'X[10] <= 5.5\\ngini = 0.346\\nsamples = 144\\nvalue = [32, 112]'),\n",
       " Text(257.7898718730934, 131.60842105263157, 'X[5] <= 186.0\\ngini = 0.448\\nsamples = 56\\nvalue = [19, 37]'),\n",
       " Text(256.97278828554, 120.16421052631578, 'gini = 0.231\\nsamples = 15\\nvalue = [2, 13]'),\n",
       " Text(258.60695546064676, 120.16421052631578, 'X[5] <= 1497.5\\ngini = 0.485\\nsamples = 41\\nvalue = [17, 24]'),\n",
       " Text(257.7898718730934, 108.72, 'X[10] <= 4.5\\ngini = 0.497\\nsamples = 28\\nvalue = [15, 13]'),\n",
       " Text(256.97278828554, 97.27578947368421, 'gini = 0.498\\nsamples = 17\\nvalue = [8, 9]'),\n",
       " Text(258.60695546064676, 97.27578947368421, 'gini = 0.463\\nsamples = 11\\nvalue = [7, 4]'),\n",
       " Text(259.42403904820014, 108.72, 'gini = 0.26\\nsamples = 13\\nvalue = [2, 11]'),\n",
       " Text(262.6923733984137, 131.60842105263157, 'X[5] <= 5005.5\\ngini = 0.252\\nsamples = 88\\nvalue = [13, 75]'),\n",
       " Text(261.8752898108603, 120.16421052631578, 'X[5] <= 1.5\\ngini = 0.184\\nsamples = 78\\nvalue = [8, 70]'),\n",
       " Text(261.0582062233069, 108.72, 'gini = 0.408\\nsamples = 14\\nvalue = [4, 10]'),\n",
       " Text(262.6923733984137, 108.72, 'X[11] <= 615.5\\ngini = 0.117\\nsamples = 64\\nvalue = [4, 60]'),\n",
       " Text(261.8752898108603, 97.27578947368421, 'X[0] <= 44.5\\ngini = 0.071\\nsamples = 54\\nvalue = [2, 52]'),\n",
       " Text(261.0582062233069, 85.83157894736843, 'gini = 0.0\\nsamples = 38\\nvalue = [0, 38]'),\n",
       " Text(262.6923733984137, 85.83157894736843, 'gini = 0.219\\nsamples = 16\\nvalue = [2, 14]'),\n",
       " Text(263.50945698596706, 97.27578947368421, 'gini = 0.32\\nsamples = 10\\nvalue = [2, 8]'),\n",
       " Text(263.50945698596706, 120.16421052631578, 'gini = 0.5\\nsamples = 10\\nvalue = [5, 5]'),\n",
       " Text(268.0034167175107, 143.05263157894737, 'X[5] <= 39.5\\ngini = 0.462\\nsamples = 152\\nvalue = [55, 97]'),\n",
       " Text(265.9607077486272, 131.60842105263157, 'X[0] <= 40.5\\ngini = 0.489\\nsamples = 33\\nvalue = [19, 14]'),\n",
       " Text(265.14362416107383, 120.16421052631578, 'X[11] <= 541.5\\ngini = 0.499\\nsamples = 23\\nvalue = [11, 12]'),\n",
       " Text(264.32654057352045, 108.72, 'gini = 0.463\\nsamples = 11\\nvalue = [4, 7]'),\n",
       " Text(265.9607077486272, 108.72, 'gini = 0.486\\nsamples = 12\\nvalue = [7, 5]'),\n",
       " Text(266.7777913361806, 120.16421052631578, 'gini = 0.32\\nsamples = 10\\nvalue = [8, 2]'),\n",
       " Text(270.0461256863942, 131.60842105263157, 'X[12] <= 3.5\\ngini = 0.422\\nsamples = 119\\nvalue = [36, 83]'),\n",
       " Text(268.41195851128737, 120.16421052631578, 'X[0] <= 31.5\\ngini = 0.461\\nsamples = 86\\nvalue = [31, 55]'),\n",
       " Text(267.594874923734, 108.72, 'gini = 0.484\\nsamples = 17\\nvalue = [10, 7]'),\n",
       " Text(269.2290420988408, 108.72, 'X[15] <= 1.5\\ngini = 0.423\\nsamples = 69\\nvalue = [21, 48]'),\n",
       " Text(267.1863331299573, 97.27578947368421, 'X[5] <= 1162.5\\ngini = 0.499\\nsamples = 23\\nvalue = [11, 12]'),\n",
       " Text(266.3692495424039, 85.83157894736843, 'gini = 0.426\\nsamples = 13\\nvalue = [4, 9]'),\n",
       " Text(268.0034167175107, 85.83157894736843, 'gini = 0.42\\nsamples = 10\\nvalue = [7, 3]'),\n",
       " Text(271.27175106772427, 97.27578947368421, 'X[0] <= 40.5\\ngini = 0.34\\nsamples = 46\\nvalue = [10, 36]'),\n",
       " Text(269.6375838926175, 85.83157894736843, 'X[5] <= 450.0\\ngini = 0.091\\nsamples = 21\\nvalue = [1, 20]'),\n",
       " Text(268.82050030506406, 74.38736842105263, 'gini = 0.18\\nsamples = 10\\nvalue = [1, 9]'),\n",
       " Text(270.4546674801709, 74.38736842105263, 'gini = 0.0\\nsamples = 11\\nvalue = [0, 11]'),\n",
       " Text(272.90591824283104, 85.83157894736843, 'X[3] <= 0.5\\ngini = 0.461\\nsamples = 25\\nvalue = [9, 16]'),\n",
       " Text(272.08883465527765, 74.38736842105263, 'gini = 0.298\\nsamples = 11\\nvalue = [2, 9]'),\n",
       " Text(273.7230018303844, 74.38736842105263, 'gini = 0.5\\nsamples = 14\\nvalue = [7, 7]'),\n",
       " Text(271.68029286150096, 120.16421052631578, 'X[1] <= 2.5\\ngini = 0.257\\nsamples = 33\\nvalue = [5, 28]'),\n",
       " Text(270.8632092739476, 108.72, 'gini = 0.0\\nsamples = 16\\nvalue = [0, 16]'),\n",
       " Text(272.49737644905434, 108.72, 'gini = 0.415\\nsamples = 17\\nvalue = [5, 12]'),\n",
       " Text(276.17425259304457, 165.94105263157894, 'X[10] <= 7.0\\ngini = 0.497\\nsamples = 161\\nvalue = [87, 74]'),\n",
       " Text(274.1315436241611, 154.49684210526317, 'X[0] <= 47.5\\ngini = 0.483\\nsamples = 66\\nvalue = [27, 39]'),\n",
       " Text(273.3144600366077, 143.05263157894737, 'X[9] <= 3.5\\ngini = 0.425\\nsamples = 49\\nvalue = [15, 34]'),\n",
       " Text(272.49737644905434, 131.60842105263157, 'gini = 0.463\\nsamples = 11\\nvalue = [7, 4]'),\n",
       " Text(274.1315436241611, 131.60842105263157, 'X[9] <= 14.5\\ngini = 0.332\\nsamples = 38\\nvalue = [8, 30]'),\n",
       " Text(273.3144600366077, 120.16421052631578, 'gini = 0.0\\nsamples = 17\\nvalue = [0, 17]'),\n",
       " Text(274.9486272117145, 120.16421052631578, 'X[1] <= 3.0\\ngini = 0.472\\nsamples = 21\\nvalue = [8, 13]'),\n",
       " Text(274.1315436241611, 108.72, 'gini = 0.5\\nsamples = 10\\nvalue = [5, 5]'),\n",
       " Text(275.7657107992679, 108.72, 'gini = 0.397\\nsamples = 11\\nvalue = [3, 8]'),\n",
       " Text(274.9486272117145, 143.05263157894737, 'gini = 0.415\\nsamples = 17\\nvalue = [12, 5]'),\n",
       " Text(278.21696156192803, 154.49684210526317, 'X[5] <= 168.5\\ngini = 0.465\\nsamples = 95\\nvalue = [60, 35]'),\n",
       " Text(276.58279438682126, 143.05263157894737, 'X[11] <= 531.5\\ngini = 0.499\\nsamples = 31\\nvalue = [15, 16]'),\n",
       " Text(275.7657107992679, 131.60842105263157, 'gini = 0.469\\nsamples = 16\\nvalue = [10, 6]'),\n",
       " Text(277.39987797437465, 131.60842105263157, 'gini = 0.444\\nsamples = 15\\nvalue = [5, 10]'),\n",
       " Text(279.8511287370348, 143.05263157894737, 'X[5] <= 305.0\\ngini = 0.417\\nsamples = 64\\nvalue = [45, 19]'),\n",
       " Text(279.0340451494814, 131.60842105263157, 'gini = 0.153\\nsamples = 12\\nvalue = [11, 1]'),\n",
       " Text(280.6682123245882, 131.60842105263157, 'X[5] <= 831.5\\ngini = 0.453\\nsamples = 52\\nvalue = [34, 18]'),\n",
       " Text(279.0340451494814, 120.16421052631578, 'X[11] <= 543.5\\ngini = 0.499\\nsamples = 25\\nvalue = [13, 12]'),\n",
       " Text(278.21696156192803, 108.72, 'gini = 0.459\\nsamples = 14\\nvalue = [5, 9]'),\n",
       " Text(279.8511287370348, 108.72, 'gini = 0.397\\nsamples = 11\\nvalue = [8, 3]'),\n",
       " Text(282.30237949969495, 120.16421052631578, 'X[5] <= 1716.5\\ngini = 0.346\\nsamples = 27\\nvalue = [21, 6]'),\n",
       " Text(281.48529591214157, 108.72, 'gini = 0.208\\nsamples = 17\\nvalue = [15, 2]'),\n",
       " Text(283.11946308724833, 108.72, 'gini = 0.48\\nsamples = 10\\nvalue = [6, 4]'),\n",
       " Text(296.5997464154973, 177.38526315789474, 'X[0] <= 30.5\\ngini = 0.222\\nsamples = 1304\\nvalue = [166, 1138]'),\n",
       " Text(289.65613178767546, 165.94105263157894, 'X[13] <= 293.0\\ngini = 0.102\\nsamples = 223\\nvalue = [12, 211]'),\n",
       " Text(288.839048200122, 154.49684210526317, 'X[3] <= 1.5\\ngini = 0.09\\nsamples = 212\\nvalue = [10, 202]'),\n",
       " Text(288.02196461256864, 143.05263157894737, 'X[5] <= 1328.5\\ngini = 0.13\\nsamples = 143\\nvalue = [10, 133]'),\n",
       " Text(287.20488102501525, 131.60842105263157, 'X[5] <= 394.0\\ngini = 0.163\\nsamples = 112\\nvalue = [10, 102]'),\n",
       " Text(285.5707138499085, 120.16421052631578, 'X[10] <= 7.0\\ngini = 0.098\\nsamples = 77\\nvalue = [4, 73]'),\n",
       " Text(284.7536302623551, 108.72, 'X[11] <= 1075.5\\ngini = 0.159\\nsamples = 46\\nvalue = [4, 42]'),\n",
       " Text(283.9365466748017, 97.27578947368421, 'X[5] <= 83.5\\ngini = 0.225\\nsamples = 31\\nvalue = [4, 27]'),\n",
       " Text(283.11946308724833, 85.83157894736843, 'gini = 0.124\\nsamples = 15\\nvalue = [1, 14]'),\n",
       " Text(284.7536302623551, 85.83157894736843, 'gini = 0.305\\nsamples = 16\\nvalue = [3, 13]'),\n",
       " Text(285.5707138499085, 97.27578947368421, 'gini = 0.0\\nsamples = 15\\nvalue = [0, 15]'),\n",
       " Text(286.38779743746187, 108.72, 'gini = 0.0\\nsamples = 31\\nvalue = [0, 31]'),\n",
       " Text(288.839048200122, 120.16421052631578, 'X[9] <= 17.5\\ngini = 0.284\\nsamples = 35\\nvalue = [6, 29]'),\n",
       " Text(288.02196461256864, 108.72, 'X[9] <= 11.0\\ngini = 0.095\\nsamples = 20\\nvalue = [1, 19]'),\n",
       " Text(287.20488102501525, 97.27578947368421, 'gini = 0.18\\nsamples = 10\\nvalue = [1, 9]'),\n",
       " Text(288.839048200122, 97.27578947368421, 'gini = 0.0\\nsamples = 10\\nvalue = [0, 10]'),\n",
       " Text(289.65613178767546, 108.72, 'gini = 0.444\\nsamples = 15\\nvalue = [5, 10]'),\n",
       " Text(288.839048200122, 131.60842105263157, 'gini = 0.0\\nsamples = 31\\nvalue = [0, 31]'),\n",
       " Text(289.65613178767546, 143.05263157894737, 'gini = 0.0\\nsamples = 69\\nvalue = [0, 69]'),\n",
       " Text(290.47321537522885, 154.49684210526317, 'gini = 0.298\\nsamples = 11\\nvalue = [2, 9]'),\n",
       " Text(303.5433610433191, 165.94105263157894, 'X[10] <= 0.5\\ngini = 0.244\\nsamples = 1081\\nvalue = [154, 927]'),\n",
       " Text(292.924466137889, 154.49684210526317, 'X[9] <= 20.5\\ngini = 0.378\\nsamples = 91\\nvalue = [23, 68]'),\n",
       " Text(291.29029896278223, 143.05263157894737, 'X[11] <= 708.0\\ngini = 0.441\\nsamples = 67\\nvalue = [22, 45]'),\n",
       " Text(290.47321537522885, 131.60842105263157, 'gini = 0.397\\nsamples = 11\\nvalue = [8, 3]'),\n",
       " Text(292.1073825503356, 131.60842105263157, 'X[9] <= 7.5\\ngini = 0.375\\nsamples = 56\\nvalue = [14, 42]'),\n",
       " Text(291.29029896278223, 120.16421052631578, 'gini = 0.492\\nsamples = 16\\nvalue = [7, 9]'),\n",
       " Text(292.924466137889, 120.16421052631578, 'X[11] <= 870.0\\ngini = 0.289\\nsamples = 40\\nvalue = [7, 33]'),\n",
       " Text(292.1073825503356, 108.72, 'gini = 0.444\\nsamples = 12\\nvalue = [4, 8]'),\n",
       " Text(293.7415497254424, 108.72, 'X[1] <= 2.5\\ngini = 0.191\\nsamples = 28\\nvalue = [3, 25]'),\n",
       " Text(292.924466137889, 97.27578947368421, 'gini = 0.375\\nsamples = 12\\nvalue = [3, 9]'),\n",
       " Text(294.55863331299577, 97.27578947368421, 'gini = 0.0\\nsamples = 16\\nvalue = [0, 16]'),\n",
       " Text(294.55863331299577, 143.05263157894737, 'X[5] <= 945.0\\ngini = 0.08\\nsamples = 24\\nvalue = [1, 23]'),\n",
       " Text(293.7415497254424, 131.60842105263157, 'gini = 0.18\\nsamples = 10\\nvalue = [1, 9]'),\n",
       " Text(295.37571690054915, 131.60842105263157, 'gini = 0.0\\nsamples = 14\\nvalue = [0, 14]'),\n",
       " Text(314.16225594874925, 154.49684210526317, 'X[8] <= 1.5\\ngini = 0.23\\nsamples = 990\\nvalue = [131, 859]'),\n",
       " Text(306.3935784014643, 143.05263157894737, 'X[14] <= 5.5\\ngini = 0.195\\nsamples = 738\\nvalue = [81, 657]'),\n",
       " Text(303.4188834655278, 131.60842105263157, 'X[14] <= 1.5\\ngini = 0.186\\nsamples = 705\\nvalue = [73, 632]'),\n",
       " Text(299.92074435631486, 120.16421052631578, 'X[1] <= 0.5\\ngini = 0.204\\nsamples = 616\\nvalue = [71, 545]'),\n",
       " Text(299.1036607687615, 108.72, 'gini = 0.0\\nsamples = 56\\nvalue = [0, 56]'),\n",
       " Text(300.73782794386824, 108.72, 'X[5] <= -0.5\\ngini = 0.221\\nsamples = 560\\nvalue = [71, 489]'),\n",
       " Text(296.19280048810253, 97.27578947368421, 'X[5] <= -422.0\\ngini = 0.051\\nsamples = 38\\nvalue = [1, 37]'),\n",
       " Text(295.37571690054915, 85.83157894736843, 'gini = 0.18\\nsamples = 10\\nvalue = [1, 9]'),\n",
       " Text(297.0098840756559, 85.83157894736843, 'gini = 0.0\\nsamples = 28\\nvalue = [0, 28]'),\n",
       " Text(305.28285539963395, 97.27578947368421, 'X[5] <= 695.5\\ngini = 0.232\\nsamples = 522\\nvalue = [70, 452]'),\n",
       " Text(298.6440512507627, 85.83157894736843, 'X[5] <= 523.0\\ngini = 0.271\\nsamples = 247\\nvalue = [40, 207]'),\n",
       " Text(295.98852959121416, 74.38736842105263, 'X[11] <= 862.5\\ngini = 0.23\\nsamples = 211\\nvalue = [28, 183]'),\n",
       " Text(293.1287370347773, 62.943157894736856, 'X[2] <= 1.5\\ngini = 0.32\\nsamples = 95\\nvalue = [19, 76]'),\n",
       " Text(291.49456985967055, 51.49894736842106, 'X[15] <= 2.5\\ngini = 0.371\\nsamples = 69\\nvalue = [17, 52]'),\n",
       " Text(290.67748627211716, 40.05473684210526, 'gini = 0.0\\nsamples = 14\\nvalue = [0, 14]'),\n",
       " Text(292.31165344722393, 40.05473684210526, 'X[1] <= 6.5\\ngini = 0.427\\nsamples = 55\\nvalue = [17, 38]'),\n",
       " Text(291.49456985967055, 28.610526315789485, 'X[5] <= 144.5\\ngini = 0.369\\nsamples = 41\\nvalue = [10, 31]'),\n",
       " Text(290.67748627211716, 17.166315789473686, 'gini = 0.48\\nsamples = 15\\nvalue = [6, 9]'),\n",
       " Text(292.31165344722393, 17.166315789473686, 'X[0] <= 46.0\\ngini = 0.26\\nsamples = 26\\nvalue = [4, 22]'),\n",
       " Text(291.49456985967055, 5.722105263157886, 'gini = 0.117\\nsamples = 16\\nvalue = [1, 15]'),\n",
       " Text(293.1287370347773, 5.722105263157886, 'gini = 0.42\\nsamples = 10\\nvalue = [3, 7]'),\n",
       " Text(293.1287370347773, 28.610526315789485, 'gini = 0.5\\nsamples = 14\\nvalue = [7, 7]'),\n",
       " Text(294.7629042098841, 51.49894736842106, 'X[1] <= 5.0\\ngini = 0.142\\nsamples = 26\\nvalue = [2, 24]'),\n",
       " Text(293.9458206223307, 40.05473684210526, 'gini = 0.32\\nsamples = 10\\nvalue = [2, 8]'),\n",
       " Text(295.57998779743747, 40.05473684210526, 'gini = 0.0\\nsamples = 16\\nvalue = [0, 16]'),\n",
       " Text(298.84832214765106, 62.943157894736856, 'X[0] <= 56.5\\ngini = 0.143\\nsamples = 116\\nvalue = [9, 107]'),\n",
       " Text(298.0312385600976, 51.49894736842106, 'X[11] <= 1470.5\\ngini = 0.108\\nsamples = 105\\nvalue = [6, 99]'),\n",
       " Text(297.21415497254424, 40.05473684210526, 'X[9] <= 17.5\\ngini = 0.067\\nsamples = 86\\nvalue = [3, 83]'),\n",
       " Text(296.39707138499085, 28.610526315789485, 'X[9] <= 13.5\\ngini = 0.107\\nsamples = 53\\nvalue = [3, 50]'),\n",
       " Text(295.57998779743747, 17.166315789473686, 'X[9] <= 5.5\\ngini = 0.05\\nsamples = 39\\nvalue = [1, 38]'),\n",
       " Text(294.7629042098841, 5.722105263157886, 'gini = 0.18\\nsamples = 10\\nvalue = [1, 9]'),\n",
       " Text(296.39707138499085, 5.722105263157886, 'gini = 0.0\\nsamples = 29\\nvalue = [0, 29]'),\n",
       " Text(297.21415497254424, 17.166315789473686, 'gini = 0.245\\nsamples = 14\\nvalue = [2, 12]'),\n",
       " Text(298.0312385600976, 28.610526315789485, 'gini = 0.0\\nsamples = 33\\nvalue = [0, 33]'),\n",
       " Text(298.84832214765106, 40.05473684210526, 'gini = 0.266\\nsamples = 19\\nvalue = [3, 16]'),\n",
       " Text(299.66540573520444, 51.49894736842106, 'gini = 0.397\\nsamples = 11\\nvalue = [3, 8]'),\n",
       " Text(301.2995729103112, 74.38736842105263, 'X[12] <= 1.5\\ngini = 0.444\\nsamples = 36\\nvalue = [12, 24]'),\n",
       " Text(300.48248932275783, 62.943157894736856, 'gini = 0.165\\nsamples = 11\\nvalue = [1, 10]'),\n",
       " Text(302.1166564978646, 62.943157894736856, 'X[11] <= 927.0\\ngini = 0.493\\nsamples = 25\\nvalue = [11, 14]'),\n",
       " Text(301.2995729103112, 51.49894736842106, 'gini = 0.48\\nsamples = 15\\nvalue = [9, 6]'),\n",
       " Text(302.933740085418, 51.49894736842106, 'gini = 0.32\\nsamples = 10\\nvalue = [2, 8]'),\n",
       " Text(311.9216595485052, 85.83157894736843, 'X[0] <= 46.5\\ngini = 0.194\\nsamples = 275\\nvalue = [30, 245]'),\n",
       " Text(308.244783404515, 74.38736842105263, 'X[11] <= 1112.0\\ngini = 0.127\\nsamples = 147\\nvalue = [10, 137]'),\n",
       " Text(306.2020744356315, 62.943157894736856, 'X[0] <= 36.5\\ngini = 0.083\\nsamples = 115\\nvalue = [5, 110]'),\n",
       " Text(304.56790726052475, 51.49894736842106, 'X[1] <= 1.5\\ngini = 0.156\\nsamples = 47\\nvalue = [4, 43]'),\n",
       " Text(303.75082367297136, 40.05473684210526, 'gini = 0.375\\nsamples = 12\\nvalue = [3, 9]'),\n",
       " Text(305.38499084807813, 40.05473684210526, 'X[11] <= 709.5\\ngini = 0.056\\nsamples = 35\\nvalue = [1, 34]'),\n",
       " Text(304.56790726052475, 28.610526315789485, 'gini = 0.18\\nsamples = 10\\nvalue = [1, 9]'),\n",
       " Text(306.2020744356315, 28.610526315789485, 'gini = 0.0\\nsamples = 25\\nvalue = [0, 25]'),\n",
       " Text(307.8362416107383, 51.49894736842106, 'X[10] <= 8.5\\ngini = 0.029\\nsamples = 68\\nvalue = [1, 67]'),\n",
       " Text(307.0191580231849, 40.05473684210526, 'gini = 0.0\\nsamples = 56\\nvalue = [0, 56]'),\n",
       " Text(308.65332519829167, 40.05473684210526, 'gini = 0.153\\nsamples = 12\\nvalue = [1, 11]'),\n",
       " Text(310.28749237339844, 62.943157894736856, 'X[11] <= 1241.0\\ngini = 0.264\\nsamples = 32\\nvalue = [5, 27]'),\n",
       " Text(309.47040878584505, 51.49894736842106, 'gini = 0.48\\nsamples = 10\\nvalue = [4, 6]'),\n",
       " Text(311.1045759609518, 51.49894736842106, 'X[5] <= 2264.5\\ngini = 0.087\\nsamples = 22\\nvalue = [1, 21]'),\n",
       " Text(310.28749237339844, 40.05473684210526, 'gini = 0.0\\nsamples = 12\\nvalue = [0, 12]'),\n",
       " Text(311.9216595485052, 40.05473684210526, 'gini = 0.18\\nsamples = 10\\nvalue = [1, 9]'),\n",
       " Text(315.59853569249543, 74.38736842105263, 'X[10] <= 2.5\\ngini = 0.264\\nsamples = 128\\nvalue = [20, 108]'),\n",
       " Text(313.555826723612, 62.943157894736856, 'X[0] <= 58.5\\ngini = 0.097\\nsamples = 39\\nvalue = [2, 37]'),\n",
       " Text(312.7387431360586, 51.49894736842106, 'gini = 0.0\\nsamples = 28\\nvalue = [0, 28]'),\n",
       " Text(314.37291031116536, 51.49894736842106, 'gini = 0.298\\nsamples = 11\\nvalue = [2, 9]'),\n",
       " Text(317.6412446613789, 62.943157894736856, 'X[10] <= 6.5\\ngini = 0.323\\nsamples = 89\\nvalue = [18, 71]'),\n",
       " Text(316.0070774862721, 51.49894736842106, 'X[0] <= 57.5\\ngini = 0.395\\nsamples = 48\\nvalue = [13, 35]'),\n",
       " Text(315.18999389871874, 40.05473684210526, 'X[5] <= 1420.5\\ngini = 0.464\\nsamples = 30\\nvalue = [11, 19]'),\n",
       " Text(314.37291031116536, 28.610526315789485, 'gini = 0.298\\nsamples = 11\\nvalue = [2, 9]'),\n",
       " Text(316.0070774862721, 28.610526315789485, 'gini = 0.499\\nsamples = 19\\nvalue = [9, 10]'),\n",
       " Text(316.8241610738255, 40.05473684210526, 'gini = 0.198\\nsamples = 18\\nvalue = [2, 16]'),\n",
       " Text(319.2754118364857, 51.49894736842106, 'X[9] <= 19.5\\ngini = 0.214\\nsamples = 41\\nvalue = [5, 36]'),\n",
       " Text(318.4583282489323, 40.05473684210526, 'X[5] <= 1892.0\\ngini = 0.067\\nsamples = 29\\nvalue = [1, 28]'),\n",
       " Text(317.6412446613789, 28.610526315789485, 'gini = 0.18\\nsamples = 10\\nvalue = [1, 9]'),\n",
       " Text(319.2754118364857, 28.610526315789485, 'gini = 0.0\\nsamples = 19\\nvalue = [0, 19]'),\n",
       " Text(320.0924954240391, 40.05473684210526, 'gini = 0.444\\nsamples = 12\\nvalue = [4, 8]'),\n",
       " Text(306.9170225747407, 120.16421052631578, 'X[13] <= 188.0\\ngini = 0.044\\nsamples = 89\\nvalue = [2, 87]'),\n",
       " Text(306.09993898718733, 108.72, 'gini = 0.0\\nsamples = 49\\nvalue = [0, 49]'),\n",
       " Text(307.7341061622941, 108.72, 'X[0] <= 40.5\\ngini = 0.095\\nsamples = 40\\nvalue = [2, 38]'),\n",
       " Text(306.9170225747407, 97.27578947368421, 'gini = 0.0\\nsamples = 28\\nvalue = [0, 28]'),\n",
       " Text(308.5511897498475, 97.27578947368421, 'gini = 0.278\\nsamples = 12\\nvalue = [2, 10]'),\n",
       " Text(309.36827333740086, 131.60842105263157, 'X[5] <= 722.5\\ngini = 0.367\\nsamples = 33\\nvalue = [8, 25]'),\n",
       " Text(308.5511897498475, 120.16421052631578, 'gini = 0.498\\nsamples = 17\\nvalue = [8, 9]'),\n",
       " Text(310.18535692495425, 120.16421052631578, 'gini = 0.0\\nsamples = 16\\nvalue = [0, 16]'),\n",
       " Text(321.9309334960342, 143.05263157894737, 'X[11] <= 807.0\\ngini = 0.318\\nsamples = 252\\nvalue = [50, 202]'),\n",
       " Text(316.0070774862721, 131.60842105263157, 'X[5] <= 81.5\\ngini = 0.45\\nsamples = 79\\nvalue = [27, 52]'),\n",
       " Text(315.18999389871874, 120.16421052631578, 'gini = 0.48\\nsamples = 15\\nvalue = [9, 6]'),\n",
       " Text(316.8241610738255, 120.16421052631578, 'X[9] <= 16.5\\ngini = 0.404\\nsamples = 64\\nvalue = [18, 46]'),\n",
       " Text(315.18999389871874, 108.72, 'X[11] <= 720.5\\ngini = 0.456\\nsamples = 37\\nvalue = [13, 24]'),\n",
       " Text(314.37291031116536, 97.27578947368421, 'X[0] <= 43.0\\ngini = 0.397\\nsamples = 22\\nvalue = [6, 16]'),\n",
       " Text(313.555826723612, 85.83157894736843, 'gini = 0.298\\nsamples = 11\\nvalue = [2, 9]'),\n",
       " Text(315.18999389871874, 85.83157894736843, 'gini = 0.463\\nsamples = 11\\nvalue = [4, 7]'),\n",
       " Text(316.0070774862721, 97.27578947368421, 'gini = 0.498\\nsamples = 15\\nvalue = [7, 8]'),\n",
       " Text(318.4583282489323, 108.72, 'X[11] <= 742.0\\ngini = 0.302\\nsamples = 27\\nvalue = [5, 22]'),\n",
       " Text(317.6412446613789, 97.27578947368421, 'gini = 0.391\\nsamples = 15\\nvalue = [4, 11]'),\n",
       " Text(319.2754118364857, 97.27578947368421, 'gini = 0.153\\nsamples = 12\\nvalue = [1, 11]'),\n",
       " Text(327.85478950579625, 131.60842105263157, 'X[5] <= 736.5\\ngini = 0.231\\nsamples = 173\\nvalue = [23, 150]'),\n",
       " Text(324.177913361806, 120.16421052631578, 'X[5] <= 155.0\\ngini = 0.308\\nsamples = 84\\nvalue = [16, 68]'),\n",
       " Text(321.72666259914587, 108.72, 'X[9] <= 7.5\\ngini = 0.172\\nsamples = 42\\nvalue = [4, 38]'),\n",
       " Text(320.9095790115925, 97.27578947368421, 'gini = 0.375\\nsamples = 12\\nvalue = [3, 9]'),\n",
       " Text(322.54374618669925, 97.27578947368421, 'X[11] <= 1015.5\\ngini = 0.064\\nsamples = 30\\nvalue = [1, 29]'),\n",
       " Text(321.72666259914587, 85.83157894736843, 'gini = 0.153\\nsamples = 12\\nvalue = [1, 11]'),\n",
       " Text(323.36082977425264, 85.83157894736843, 'gini = 0.0\\nsamples = 18\\nvalue = [0, 18]'),\n",
       " Text(326.6291641244662, 108.72, 'X[0] <= 40.5\\ngini = 0.408\\nsamples = 42\\nvalue = [12, 30]'),\n",
       " Text(325.8120805369128, 97.27578947368421, 'X[5] <= 378.5\\ngini = 0.476\\nsamples = 23\\nvalue = [9, 14]'),\n",
       " Text(324.9949969493594, 85.83157894736843, 'gini = 0.48\\nsamples = 10\\nvalue = [6, 4]'),\n",
       " Text(326.6291641244662, 85.83157894736843, 'gini = 0.355\\nsamples = 13\\nvalue = [3, 10]'),\n",
       " Text(327.44624771201956, 97.27578947368421, 'gini = 0.266\\nsamples = 19\\nvalue = [3, 16]'),\n",
       " Text(331.5316656497865, 120.16421052631578, 'X[5] <= 4217.0\\ngini = 0.145\\nsamples = 89\\nvalue = [7, 82]'),\n",
       " Text(329.8974984746797, 108.72, 'X[9] <= 7.5\\ngini = 0.083\\nsamples = 69\\nvalue = [3, 66]'),\n",
       " Text(329.0804148871263, 97.27578947368421, 'gini = 0.298\\nsamples = 11\\nvalue = [2, 9]'),\n",
       " Text(330.7145820622331, 97.27578947368421, 'X[9] <= 22.0\\ngini = 0.034\\nsamples = 58\\nvalue = [1, 57]'),\n",
       " Text(329.8974984746797, 85.83157894736843, 'gini = 0.0\\nsamples = 48\\nvalue = [0, 48]'),\n",
       " Text(331.5316656497865, 85.83157894736843, 'gini = 0.18\\nsamples = 10\\nvalue = [1, 9]'),\n",
       " Text(333.16583282489324, 108.72, 'X[11] <= 1215.5\\ngini = 0.32\\nsamples = 20\\nvalue = [4, 16]'),\n",
       " Text(332.34874923733986, 97.27578947368421, 'gini = 0.42\\nsamples = 10\\nvalue = [3, 7]'),\n",
       " Text(333.9829164124466, 97.27578947368421, 'gini = 0.18\\nsamples = 10\\nvalue = [1, 9]')]"
      ]
     },
     "execution_count": 18,
     "metadata": {},
     "output_type": "execute_result"
    },
    {
     "data": {
      "image/png": "[encoded data removed]",
      "text/plain": [
       "<Figure size 432x288 with 1 Axes>"
      ]
     },
     "metadata": {
      "needs_background": "light"
     },
     "output_type": "display_data"
    }
   ],
   "source": [
    "tree.plot_tree(dt3)"
   ]
  },
  {
   "cell_type": "code",
   "execution_count": 19,
   "metadata": {},
   "outputs": [
    {
     "data": {
      "text/plain": [
       "array([0.05363202, 0.01412321, 0.00478388, 0.00433187, 0.        ,\n",
       "       0.04325191, 0.05196417, 0.00148018, 0.08672494, 0.04632611,\n",
       "       0.09355382, 0.43744989, 0.01383606, 0.09166935, 0.000999  ,\n",
       "       0.05587361])"
      ]
     },
     "execution_count": 19,
     "metadata": {},
     "output_type": "execute_result"
    }
   ],
   "source": [
    "dt3.feature_importances_"
   ]
  },
  {
   "cell_type": "code",
   "execution_count": null,
   "metadata": {},
   "outputs": [],
   "source": []
  },
  {
   "cell_type": "markdown",
   "metadata": {},
   "source": [
    "# Ensembling Technique"
   ]
  },
  {
   "cell_type": "markdown",
   "metadata": {},
   "source": [
    "# Naive Aggregation"
   ]
  },
  {
   "cell_type": "code",
   "execution_count": 20,
   "metadata": {},
   "outputs": [],
   "source": [
    "from sklearn.ensemble import VotingClassifier"
   ]
  },
  {
   "cell_type": "code",
   "execution_count": 21,
   "metadata": {},
   "outputs": [],
   "source": [
    "lr = LogisticRegression()\n",
    "dt1 = DecisionTreeClassifier()\n",
    "d2 = DecisionTreeClassifier(criterion = \"entropy\")"
   ]
  },
  {
   "cell_type": "code",
   "execution_count": 22,
   "metadata": {},
   "outputs": [],
   "source": [
    "model_list = [(\"m1\", lr),(\"m2\",dt1),(\"m3\",dt2)] # string -model name, model object"
   ]
  },
  {
   "cell_type": "code",
   "execution_count": 23,
   "metadata": {},
   "outputs": [],
   "source": [
    "vc = VotingClassifier(estimators = model_list) # Hard Voting"
   ]
  },
  {
   "cell_type": "code",
   "execution_count": 24,
   "metadata": {},
   "outputs": [
    {
     "name": "stdout",
     "output_type": "stream",
     "text": [
      "              precision    recall  f1-score   support\n",
      "\n",
      "           0       0.83      0.81      0.82      1763\n",
      "           1       0.79      0.82      0.81      1586\n",
      "\n",
      "    accuracy                           0.81      3349\n",
      "   macro avg       0.81      0.81      0.81      3349\n",
      "weighted avg       0.81      0.81      0.81      3349\n",
      "\n"
     ]
    },
    {
     "data": {
      "text/plain": [
       "VotingClassifier(estimators=[('m1',\n",
       "                              LogisticRegression(C=1.0, class_weight=None,\n",
       "                                                 dual=False, fit_intercept=True,\n",
       "                                                 intercept_scaling=1,\n",
       "                                                 l1_ratio=None, max_iter=100,\n",
       "                                                 multi_class='warn',\n",
       "                                                 n_jobs=None, penalty='l2',\n",
       "                                                 random_state=None,\n",
       "                                                 solver='warn', tol=0.0001,\n",
       "                                                 verbose=0, warm_start=False)),\n",
       "                             ('m2',\n",
       "                              DecisionTreeClassifier(class_weight=None,\n",
       "                                                     criterion='gini',\n",
       "                                                     max_depth=None,...\n",
       "                                                     splitter='best')),\n",
       "                             ('m3',\n",
       "                              DecisionTreeClassifier(class_weight=None,\n",
       "                                                     criterion='gini',\n",
       "                                                     max_depth=10,\n",
       "                                                     max_features=None,\n",
       "                                                     max_leaf_nodes=None,\n",
       "                                                     min_impurity_decrease=0.0,\n",
       "                                                     min_impurity_split=None,\n",
       "                                                     min_samples_leaf=1,\n",
       "                                                     min_samples_split=2,\n",
       "                                                     min_weight_fraction_leaf=0.0,\n",
       "                                                     presort=False,\n",
       "                                                     random_state=None,\n",
       "                                                     splitter='best'))],\n",
       "                 flatten_transform=True, n_jobs=None, voting='hard',\n",
       "                 weights=None)"
      ]
     },
     "execution_count": 24,
     "metadata": {},
     "output_type": "execute_result"
    }
   ],
   "source": [
    "classify(vc)"
   ]
  },
  {
   "cell_type": "code",
   "execution_count": 25,
   "metadata": {},
   "outputs": [],
   "source": [
    "vc2 = VotingClassifier(estimators = model_list, voting = \"soft\")"
   ]
  },
  {
   "cell_type": "code",
   "execution_count": 26,
   "metadata": {},
   "outputs": [
    {
     "name": "stdout",
     "output_type": "stream",
     "text": [
      "              precision    recall  f1-score   support\n",
      "\n",
      "           0       0.83      0.79      0.81      1763\n",
      "           1       0.78      0.82      0.80      1586\n",
      "\n",
      "    accuracy                           0.80      3349\n",
      "   macro avg       0.80      0.81      0.80      3349\n",
      "weighted avg       0.81      0.80      0.80      3349\n",
      "\n"
     ]
    },
    {
     "data": {
      "text/plain": [
       "VotingClassifier(estimators=[('m1',\n",
       "                              LogisticRegression(C=1.0, class_weight=None,\n",
       "                                                 dual=False, fit_intercept=True,\n",
       "                                                 intercept_scaling=1,\n",
       "                                                 l1_ratio=None, max_iter=100,\n",
       "                                                 multi_class='warn',\n",
       "                                                 n_jobs=None, penalty='l2',\n",
       "                                                 random_state=None,\n",
       "                                                 solver='warn', tol=0.0001,\n",
       "                                                 verbose=0, warm_start=False)),\n",
       "                             ('m2',\n",
       "                              DecisionTreeClassifier(class_weight=None,\n",
       "                                                     criterion='gini',\n",
       "                                                     max_depth=None,...\n",
       "                                                     splitter='best')),\n",
       "                             ('m3',\n",
       "                              DecisionTreeClassifier(class_weight=None,\n",
       "                                                     criterion='gini',\n",
       "                                                     max_depth=10,\n",
       "                                                     max_features=None,\n",
       "                                                     max_leaf_nodes=None,\n",
       "                                                     min_impurity_decrease=0.0,\n",
       "                                                     min_impurity_split=None,\n",
       "                                                     min_samples_leaf=1,\n",
       "                                                     min_samples_split=2,\n",
       "                                                     min_weight_fraction_leaf=0.0,\n",
       "                                                     presort=False,\n",
       "                                                     random_state=None,\n",
       "                                                     splitter='best'))],\n",
       "                 flatten_transform=True, n_jobs=None, voting='soft',\n",
       "                 weights=None)"
      ]
     },
     "execution_count": 26,
     "metadata": {},
     "output_type": "execute_result"
    }
   ],
   "source": [
    "classify(vc2)"
   ]
  },
  {
   "cell_type": "markdown",
   "metadata": {},
   "source": [
    "# Bagging"
   ]
  },
  {
   "cell_type": "code",
   "execution_count": 27,
   "metadata": {},
   "outputs": [],
   "source": [
    "from sklearn.ensemble import BaggingClassifier "
   ]
  },
  {
   "cell_type": "code",
   "execution_count": 28,
   "metadata": {},
   "outputs": [],
   "source": [
    "bc = BaggingClassifier(lr, n_estimators = 5, max_samples = 100, random_state = 1)"
   ]
  },
  {
   "cell_type": "code",
   "execution_count": 29,
   "metadata": {},
   "outputs": [
    {
     "name": "stdout",
     "output_type": "stream",
     "text": [
      "              precision    recall  f1-score   support\n",
      "\n",
      "           0       0.79      0.78      0.78      1763\n",
      "           1       0.76      0.76      0.76      1586\n",
      "\n",
      "    accuracy                           0.77      3349\n",
      "   macro avg       0.77      0.77      0.77      3349\n",
      "weighted avg       0.77      0.77      0.77      3349\n",
      "\n"
     ]
    },
    {
     "data": {
      "text/plain": [
       "BaggingClassifier(base_estimator=LogisticRegression(C=1.0, class_weight=None,\n",
       "                                                    dual=False,\n",
       "                                                    fit_intercept=True,\n",
       "                                                    intercept_scaling=1,\n",
       "                                                    l1_ratio=None, max_iter=100,\n",
       "                                                    multi_class='warn',\n",
       "                                                    n_jobs=None, penalty='l2',\n",
       "                                                    random_state=None,\n",
       "                                                    solver='warn', tol=0.0001,\n",
       "                                                    verbose=0,\n",
       "                                                    warm_start=False),\n",
       "                  bootstrap=True, bootstrap_features=False, max_features=1.0,\n",
       "                  max_samples=100, n_estimators=5, n_jobs=None, oob_score=False,\n",
       "                  random_state=1, verbose=0, warm_start=False)"
      ]
     },
     "execution_count": 29,
     "metadata": {},
     "output_type": "execute_result"
    }
   ],
   "source": [
    "classify(bc)"
   ]
  },
  {
   "cell_type": "markdown",
   "metadata": {},
   "source": [
    "# Pasting"
   ]
  },
  {
   "cell_type": "code",
   "execution_count": 30,
   "metadata": {},
   "outputs": [],
   "source": [
    "bc2 = BaggingClassifier(lr, n_estimators = 5, max_samples = 100, random_state = 1, bootstrap = False)"
   ]
  },
  {
   "cell_type": "code",
   "execution_count": 31,
   "metadata": {},
   "outputs": [
    {
     "name": "stdout",
     "output_type": "stream",
     "text": [
      "              precision    recall  f1-score   support\n",
      "\n",
      "           0       0.78      0.79      0.79      1763\n",
      "           1       0.77      0.76      0.76      1586\n",
      "\n",
      "    accuracy                           0.78      3349\n",
      "   macro avg       0.78      0.78      0.78      3349\n",
      "weighted avg       0.78      0.78      0.78      3349\n",
      "\n"
     ]
    },
    {
     "data": {
      "text/plain": [
       "BaggingClassifier(base_estimator=LogisticRegression(C=1.0, class_weight=None,\n",
       "                                                    dual=False,\n",
       "                                                    fit_intercept=True,\n",
       "                                                    intercept_scaling=1,\n",
       "                                                    l1_ratio=None, max_iter=100,\n",
       "                                                    multi_class='warn',\n",
       "                                                    n_jobs=None, penalty='l2',\n",
       "                                                    random_state=None,\n",
       "                                                    solver='warn', tol=0.0001,\n",
       "                                                    verbose=0,\n",
       "                                                    warm_start=False),\n",
       "                  bootstrap=False, bootstrap_features=False, max_features=1.0,\n",
       "                  max_samples=100, n_estimators=5, n_jobs=None, oob_score=False,\n",
       "                  random_state=1, verbose=0, warm_start=False)"
      ]
     },
     "execution_count": 31,
     "metadata": {},
     "output_type": "execute_result"
    }
   ],
   "source": [
    "classify(bc2)"
   ]
  },
  {
   "cell_type": "markdown",
   "metadata": {},
   "source": [
    "# Random Forest"
   ]
  },
  {
   "cell_type": "code",
   "execution_count": 32,
   "metadata": {},
   "outputs": [],
   "source": [
    "from sklearn.ensemble import RandomForestClassifier"
   ]
  },
  {
   "cell_type": "code",
   "execution_count": 33,
   "metadata": {},
   "outputs": [],
   "source": [
    "rf = RandomForestClassifier(n_estimators = 10, max_features = 10, random_state = 1)"
   ]
  },
  {
   "cell_type": "code",
   "execution_count": 34,
   "metadata": {},
   "outputs": [
    {
     "name": "stdout",
     "output_type": "stream",
     "text": [
      "              precision    recall  f1-score   support\n",
      "\n",
      "           0       0.84      0.82      0.83      1763\n",
      "           1       0.81      0.83      0.82      1586\n",
      "\n",
      "    accuracy                           0.82      3349\n",
      "   macro avg       0.82      0.82      0.82      3349\n",
      "weighted avg       0.82      0.82      0.82      3349\n",
      "\n"
     ]
    },
    {
     "data": {
      "text/plain": [
       "RandomForestClassifier(bootstrap=True, class_weight=None, criterion='gini',\n",
       "                       max_depth=None, max_features=10, max_leaf_nodes=None,\n",
       "                       min_impurity_decrease=0.0, min_impurity_split=None,\n",
       "                       min_samples_leaf=1, min_samples_split=2,\n",
       "                       min_weight_fraction_leaf=0.0, n_estimators=10,\n",
       "                       n_jobs=None, oob_score=False, random_state=1, verbose=0,\n",
       "                       warm_start=False)"
      ]
     },
     "execution_count": 34,
     "metadata": {},
     "output_type": "execute_result"
    }
   ],
   "source": [
    "classify(rf)"
   ]
  },
  {
   "cell_type": "code",
   "execution_count": 35,
   "metadata": {},
   "outputs": [
    {
     "name": "stdout",
     "output_type": "stream",
     "text": [
      "Requirement already satisfied: mlxtend in c:\\programdata\\anaconda3\\lib\\site-packages (0.17.0)\n",
      "Requirement already satisfied: joblib>=0.13.2 in c:\\programdata\\anaconda3\\lib\\site-packages (from mlxtend) (0.13.2)\n",
      "Requirement already satisfied: numpy>=1.16.2 in c:\\programdata\\anaconda3\\lib\\site-packages (from mlxtend) (1.16.5)\n",
      "Requirement already satisfied: pandas>=0.24.2 in c:\\programdata\\anaconda3\\lib\\site-packages (from mlxtend) (0.25.1)\n",
      "Requirement already satisfied: setuptools in c:\\programdata\\anaconda3\\lib\\site-packages (from mlxtend) (41.4.0)\n",
      "Requirement already satisfied: matplotlib>=3.0.0 in c:\\programdata\\anaconda3\\lib\\site-packages (from mlxtend) (3.1.1)\n",
      "Requirement already satisfied: scipy>=1.2.1 in c:\\programdata\\anaconda3\\lib\\site-packages (from mlxtend) (1.3.1)\n",
      "Requirement already satisfied: scikit-learn>=0.20.3 in c:\\programdata\\anaconda3\\lib\\site-packages (from mlxtend) (0.21.3)\n",
      "Requirement already satisfied: pytz>=2017.2 in c:\\programdata\\anaconda3\\lib\\site-packages (from pandas>=0.24.2->mlxtend) (2019.3)\n",
      "Requirement already satisfied: python-dateutil>=2.6.1 in c:\\programdata\\anaconda3\\lib\\site-packages (from pandas>=0.24.2->mlxtend) (2.8.0)\n",
      "Requirement already satisfied: cycler>=0.10 in c:\\programdata\\anaconda3\\lib\\site-packages (from matplotlib>=3.0.0->mlxtend) (0.10.0)\n",
      "Requirement already satisfied: kiwisolver>=1.0.1 in c:\\programdata\\anaconda3\\lib\\site-packages (from matplotlib>=3.0.0->mlxtend) (1.1.0)\n",
      "Requirement already satisfied: pyparsing!=2.0.4,!=2.1.2,!=2.1.6,>=2.0.1 in c:\\programdata\\anaconda3\\lib\\site-packages (from matplotlib>=3.0.0->mlxtend) (2.4.2)\n",
      "Requirement already satisfied: six>=1.5 in c:\\programdata\\anaconda3\\lib\\site-packages (from python-dateutil>=2.6.1->pandas>=0.24.2->mlxtend) (1.12.0)\n"
     ]
    }
   ],
   "source": [
    "!pip install mlxtend"
   ]
  },
  {
   "cell_type": "code",
   "execution_count": 36,
   "metadata": {},
   "outputs": [],
   "source": [
    "from mlxtend.classifier import StackingClassifier"
   ]
  },
  {
   "cell_type": "code",
   "execution_count": 37,
   "metadata": {},
   "outputs": [],
   "source": [
    "lr = LogisticRegression()\n",
    "dt1 = DecisionTreeClassifier()\n",
    "dt2 = DecisionTreeClassifier(criterion = 'entropy')"
   ]
  },
  {
   "cell_type": "code",
   "execution_count": 38,
   "metadata": {},
   "outputs": [],
   "source": [
    "model_list = [lr, dt1, dt2]"
   ]
  },
  {
   "cell_type": "code",
   "execution_count": 39,
   "metadata": {},
   "outputs": [],
   "source": [
    "meta = LogisticRegression()"
   ]
  },
  {
   "cell_type": "code",
   "execution_count": 40,
   "metadata": {},
   "outputs": [],
   "source": [
    "sc = StackingClassifier(classifiers = model_list, meta_classifier = meta)"
   ]
  },
  {
   "cell_type": "code",
   "execution_count": 41,
   "metadata": {},
   "outputs": [
    {
     "name": "stdout",
     "output_type": "stream",
     "text": [
      "              precision    recall  f1-score   support\n",
      "\n",
      "           0       0.87      0.71      0.78      1763\n",
      "           1       0.73      0.88      0.80      1586\n",
      "\n",
      "    accuracy                           0.79      3349\n",
      "   macro avg       0.80      0.79      0.79      3349\n",
      "weighted avg       0.80      0.79      0.79      3349\n",
      "\n"
     ]
    },
    {
     "data": {
      "text/plain": [
       "StackingClassifier(average_probas=False,\n",
       "                   classifiers=[LogisticRegression(C=1.0, class_weight=None,\n",
       "                                                   dual=False,\n",
       "                                                   fit_intercept=True,\n",
       "                                                   intercept_scaling=1,\n",
       "                                                   l1_ratio=None, max_iter=100,\n",
       "                                                   multi_class='warn',\n",
       "                                                   n_jobs=None, penalty='l2',\n",
       "                                                   random_state=None,\n",
       "                                                   solver='warn', tol=0.0001,\n",
       "                                                   verbose=0,\n",
       "                                                   warm_start=False),\n",
       "                                DecisionTreeClassifier(class_weight=None,\n",
       "                                                       criterion='gini',\n",
       "                                                       max_...\n",
       "                   meta_classifier=LogisticRegression(C=1.0, class_weight=None,\n",
       "                                                      dual=False,\n",
       "                                                      fit_intercept=True,\n",
       "                                                      intercept_scaling=1,\n",
       "                                                      l1_ratio=None,\n",
       "                                                      max_iter=100,\n",
       "                                                      multi_class='warn',\n",
       "                                                      n_jobs=None, penalty='l2',\n",
       "                                                      random_state=None,\n",
       "                                                      solver='warn', tol=0.0001,\n",
       "                                                      verbose=0,\n",
       "                                                      warm_start=False),\n",
       "                   store_train_meta_features=False, use_clones=True,\n",
       "                   use_features_in_secondary=False, use_probas=False,\n",
       "                   verbose=0)"
      ]
     },
     "execution_count": 41,
     "metadata": {},
     "output_type": "execute_result"
    }
   ],
   "source": [
    "classify(sc)"
   ]
  },
  {
   "cell_type": "markdown",
   "metadata": {},
   "source": [
    "# ADA BOOST"
   ]
  },
  {
   "cell_type": "code",
   "execution_count": 44,
   "metadata": {},
   "outputs": [],
   "source": [
    "from sklearn.ensemble import AdaBoostClassifier"
   ]
  },
  {
   "cell_type": "code",
   "execution_count": 45,
   "metadata": {},
   "outputs": [],
   "source": [
    "ada = AdaBoostClassifier(n_estimators = 100)"
   ]
  },
  {
   "cell_type": "code",
   "execution_count": 46,
   "metadata": {},
   "outputs": [
    {
     "name": "stdout",
     "output_type": "stream",
     "text": [
      "              precision    recall  f1-score   support\n",
      "\n",
      "           0       0.83      0.83      0.83      1763\n",
      "           1       0.81      0.82      0.82      1586\n",
      "\n",
      "    accuracy                           0.83      3349\n",
      "   macro avg       0.82      0.82      0.82      3349\n",
      "weighted avg       0.83      0.83      0.83      3349\n",
      "\n"
     ]
    },
    {
     "data": {
      "text/plain": [
       "AdaBoostClassifier(algorithm='SAMME.R', base_estimator=None, learning_rate=1.0,\n",
       "                   n_estimators=100, random_state=None)"
      ]
     },
     "execution_count": 46,
     "metadata": {},
     "output_type": "execute_result"
    }
   ],
   "source": [
    "classify(ada)"
   ]
  },
  {
   "cell_type": "markdown",
   "metadata": {},
   "source": [
    "# Gradient Boost"
   ]
  },
  {
   "cell_type": "code",
   "execution_count": 48,
   "metadata": {},
   "outputs": [],
   "source": [
    "from sklearn.ensemble import GradientBoostingClassifier"
   ]
  },
  {
   "cell_type": "code",
   "execution_count": 49,
   "metadata": {},
   "outputs": [],
   "source": [
    "gbc = GradientBoostingClassifier(n_estimators = 100)"
   ]
  },
  {
   "cell_type": "code",
   "execution_count": 50,
   "metadata": {},
   "outputs": [
    {
     "name": "stdout",
     "output_type": "stream",
     "text": [
      "              precision    recall  f1-score   support\n",
      "\n",
      "           0       0.87      0.82      0.85      1763\n",
      "           1       0.81      0.87      0.84      1586\n",
      "\n",
      "    accuracy                           0.84      3349\n",
      "   macro avg       0.84      0.84      0.84      3349\n",
      "weighted avg       0.85      0.84      0.84      3349\n",
      "\n"
     ]
    },
    {
     "data": {
      "text/plain": [
       "GradientBoostingClassifier(criterion='friedman_mse', init=None,\n",
       "                           learning_rate=0.1, loss='deviance', max_depth=3,\n",
       "                           max_features=None, max_leaf_nodes=None,\n",
       "                           min_impurity_decrease=0.0, min_impurity_split=None,\n",
       "                           min_samples_leaf=1, min_samples_split=2,\n",
       "                           min_weight_fraction_leaf=0.0, n_estimators=100,\n",
       "                           n_iter_no_change=None, presort='auto',\n",
       "                           random_state=None, subsample=1.0, tol=0.0001,\n",
       "                           validation_fraction=0.1, verbose=0,\n",
       "                           warm_start=False)"
      ]
     },
     "execution_count": 50,
     "metadata": {},
     "output_type": "execute_result"
    }
   ],
   "source": [
    "classify(gbc)"
   ]
  },
  {
   "cell_type": "markdown",
   "metadata": {},
   "source": [
    "# XG Boosting"
   ]
  },
  {
   "cell_type": "code",
   "execution_count": 53,
   "metadata": {},
   "outputs": [
    {
     "name": "stdout",
     "output_type": "stream",
     "text": [
      "Collecting xgboost\n",
      "  Downloading https://files.pythonhosted.org/packages/5e/49/b95c037b717b4ceadc76b6e164603471225c27052d1611d5a2e832757945/xgboost-0.90-py2.py3-none-win_amd64.whl (18.3MB)\n",
      "Requirement already satisfied: scipy in c:\\programdata\\anaconda3\\lib\\site-packages (from xgboost) (1.3.1)\n",
      "Requirement already satisfied: numpy in c:\\programdata\\anaconda3\\lib\\site-packages (from xgboost) (1.16.5)\n",
      "Installing collected packages: xgboost\n",
      "Successfully installed xgboost-0.90\n"
     ]
    }
   ],
   "source": [
    " !pip install xgboost"
   ]
  },
  {
   "cell_type": "code",
   "execution_count": 54,
   "metadata": {},
   "outputs": [],
   "source": [
    "from xgboost import XGBClassifier"
   ]
  },
  {
   "cell_type": "code",
   "execution_count": 56,
   "metadata": {},
   "outputs": [],
   "source": [
    "xc = XGBClassifier(n_estimators = 100, Lambda = 2)"
   ]
  },
  {
   "cell_type": "code",
   "execution_count": 58,
   "metadata": {},
   "outputs": [
    {
     "name": "stdout",
     "output_type": "stream",
     "text": [
      "              precision    recall  f1-score   support\n",
      "\n",
      "           0       0.88      0.82      0.85      1763\n",
      "           1       0.81      0.87      0.84      1586\n",
      "\n",
      "    accuracy                           0.84      3349\n",
      "   macro avg       0.84      0.85      0.84      3349\n",
      "weighted avg       0.85      0.84      0.84      3349\n",
      "\n"
     ]
    },
    {
     "data": {
      "text/plain": [
       "XGBClassifier(Lambda=2, base_score=0.5, booster='gbtree', colsample_bylevel=1,\n",
       "              colsample_bynode=1, colsample_bytree=1, gamma=0,\n",
       "              learning_rate=0.1, max_delta_step=0, max_depth=3,\n",
       "              min_child_weight=1, missing=None, n_estimators=100, n_jobs=1,\n",
       "              nthread=None, objective='binary:logistic', random_state=0,\n",
       "              reg_alpha=0, reg_lambda=1, scale_pos_weight=1, seed=None,\n",
       "              silent=None, subsample=1, verbosity=1)"
      ]
     },
     "execution_count": 58,
     "metadata": {},
     "output_type": "execute_result"
    }
   ],
   "source": [
    "classify(xc)"
   ]
  },
  {
   "cell_type": "code",
   "execution_count": 59,
   "metadata": {},
   "outputs": [],
   "source": [
    "xc = XGBClassifier(n_estimators = 100, alpha = 10)"
   ]
  },
  {
   "cell_type": "code",
   "execution_count": 60,
   "metadata": {},
   "outputs": [
    {
     "name": "stdout",
     "output_type": "stream",
     "text": [
      "              precision    recall  f1-score   support\n",
      "\n",
      "           0       0.88      0.82      0.85      1763\n",
      "           1       0.81      0.87      0.84      1586\n",
      "\n",
      "    accuracy                           0.84      3349\n",
      "   macro avg       0.84      0.85      0.84      3349\n",
      "weighted avg       0.85      0.84      0.84      3349\n",
      "\n"
     ]
    },
    {
     "data": {
      "text/plain": [
       "XGBClassifier(alpha=10, base_score=0.5, booster='gbtree', colsample_bylevel=1,\n",
       "              colsample_bynode=1, colsample_bytree=1, gamma=0,\n",
       "              learning_rate=0.1, max_delta_step=0, max_depth=3,\n",
       "              min_child_weight=1, missing=None, n_estimators=100, n_jobs=1,\n",
       "              nthread=None, objective='binary:logistic', random_state=0,\n",
       "              reg_alpha=0, reg_lambda=1, scale_pos_weight=1, seed=None,\n",
       "              silent=None, subsample=1, verbosity=1)"
      ]
     },
     "execution_count": 60,
     "metadata": {},
     "output_type": "execute_result"
    }
   ],
   "source": [
    "classify(xc)"
   ]
  },
  {
   "cell_type": "code",
   "execution_count": null,
   "metadata": {},
   "outputs": [],
   "source": []
  }
 ],
 "metadata": {
  "kernelspec": {
   "display_name": "Python 3",
   "language": "python",
   "name": "python3"
  },
  "language_info": {
   "codemirror_mode": {
    "name": "ipython",
    "version": 3
   },
   "file_extension": ".py",
   "mimetype": "text/x-python",
   "name": "python",
   "nbconvert_exporter": "python",
   "pygments_lexer": "ipython3",
   "version": "3.7.4"
  }
 },
 "nbformat": 4,
 "nbformat_minor": 2
}
